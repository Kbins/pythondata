{
 "cells": [
  {
   "cell_type": "code",
   "execution_count": 1,
   "id": "1e239968-3467-41fc-93ea-787f5eea3f5a",
   "metadata": {},
   "outputs": [
    {
     "data": {
      "text/plain": [
       "['Life', 'is']"
      ]
     },
     "execution_count": 1,
     "metadata": {},
     "output_type": "execute_result"
    }
   ],
   "source": [
    "a = [1, 2,['Life','is']]\n",
    "a[2]"
   ]
  },
  {
   "cell_type": "code",
   "execution_count": 2,
   "id": "db71fcb0-4f65-47a5-b011-716261979466",
   "metadata": {},
   "outputs": [
    {
     "data": {
      "text/plain": [
       "'life'"
      ]
     },
     "execution_count": 2,
     "metadata": {},
     "output_type": "execute_result"
    }
   ],
   "source": [
    "a = [1, 2,['a','b',['life','is']]]\n",
    "a[2][2][0]"
   ]
  },
  {
   "cell_type": "code",
   "execution_count": 3,
   "id": "9fe9910b-58aa-4a48-8ff0-15000eb919f0",
   "metadata": {},
   "outputs": [],
   "source": [
    "odd = [1, 3, 5, 7, 9]"
   ]
  },
  {
   "cell_type": "code",
   "execution_count": 4,
   "id": "86437b3f-8ee8-415c-acad-ea0264fff4e7",
   "metadata": {},
   "outputs": [
    {
     "data": {
      "text/plain": [
       "[1, 3, 5, 7, 9]"
      ]
     },
     "execution_count": 4,
     "metadata": {},
     "output_type": "execute_result"
    }
   ],
   "source": [
    "odd"
   ]
  },
  {
   "cell_type": "code",
   "execution_count": 5,
   "id": "b0656cc2-b4e2-45ac-87d8-845885891b1b",
   "metadata": {},
   "outputs": [
    {
     "data": {
      "text/plain": [
       "1"
      ]
     },
     "execution_count": 5,
     "metadata": {},
     "output_type": "execute_result"
    }
   ],
   "source": [
    "odd[0]"
   ]
  },
  {
   "cell_type": "code",
   "execution_count": 6,
   "id": "fd4e5c4b-a9d7-483c-935f-ef722c8ff8bf",
   "metadata": {},
   "outputs": [
    {
     "name": "stdout",
     "output_type": "stream",
     "text": [
      "1\n",
      "3\n",
      "5\n",
      "7\n",
      "9\n"
     ]
    }
   ],
   "source": [
    "for i in odd:\n",
    "    print(i)"
   ]
  },
  {
   "cell_type": "code",
   "execution_count": 7,
   "id": "b51ee11f-8718-4af2-81ae-e572492f28e9",
   "metadata": {},
   "outputs": [],
   "source": [
    "a = [1, 2, 3,['a','b','c']]"
   ]
  },
  {
   "cell_type": "code",
   "execution_count": 8,
   "id": "47da12f5-f63c-4ecd-97e0-145ddb035fda",
   "metadata": {},
   "outputs": [
    {
     "data": {
      "text/plain": [
       "'b'"
      ]
     },
     "execution_count": 8,
     "metadata": {},
     "output_type": "execute_result"
    }
   ],
   "source": [
    "a[3][1]"
   ]
  },
  {
   "cell_type": "code",
   "execution_count": 9,
   "id": "f187daa8-0b84-43a0-885b-591949527c12",
   "metadata": {},
   "outputs": [
    {
     "data": {
      "text/plain": [
       "[2, 3]"
      ]
     },
     "execution_count": 9,
     "metadata": {},
     "output_type": "execute_result"
    }
   ],
   "source": [
    "a[1:3]"
   ]
  },
  {
   "cell_type": "code",
   "execution_count": 10,
   "id": "664a239f-f1d0-44b7-8680-2ffba8371e73",
   "metadata": {},
   "outputs": [
    {
     "data": {
      "text/plain": [
       "4"
      ]
     },
     "execution_count": 10,
     "metadata": {},
     "output_type": "execute_result"
    }
   ],
   "source": [
    "len(a)"
   ]
  },
  {
   "cell_type": "code",
   "execution_count": 11,
   "id": "c34f57b8-10e2-4342-b4e8-bb99cd0c8387",
   "metadata": {},
   "outputs": [],
   "source": [
    "a[3]='abc'"
   ]
  },
  {
   "cell_type": "code",
   "execution_count": 12,
   "id": "7723a2f2-ed6b-4f89-8ed9-65c9aa366f65",
   "metadata": {},
   "outputs": [
    {
     "data": {
      "text/plain": [
       "[1, 2, 3, 'abc']"
      ]
     },
     "execution_count": 12,
     "metadata": {},
     "output_type": "execute_result"
    }
   ],
   "source": [
    "a"
   ]
  },
  {
   "cell_type": "code",
   "execution_count": 13,
   "id": "bdd9ea88-685d-45f7-bc9b-a9896c2b7e0f",
   "metadata": {},
   "outputs": [
    {
     "data": {
      "text/plain": [
       "[1, 3, 'abc']"
      ]
     },
     "execution_count": 13,
     "metadata": {},
     "output_type": "execute_result"
    }
   ],
   "source": [
    "del a[1]\n",
    "a"
   ]
  },
  {
   "cell_type": "code",
   "execution_count": 14,
   "id": "15bdf37b-e7a5-4a65-80ba-f6fa5b49e1c2",
   "metadata": {},
   "outputs": [
    {
     "data": {
      "text/plain": [
       "[1, 2, 3, 4]"
      ]
     },
     "execution_count": 14,
     "metadata": {},
     "output_type": "execute_result"
    }
   ],
   "source": [
    "a = [1,4,3,2]\n",
    "a.sort()\n",
    "a"
   ]
  },
  {
   "cell_type": "code",
   "execution_count": 15,
   "id": "cdd5c67f-b46a-4153-b4ea-13703d55f6a2",
   "metadata": {},
   "outputs": [
    {
     "data": {
      "text/plain": [
       "[4, 3, 2, 1]"
      ]
     },
     "execution_count": 15,
     "metadata": {},
     "output_type": "execute_result"
    }
   ],
   "source": [
    "a.sort(reverse=True)\n",
    "a"
   ]
  },
  {
   "cell_type": "code",
   "execution_count": 16,
   "id": "0ef849ca-1c87-461b-95ae-1b8d143ce776",
   "metadata": {},
   "outputs": [
    {
     "data": {
      "text/plain": [
       "[2, 3, 4, 1]"
      ]
     },
     "execution_count": 16,
     "metadata": {},
     "output_type": "execute_result"
    }
   ],
   "source": [
    "a = [1,4,3,2]\n",
    "a.reverse()\n",
    "a"
   ]
  },
  {
   "cell_type": "code",
   "execution_count": 17,
   "id": "b026cabe-eeed-4405-b034-1bcccf9e9c15",
   "metadata": {},
   "outputs": [
    {
     "data": {
      "text/plain": [
       "3"
      ]
     },
     "execution_count": 17,
     "metadata": {},
     "output_type": "execute_result"
    }
   ],
   "source": [
    "a.index(1)"
   ]
  },
  {
   "cell_type": "code",
   "execution_count": 18,
   "id": "3f844666-3f58-49c2-b77b-287e511f8ea1",
   "metadata": {},
   "outputs": [
    {
     "ename": "ValueError",
     "evalue": "0 is not in list",
     "output_type": "error",
     "traceback": [
      "\u001b[1;31m---------------------------------------------------------------------------\u001b[0m",
      "\u001b[1;31mValueError\u001b[0m                                Traceback (most recent call last)",
      "Input \u001b[1;32mIn [18]\u001b[0m, in \u001b[0;36m<cell line: 1>\u001b[1;34m()\u001b[0m\n\u001b[1;32m----> 1\u001b[0m \u001b[43ma\u001b[49m\u001b[38;5;241;43m.\u001b[39;49m\u001b[43mindex\u001b[49m\u001b[43m(\u001b[49m\u001b[38;5;241;43m0\u001b[39;49m\u001b[43m)\u001b[49m\n",
      "\u001b[1;31mValueError\u001b[0m: 0 is not in list"
     ]
    }
   ],
   "source": [
    "a.index(0) #0은 없다"
   ]
  },
  {
   "cell_type": "code",
   "execution_count": null,
   "id": "6c0d19da-5056-4e98-abfe-c3e490c5a7a5",
   "metadata": {},
   "outputs": [],
   "source": [
    "del a[0:2]\n",
    "a"
   ]
  },
  {
   "cell_type": "code",
   "execution_count": null,
   "id": "5d9f38ff-beec-4c90-9fbe-328f79799069",
   "metadata": {},
   "outputs": [],
   "source": [
    "a.insert(0,2)\n",
    "a"
   ]
  },
  {
   "cell_type": "code",
   "execution_count": null,
   "id": "abdb2eed-11da-4cc6-951a-3c61f31c863d",
   "metadata": {},
   "outputs": [],
   "source": [
    "a.insert(0,0)\n",
    "a"
   ]
  },
  {
   "cell_type": "code",
   "execution_count": null,
   "id": "97668a66-4e34-470a-b9d4-298a4845f96a",
   "metadata": {},
   "outputs": [],
   "source": [
    "a.remove(1)\n",
    "a"
   ]
  },
  {
   "cell_type": "code",
   "execution_count": null,
   "id": "aec58dd5-5aca-4b4c-847d-a4caa785908f",
   "metadata": {},
   "outputs": [],
   "source": [
    "a.pop()"
   ]
  },
  {
   "cell_type": "code",
   "execution_count": null,
   "id": "ec64cb70-1441-4982-8dbc-e8771a1d29a3",
   "metadata": {},
   "outputs": [],
   "source": [
    "a"
   ]
  },
  {
   "cell_type": "code",
   "execution_count": null,
   "id": "96d1b512-cd37-47bf-9d9b-dbf69abf69e3",
   "metadata": {},
   "outputs": [],
   "source": [
    "a = [1,2,3,1]\n",
    "a"
   ]
  },
  {
   "cell_type": "code",
   "execution_count": null,
   "id": "638957f7-d4aa-4c50-96f6-1d5cfe8c9e7c",
   "metadata": {},
   "outputs": [],
   "source": [
    "a.count(1)"
   ]
  },
  {
   "cell_type": "code",
   "execution_count": null,
   "id": "b82916f5-5d43-4d4f-a960-58d1ec8057b7",
   "metadata": {},
   "outputs": [],
   "source": [
    "b = [4,5]\n",
    "[1,2,3,4,5,4,5]\n",
    "\n",
    "a.append(b)\n",
    "a"
   ]
  },
  {
   "cell_type": "code",
   "execution_count": null,
   "id": "30f61991-4c03-4996-947a-2ec1f5784289",
   "metadata": {},
   "outputs": [],
   "source": [
    "타자게임\n",
    "데이터 저장 : word = []\n",
    "word리스트에서 문제를 추출하여 제출하면 맞추는 게임\n",
    "- 한 번 출제된 문제는 맞출때까지 반복\n",
    "- 전체 5문제를 출제 다 맞추면 반복"
   ]
  },
  {
   "cell_type": "code",
   "execution_count": null,
   "id": "a65ca12c-b584-4a40-9b23-a07971863e32",
   "metadata": {},
   "outputs": [],
   "source": [
    "import random"
   ]
  },
  {
   "cell_type": "code",
   "execution_count": null,
   "id": "b12934ae-6a1a-4b35-9ab0-216717d39388",
   "metadata": {},
   "outputs": [],
   "source": [
    "word = ['cat','dog','강아지','고양이']\n",
    "random.choice(word)"
   ]
  },
  {
   "cell_type": "code",
   "execution_count": null,
   "id": "9fdc75d3-83d8-46c6-896b-21333d990285",
   "metadata": {},
   "outputs": [],
   "source": [
    "n = 1\n",
    "quiz = random.choice(word)\n",
    "while n <=5:\n",
    "    print(f'{n}번 ')\n",
    "    print(quiz)\n",
    "    result = input('>>>')\n",
    "    if quiz == result:\n",
    "        print('통과')\n",
    "        n += 1\n",
    "        quiz = random.choice(word)\n",
    "    else:\n",
    "        print('오타! 다시 도전!!')\n",
    "print('5문제 완료!!')"
   ]
  },
  {
   "cell_type": "code",
   "execution_count": null,
   "id": "f2a021fa-fad1-4423-b909-829f52c6ecb3",
   "metadata": {},
   "outputs": [],
   "source": [
    "word = ['cat','dog','강아지','고양이']\n",
    "\n",
    "menu_display = '''\n",
    "-----------------------------------------------------\n",
    "1.게임 2.문제추가 3.문제저장 4.등수리스트 5.종료\n",
    "-----------------------------------------------------\n",
    ">>>'''\n",
    "\n",
    "while True:\n",
    "    menu = input(menu_display)\n",
    "    if menu == '1':\n",
    "        print('게임시작')\n",
    "    elif menu == '2':\n",
    "        print('문제추가작업')\n",
    "        while True:\n",
    "            data = input('(종료:endter) >>>')\n",
    "            if data == '':\n",
    "                break\n",
    "            word.append(data)\n",
    "            print(word)\n",
    "    elif menu =='3':\n",
    "        print('문제저장작업')\n",
    "    elif menu =='4':\n",
    "        print('등수리스트')\n",
    "    elif menu =='5':\n",
    "        print('프로그램종료!')\n",
    "        break\n",
    "    else:\n",
    "        print('메뉴를 선택하셨습니다')"
   ]
  },
  {
   "cell_type": "code",
   "execution_count": null,
   "id": "796a4761-8386-498d-b919-1e4c4b211a1d",
   "metadata": {},
   "outputs": [],
   "source": [
    "# 저장\n",
    "import json,pickle"
   ]
  },
  {
   "cell_type": "code",
   "execution_count": null,
   "id": "5a213799-5593-4d73-810d-db87d0336dad",
   "metadata": {},
   "outputs": [],
   "source": [
    "f=open('word.json', 'w')\n",
    "json.dump(word,f)\n",
    "f.close()"
   ]
  },
  {
   "cell_type": "code",
   "execution_count": null,
   "id": "fe86a057-5adf-43c3-89f6-feca03f0f6ba",
   "metadata": {},
   "outputs": [],
   "source": [
    "f = open('word.json','r')\n",
    "word_1= json.load(f)\n",
    "f.close()"
   ]
  },
  {
   "cell_type": "code",
   "execution_count": null,
   "id": "7bc092b5-ecf1-4ee3-894c-cd3d744e643e",
   "metadata": {},
   "outputs": [],
   "source": [
    "word_1"
   ]
  },
  {
   "cell_type": "code",
   "execution_count": null,
   "id": "74770d3d-11c2-4824-b6bb-b2f0fe026fa8",
   "metadata": {},
   "outputs": [],
   "source": [
    "f=open('word.pickle', 'wb')\n",
    "pickle.dump(word,f)\n",
    "f.close()"
   ]
  },
  {
   "cell_type": "code",
   "execution_count": null,
   "id": "417f7973-33f5-4dde-b717-f682262a5d42",
   "metadata": {},
   "outputs": [],
   "source": [
    "f = open('word.pickle','rb')\n",
    "word_2= pickle.load(f)\n",
    "f.close()"
   ]
  },
  {
   "cell_type": "code",
   "execution_count": null,
   "id": "0564aeb9-58b1-4310-bb04-e473fa9996b0",
   "metadata": {},
   "outputs": [],
   "source": [
    "word_2"
   ]
  },
  {
   "cell_type": "code",
   "execution_count": null,
   "id": "96dd2d14-2921-4622-8e40-25fdf83fa959",
   "metadata": {},
   "outputs": [],
   "source": [
    "import time"
   ]
  },
  {
   "cell_type": "code",
   "execution_count": null,
   "id": "c3480f8e-e8e8-4ca3-8652-1a6bedcf6147",
   "metadata": {},
   "outputs": [],
   "source": [
    "time.time()"
   ]
  },
  {
   "cell_type": "code",
   "execution_count": null,
   "id": "056bacc7-68da-4b59-ac7b-8b281545320b",
   "metadata": {},
   "outputs": [],
   "source": [
    "rank={'강동근': 11.932971954345703, '정병윤': 10.767038583755493}\n",
    "sorted(rank)"
   ]
  },
  {
   "cell_type": "code",
   "execution_count": null,
   "id": "da546c51-39d9-4bcb-bb2d-36f518acfa72",
   "metadata": {},
   "outputs": [],
   "source": [
    "rank.items()"
   ]
  },
  {
   "cell_type": "code",
   "execution_count": null,
   "id": "6a192b67-2389-4a7b-a738-bc69beb426be",
   "metadata": {},
   "outputs": [],
   "source": [
    "sorted(rank.items(),key=lambda x : x[1]) #시간이 작은게 먼저 나온다"
   ]
  },
  {
   "cell_type": "code",
   "execution_count": null,
   "id": "3fc4f865-5749-4f58-be52-9292b0674d3a",
   "metadata": {},
   "outputs": [],
   "source": [
    "import json\n",
    "f = open('word.json','r')\n",
    "word = json.load(f)\n",
    "f.close()\n",
    "# word=[]\n",
    "rank={'강동근': 11.932971954345703, '정병윤': 12.767038583755493}\n",
    "\n",
    "menu_display = '''\n",
    "-----------------------------------------------------\n",
    "1.게임 2.문제추가 3.문제저장 4.등수리스트 5.종료\n",
    "-----------------------------------------------------\n",
    ">>>'''\n",
    "\n",
    "while True:\n",
    "    menu = input(menu_display)\n",
    "    if menu == '1':\n",
    "        print('게임시작')\n",
    "        start = time.time()\n",
    "        n = 1\n",
    "        quiz = random.choice(word)\n",
    "        while n <=5:\n",
    "            print(f'{n}번 ')\n",
    "            print(quiz)\n",
    "            result = input('>>>')\n",
    "            if quiz == result:\n",
    "                print('통과')\n",
    "                n += 1\n",
    "                quiz = random.choice(word)\n",
    "            else:\n",
    "                print('오타! 다시 도전!!')\n",
    "        print('5문제 완료!!')\n",
    "        end = time.time()\n",
    "        print(f'걸린 시간 : {end - start:.0f}초')\n",
    "        \n",
    "        name = input('이름을 입력하세요 >>>')\n",
    "        rank[name] = end - start\n",
    "        print(rank)\n",
    "        dic = {'aaa':end - start, 'bbb':end - start}\n",
    "        \n",
    "    elif menu == '2':\n",
    "        print('문제추가작업')\n",
    "        while True:\n",
    "            data = input('(종료:endter) >>>')\n",
    "            if data == '':\n",
    "                break\n",
    "            word.append(data)\n",
    "            print(word)\n",
    "            \n",
    "    elif menu =='3':\n",
    "        print('문제저장작업')\n",
    "         \n",
    "        \n",
    "    elif menu =='4':\n",
    "        print('등수리스트')\n",
    "        for index, (k,v) in enumerate (sorted(rank.items(),key=lambda x : x[1])):\n",
    "            print(f'{index+1}등{k} 시간:{v:.0f}')\n",
    "        \n",
    "    elif menu =='5':\n",
    "        print('프로그램종료!')\n",
    "        f = open('word.json','w')\n",
    "        json.dump(word,f)\n",
    "        f.close()\n",
    "        break\n",
    "    else:\n",
    "        print('메뉴를 선택하셨습니다')"
   ]
  },
  {
   "cell_type": "markdown",
   "id": "a9d5eabd-d76c-4e64-9168-37401e4a86a7",
   "metadata": {},
   "source": [
    "##### 커피 자판기 프로그램\n",
    "1.커피자판기 2.메뉴추가 3.메뉴삭제 4.메뉴목록 5.종료\n",
    "- 프로그램이 시작될때 필요한 정보를 읽어서 시작합니다.\n",
    "- 커피 자판기 무한반복이면서 돈을 입력받고, 메뉴를 선택해서 처리\n",
    "- 메뉴 추가 자판기에서 판매하는 메뉴를 추가하는 기능 (메뉴명,가격)\n",
    "- 메뉴 삭제는 전체 목록을 보여주고 삭제하고자하는 항목을 선택하도록 해서 삭제 처리\n",
    "- 메뉴 목록은 메뉴이름순, 메뉴가격순으로 정렬해서 보여줌.\n",
    "- 종료는 저장할 정보가 있으면 저장하고 종료합니다."
   ]
  },
  {
   "cell_type": "code",
   "execution_count": 12,
   "id": "88c6bf25-78bf-48c3-822d-39f5df9bee0d",
   "metadata": {},
   "outputs": [
    {
     "name": "stdin",
     "output_type": "stream",
     "text": [
      "\n",
      "------------------------------------------------\n",
      "1.커피자판기 2.메뉴추가 3.메뉴삭제 4.메뉴목록 5.종료\n",
      "------------------------------------------------\n",
      "-> 1\n"
     ]
    },
    {
     "name": "stdout",
     "output_type": "stream",
     "text": [
      "커피자판기\n",
      "아메리카노:2,000원 커피라떼:2,900원 카푸치노:2,500원 \n"
     ]
    },
    {
     "name": "stdin",
     "output_type": "stream",
     "text": [
      "메뉴선택 (종료:enter)--> 아메리카노\n",
      "금액 투입 --> 3000\n"
     ]
    },
    {
     "ename": "TypeError",
     "evalue": "'>=' not supported between instances of 'str' and 'int'",
     "output_type": "error",
     "traceback": [
      "\u001b[1;31m---------------------------------------------------------------------------\u001b[0m",
      "\u001b[1;31mTypeError\u001b[0m                                 Traceback (most recent call last)",
      "Input \u001b[1;32mIn [12]\u001b[0m, in \u001b[0;36m<cell line: 10>\u001b[1;34m()\u001b[0m\n\u001b[0;32m     20\u001b[0m money \u001b[38;5;241m=\u001b[39m \u001b[38;5;28minput\u001b[39m(\u001b[38;5;124m'\u001b[39m\u001b[38;5;124m금액 투입 -->\u001b[39m\u001b[38;5;124m'\u001b[39m)\n\u001b[0;32m     21\u001b[0m \u001b[38;5;28;01mif\u001b[39;00m choice \u001b[38;5;129;01min\u001b[39;00m item\u001b[38;5;241m.\u001b[39mkeys():\n\u001b[1;32m---> 23\u001b[0m     \u001b[38;5;28;01mif\u001b[39;00m \u001b[43mmoney\u001b[49m\u001b[38;5;241;43m>\u001b[39;49m\u001b[38;5;241;43m=\u001b[39;49m\u001b[43m \u001b[49m\u001b[43mitem\u001b[49m\u001b[43m[\u001b[49m\u001b[43mchoice\u001b[49m\u001b[43m]\u001b[49m:\n\u001b[0;32m     24\u001b[0m         money\u001b[38;5;241m-\u001b[39m\u001b[38;5;241m=\u001b[39mitem[money]\n\u001b[0;32m     25\u001b[0m         \u001b[38;5;28mprint\u001b[39m(\u001b[38;5;124mf\u001b[39m\u001b[38;5;124m'\u001b[39m\u001b[38;5;132;01m{\u001b[39;00mchoice\u001b[38;5;132;01m}\u001b[39;00m\u001b[38;5;124m 서비스 합니다. 거스름돈은 \u001b[39m\u001b[38;5;132;01m{\u001b[39;00mmoney\u001b[38;5;132;01m}\u001b[39;00m\u001b[38;5;124m'\u001b[39m)\n",
      "\u001b[1;31mTypeError\u001b[0m: '>=' not supported between instances of 'str' and 'int'"
     ]
    }
   ],
   "source": [
    "item = {'아메리카노':2000, '커피라떼': 2900, '카푸치노': 2500}\n",
    "\n",
    "menu = '''\n",
    "------------------------------------------------\n",
    "1.커피자판기 2.메뉴추가 3.메뉴삭제 4.메뉴목록 5.종료\n",
    "------------------------------------------------\n",
    "->'''\n",
    "\n",
    "while True:\n",
    "    coffe_machine = input(menu)\n",
    "    \n",
    "    if coffe_machine == '1':\n",
    "        print('커피자판기')\n",
    "        choice = '선택한 메뉴'\n",
    "        while choice:\n",
    "            for k,v in item.items():\n",
    "                print(f'{k}:{v:,}원',end=' ')\n",
    "            print()\n",
    "            choice = input('메뉴선택 (종료:enter)-->')\n",
    "            money = input('금액 투입 -->')\n",
    "            if choice in item.keys():\n",
    "                \n",
    "                if money>= item[choice]:\n",
    "                    money-=item[choice]\n",
    "                    print(f'{choice} 서비스 합니다. 거스름돈은 {money}')\n",
    "            else:\n",
    "                print('해당 메뉴가 없습니다')\n",
    "                \n",
    "          \n",
    "    elif coffe_machine == '2':\n",
    "        print('메뉴추가')\n",
    "        menu_name = input('메뉴명 -->')\n",
    "        \n",
    "        menu_price = ''\n",
    "        while not menu_price.isdigit():\n",
    "            menu_price = input('메뉴 가격 -->')\n",
    "        menu_price = int(menu_price)\n",
    "        \n",
    "        if menu_name in item.keys():\n",
    "            print(f'{menu_name}메뉴가 있습니다. 수정합니다.')\n",
    "        else:\n",
    "            print(f'{menu_name}메뉴를 추가합니다.')\n",
    "        item[menu_name] = menu_price\n",
    "        print(item)\n",
    "        \n",
    "    elif coffe_machine == '3':\n",
    "        print('메뉴삭제')\n",
    "        menu_name = input('삭제하려는 메뉴명 -->')\n",
    "        if menu_name in item.keys():\n",
    "            print(f'{menu_name} 메뉴를 삭제합니다')\n",
    "            del item[menu_name]\n",
    "        else:\n",
    "            print(f'{menu_name} 메뉴가 없습니다')\n",
    "            print(item)\n",
    "            \n",
    "    elif coffe_machine == '4':\n",
    "        print('메뉴목록')\n",
    "        menu_1 = input('1.메뉴이름순 2.메뉴가격순 -->')\n",
    "        if menu_1 == '1':\n",
    "            for k,v in sorted(item.items(), key=lambda x : x[0]):\n",
    "                print(f'{k:>10} : {v:10,}원')\n",
    "        elif menu_1 =='2':\n",
    "            for k,v in sorted(item.items(), key=lambda x : x[1]):\n",
    "                print(f'{k:>25} : {v:10,}원')\n",
    "    \n",
    "    elif coffe_machine == '5':\n",
    "        print('종료')\n",
    "        break\n",
    "    else:\n",
    "        print('메뉴를 선택하세요')\n",
    "   "
   ]
  },
  {
   "cell_type": "code",
   "execution_count": null,
   "id": "c795e3c0-2515-475c-956f-2779df2241fc",
   "metadata": {},
   "outputs": [],
   "source": []
  },
  {
   "cell_type": "code",
   "execution_count": null,
   "id": "d6e3b9c5-e1c2-4094-a0d8-0c14bdae61d7",
   "metadata": {},
   "outputs": [],
   "source": []
  }
 ],
 "metadata": {
  "kernelspec": {
   "display_name": "Python 3 (ipykernel)",
   "language": "python",
   "name": "python3"
  },
  "language_info": {
   "codemirror_mode": {
    "name": "ipython",
    "version": 3
   },
   "file_extension": ".py",
   "mimetype": "text/x-python",
   "name": "python",
   "nbconvert_exporter": "python",
   "pygments_lexer": "ipython3",
   "version": "3.9.12"
  }
 },
 "nbformat": 4,
 "nbformat_minor": 5
}
