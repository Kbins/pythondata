{
 "cells": [
  {
   "cell_type": "code",
   "execution_count": 1,
   "id": "05759746-c642-48ab-bc1f-b1c9a3c76529",
   "metadata": {},
   "outputs": [],
   "source": [
    "a = 5;\n"
   ]
  },
  {
   "cell_type": "code",
   "execution_count": null,
   "id": "231cf188-9ce4-4955-9750-45f5e4c0f24d",
   "metadata": {},
   "outputs": [],
   "source": [
    "# 몽땅 지웠지 ㅋㅋ"
   ]
  }
 ],
 "metadata": {
  "kernelspec": {
   "display_name": "Python 3 (ipykernel)",
   "language": "python",
   "name": "python3"
  },
  "language_info": {
   "codemirror_mode": {
    "name": "ipython",
    "version": 3
   },
   "file_extension": ".py",
   "mimetype": "text/x-python",
   "name": "python",
   "nbconvert_exporter": "python",
   "pygments_lexer": "ipython3",
   "version": "3.9.12"
  }
 },
 "nbformat": 4,
 "nbformat_minor": 5
}
