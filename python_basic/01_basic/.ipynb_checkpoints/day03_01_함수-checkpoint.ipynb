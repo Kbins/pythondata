{
 "cells": [
  {
   "cell_type": "code",
   "execution_count": 1,
   "id": "64c34251-182d-4f51-9839-259869eed0a5",
   "metadata": {},
   "outputs": [
    {
     "data": {
      "text/plain": [
       "[1, 2, 1, 4, 3, 1, 2, 3, 2, 1, 3, 6]"
      ]
     },
     "execution_count": 1,
     "metadata": {},
     "output_type": "execute_result"
    }
   ],
   "source": [
    "a = [1,2,1,4,3,1,2,3,2,1,3,6]\n",
    "a"
   ]
  },
  {
   "cell_type": "code",
   "execution_count": 2,
   "id": "3ed79827-564c-4189-a987-06009c8a6a2c",
   "metadata": {},
   "outputs": [
    {
     "data": {
      "text/plain": [
       "{1, 2, 3, 4, 6}"
      ]
     },
     "execution_count": 2,
     "metadata": {},
     "output_type": "execute_result"
    }
   ],
   "source": [
    "set(a) #중복값 제거"
   ]
  },
  {
   "cell_type": "code",
   "execution_count": 3,
   "id": "bb49b05e-9f10-4d5f-b281-2e11306d7be2",
   "metadata": {},
   "outputs": [],
   "source": [
    "def add(a,b):\n",
    "    return a+b"
   ]
  },
  {
   "cell_type": "code",
   "execution_count": 4,
   "id": "9c5f4bd2-adb5-498c-b68f-a1294ee3cd5a",
   "metadata": {},
   "outputs": [
    {
     "data": {
      "text/plain": [
       "3"
      ]
     },
     "execution_count": 4,
     "metadata": {},
     "output_type": "execute_result"
    }
   ],
   "source": [
    "add(1,2)"
   ]
  },
  {
   "cell_type": "code",
   "execution_count": 5,
   "id": "13d8b6af-6ea1-45da-8319-40237ad08751",
   "metadata": {},
   "outputs": [
    {
     "ename": "TypeError",
     "evalue": "add() missing 1 required positional argument: 'b'",
     "output_type": "error",
     "traceback": [
      "\u001b[1;31m---------------------------------------------------------------------------\u001b[0m",
      "\u001b[1;31mTypeError\u001b[0m                                 Traceback (most recent call last)",
      "Input \u001b[1;32mIn [5]\u001b[0m, in \u001b[0;36m<cell line: 1>\u001b[1;34m()\u001b[0m\n\u001b[1;32m----> 1\u001b[0m \u001b[43madd\u001b[49m\u001b[43m(\u001b[49m\u001b[38;5;241;43m1\u001b[39;49m\u001b[43m)\u001b[49m\n",
      "\u001b[1;31mTypeError\u001b[0m: add() missing 1 required positional argument: 'b'"
     ]
    }
   ],
   "source": [
    "add(1)"
   ]
  },
  {
   "cell_type": "code",
   "execution_count": null,
   "id": "83ec7ec4-7791-48a7-b65a-8fb6085a32bd",
   "metadata": {},
   "outputs": [],
   "source": [
    "def add(a=1,b=1):\n",
    "    return a/b"
   ]
  },
  {
   "cell_type": "code",
   "execution_count": null,
   "id": "3d037f07-ffde-4734-833b-aeb10e0f8d54",
   "metadata": {},
   "outputs": [],
   "source": [
    "add(b=3,a=5)"
   ]
  },
  {
   "cell_type": "code",
   "execution_count": null,
   "id": "c9359710-4783-479c-9c47-e9c384a75bc9",
   "metadata": {},
   "outputs": [],
   "source": [
    "add()"
   ]
  },
  {
   "cell_type": "code",
   "execution_count": null,
   "id": "4e62fbb2-225c-4e5e-b93c-ddc47671154f",
   "metadata": {},
   "outputs": [],
   "source": [
    "def add_many(*args)\n",
    "    print(args)\n",
    "    result = 0\n",
    "    for i in args:\n",
    "        result = result + i\n",
    "    return reuslt"
   ]
  },
  {
   "cell_type": "code",
   "execution_count": null,
   "id": "51b917c6-3906-4d6b-8a59-4e0321c7dc84",
   "metadata": {},
   "outputs": [],
   "source": [
    "add_many(1,2,3,4,5,6,7,8,9,10)"
   ]
  },
  {
   "cell_type": "code",
   "execution_count": null,
   "id": "f486fb00-3e21-4e49-83b9-ea38bf838a77",
   "metadata": {},
   "outputs": [],
   "source": [
    "#정규표현식"
   ]
  },
  {
   "cell_type": "code",
   "execution_count": 9,
   "id": "b4195a78-1edb-4d94-8b97-264e95ba4547",
   "metadata": {},
   "outputs": [],
   "source": [
    "import re"
   ]
  },
  {
   "cell_type": "code",
   "execution_count": null,
   "id": "2afc7c91-0c66-486a-8dc4-d0eab4b60ffa",
   "metadata": {},
   "outputs": [],
   "source": [
    "p = re.compile('[a-Z]+')\n",
    "m = p.match('python1python')\n",
    "m"
   ]
  },
  {
   "cell_type": "code",
   "execution_count": null,
   "id": "7b70e15d-a77f-4418-a7f1-0bcb23c0ebb1",
   "metadata": {},
   "outputs": [],
   "source": [
    "\n",
    "p = re.compile('[a-Z]+')\n",
    "m = p.search('Python1python')\n",
    "m"
   ]
  },
  {
   "cell_type": "code",
   "execution_count": 6,
   "id": "a44bda83-344c-41df-8c75-391b898e67b4",
   "metadata": {},
   "outputs": [
    {
     "ename": "NameError",
     "evalue": "name 'p' is not defined",
     "output_type": "error",
     "traceback": [
      "\u001b[1;31m---------------------------------------------------------------------------\u001b[0m",
      "\u001b[1;31mNameError\u001b[0m                                 Traceback (most recent call last)",
      "Input \u001b[1;32mIn [6]\u001b[0m, in \u001b[0;36m<cell line: 1>\u001b[1;34m()\u001b[0m\n\u001b[1;32m----> 1\u001b[0m result \u001b[38;5;241m=\u001b[39m \u001b[43mp\u001b[49m\u001b[38;5;241m.\u001b[39mfinddall(\u001b[38;5;124m\"\u001b[39m\u001b[38;5;124mlife is too short\u001b[39m\u001b[38;5;124m\"\u001b[39m)\n\u001b[0;32m      2\u001b[0m reuslt\n",
      "\u001b[1;31mNameError\u001b[0m: name 'p' is not defined"
     ]
    }
   ],
   "source": [
    "result = p.finddall(\"life is too short\")\n",
    "reuslt"
   ]
  },
  {
   "cell_type": "code",
   "execution_count": 17,
   "id": "1ae63290-f43a-4ff6-be85-84f6d4edafcc",
   "metadata": {},
   "outputs": [
    {
     "name": "stdin",
     "output_type": "stream",
     "text": [
      "이메일 asjdgh2@gmail.com\n"
     ]
    },
    {
     "name": "stdout",
     "output_type": "stream",
     "text": [
      "None\n"
     ]
    }
   ],
   "source": [
    "p = re.compile('@$')\n",
    "            \n",
    "email = input('이메일')\n",
    "result = p.match(email)\n",
    "print(result)"
   ]
  }
 ],
 "metadata": {
  "kernelspec": {
   "display_name": "Python 3 (ipykernel)",
   "language": "python",
   "name": "python3"
  },
  "language_info": {
   "codemirror_mode": {
    "name": "ipython",
    "version": 3
   },
   "file_extension": ".py",
   "mimetype": "text/x-python",
   "name": "python",
   "nbconvert_exporter": "python",
   "pygments_lexer": "ipython3",
   "version": "3.9.12"
  }
 },
 "nbformat": 4,
 "nbformat_minor": 5
}
