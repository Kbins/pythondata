{
 "cells": [
  {
   "cell_type": "code",
   "execution_count": null,
   "id": "cec39256-fed4-4105-99f2-4079ecc8a7b0",
   "metadata": {},
   "outputs": [],
   "source": [
    "# # 커피자판기\n",
    "# 1. 커피자판기 2. 메뉴추가 3.메뉴삭제 4.메뉴목록 5.종료\n",
    "# - 프로그램이 시작될때 필요한 정보를 읽어서 시작합니다.\n",
    "# - 커피자판기 무한반복하면서 돈을 입력받고, 메뉴를 선택해서 처리\n",
    "# - 메뉴추가 자판기에서 판매하는 메뉴를 추가하는 기능(메뉴명,가격)\n",
    "# - 메뉴삭제는 전체 목록을 보여주고 삭제하고자하는 항목을 선택하도록 해서 삭제 처리\n",
    "# - 메뉴목록은 메뉴이름순,메뉴가격순으로 정렬해서 보여줌.\n",
    "# - 종료는 메뉴 정보를 저장하고 종료합니다."
   ]
  },
  {
   "cell_type": "code",
   "execution_count": 9,
   "id": "28cd73e4-c16c-4317-a30d-68bd0c069ec1",
   "metadata": {},
   "outputs": [
    {
     "name": "stdin",
     "output_type": "stream",
     "text": [
      "\n",
      "--------------------------------------------------------\n",
      "1.커피자판기   2.메뉴추가  3.메뉴삭제  4.메뉴목록  5.종료\n",
      "--------------------------------------------------------\n",
      ">>>  5\n"
     ]
    }
   ],
   "source": [
    "import coffee_func as cf\n",
    "import os\n",
    "\n",
    "item = cf.data_load('item.json')\n",
    "\n",
    "menu_display = '''\n",
    "--------------------------------------------------------\n",
    "1.커피자판기   2.메뉴추가  3.메뉴삭제  4.메뉴목록  5.종료\n",
    "--------------------------------------------------------\n",
    ">>> '''\n",
    "\n",
    "while True:\n",
    "    menu = input(menu_display)\n",
    "    if menu == '1':\n",
    "        cf.coffee_m(item)\n",
    "    elif menu == '2':\n",
    "        cf.menu_add(item)\n",
    "    elif menu == '3':\n",
    "        cf.menu_del(item)\n",
    "    elif menu == '4':\n",
    "        cf.menu_list(item)\n",
    "    elif menu == '5':\n",
    "        cf.data_save('item.json',item)\n",
    "        break\n",
    "    else:\n",
    "        print('메뉴를 잘못 선택')"
   ]
  },
  {
   "cell_type": "code",
   "execution_count": null,
   "id": "9e0a1cf2-6047-459a-ad45-3ec40010ce53",
   "metadata": {},
   "outputs": [],
   "source": []
  }
 ],
 "metadata": {
  "kernelspec": {
   "display_name": "Python 3 (ipykernel)",
   "language": "python",
   "name": "python3"
  },
  "language_info": {
   "codemirror_mode": {
    "name": "ipython",
    "version": 3
   },
   "file_extension": ".py",
   "mimetype": "text/x-python",
   "name": "python",
   "nbconvert_exporter": "python",
   "pygments_lexer": "ipython3",
   "version": "3.9.12"
  }
 },
 "nbformat": 4,
 "nbformat_minor": 5
}
