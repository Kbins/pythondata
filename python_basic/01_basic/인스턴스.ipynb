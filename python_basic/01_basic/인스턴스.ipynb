{
 "cells": [
  {
   "cell_type": "code",
   "execution_count": 2,
   "id": "6c444aca-1533-4c20-b8c7-16e2be82af53",
   "metadata": {},
   "outputs": [],
   "source": [
    "def two_times(numberList):\n",
    "    result = [ ]\n",
    "    for number in numberList:\n",
    "        result.append(number*2)\n",
    "    return result"
   ]
  },
  {
   "cell_type": "code",
   "execution_count": 3,
   "id": "f059228e-1281-4640-9e8b-c635fbc5cad2",
   "metadata": {},
   "outputs": [],
   "source": [
    "numberList = [1,2,3,4,5]"
   ]
  },
  {
   "cell_type": "code",
   "execution_count": 4,
   "id": "5378c1d2-62c3-4fab-955a-2314cebace39",
   "metadata": {},
   "outputs": [
    {
     "data": {
      "text/plain": [
       "[2, 4, 6, 8, 10]"
      ]
     },
     "execution_count": 4,
     "metadata": {},
     "output_type": "execute_result"
    }
   ],
   "source": [
    "two_times(numberList)"
   ]
  },
  {
   "cell_type": "code",
   "execution_count": 5,
   "id": "c2ee4751-3a1e-4180-9c1f-fd6692b71d8f",
   "metadata": {},
   "outputs": [],
   "source": [
    "def two_times(x):\n",
    "    return x*2"
   ]
  },
  {
   "cell_type": "code",
   "execution_count": 8,
   "id": "8d8ae95c-0821-4987-84c7-b8c7a2e02e3f",
   "metadata": {},
   "outputs": [
    {
     "data": {
      "text/plain": [
       "[2, 4, 6, 8, 10]"
      ]
     },
     "execution_count": 8,
     "metadata": {},
     "output_type": "execute_result"
    }
   ],
   "source": [
    "list(map(two_times, numberList)) #list로 바꾸어 처리"
   ]
  },
  {
   "cell_type": "code",
   "execution_count": 14,
   "id": "d2e11fd3-d6ba-4b29-bc97-34cb458da74c",
   "metadata": {},
   "outputs": [],
   "source": [
    "names = ['홍길동','박철수','김나리']\n",
    "#안녕하세요!       고객님~\n",
    "\n",
    "def hello(x):\n",
    "    return '안녕하세요!' + x + '고객님~'"
   ]
  },
  {
   "cell_type": "code",
   "execution_count": 16,
   "id": "11686c4b-32f8-46ef-abda-381cc5fae040",
   "metadata": {},
   "outputs": [
    {
     "data": {
      "text/plain": [
       "['안녕하세요!홍길동고객님~', '안녕하세요!박철수고객님~', '안녕하세요!김나리고객님~']"
      ]
     },
     "execution_count": 16,
     "metadata": {},
     "output_type": "execute_result"
    }
   ],
   "source": [
    "list(map(hello,names))"
   ]
  },
  {
   "cell_type": "code",
   "execution_count": 20,
   "id": "5bd940ca-a0d0-499d-aa65-87c4b66d1645",
   "metadata": {},
   "outputs": [],
   "source": [
    "names = ['홍길동','박철수','김나리']\n",
    "score = [40,50,76,45]\n",
    "score1 = [50,65,89,75]"
   ]
  },
  {
   "cell_type": "code",
   "execution_count": 22,
   "id": "363cb590-c3e6-4930-b262-4735392a86b9",
   "metadata": {},
   "outputs": [
    {
     "data": {
      "text/plain": [
       "[('홍길동', 40, 50), ('박철수', 50, 65), ('김나리', 76, 89)]"
      ]
     },
     "execution_count": 22,
     "metadata": {},
     "output_type": "execute_result"
    }
   ],
   "source": [
    "list(zip(names,score,score1))"
   ]
  }
 ],
 "metadata": {
  "kernelspec": {
   "display_name": "Python 3 (ipykernel)",
   "language": "python",
   "name": "python3"
  },
  "language_info": {
   "codemirror_mode": {
    "name": "ipython",
    "version": 3
   },
   "file_extension": ".py",
   "mimetype": "text/x-python",
   "name": "python",
   "nbconvert_exporter": "python",
   "pygments_lexer": "ipython3",
   "version": "3.9.12"
  }
 },
 "nbformat": 4,
 "nbformat_minor": 5
}
