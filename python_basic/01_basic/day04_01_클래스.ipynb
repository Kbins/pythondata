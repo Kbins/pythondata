{
 "cells": [
  {
   "cell_type": "code",
   "execution_count": 1,
   "id": "9d9d7188-8b28-499d-ace7-3fa1e550d22c",
   "metadata": {},
   "outputs": [],
   "source": [
    "class FourCal:\n",
    "    def setdata(self,first,second):\n",
    "        self.first =  first\n",
    "        self.second = second\n",
    "    def add(self):\n",
    "        result = self.first + self.second\n",
    "        return result"
   ]
  },
  {
   "cell_type": "code",
   "execution_count": 2,
   "id": "bb776562-8b6b-4c16-a6d1-5e12c4b9fe84",
   "metadata": {},
   "outputs": [],
   "source": [
    "a = FourCal()"
   ]
  },
  {
   "cell_type": "code",
   "execution_count": 3,
   "id": "5af7e554-9e02-4fe0-ae4c-1a4735ebe5a0",
   "metadata": {},
   "outputs": [
    {
     "data": {
      "text/plain": [
       "__main__.FourCal"
      ]
     },
     "execution_count": 3,
     "metadata": {},
     "output_type": "execute_result"
    }
   ],
   "source": [
    "type(a)"
   ]
  },
  {
   "cell_type": "code",
   "execution_count": 4,
   "id": "744295b0-345b-43f6-9fd2-ae518a1d83d6",
   "metadata": {},
   "outputs": [],
   "source": [
    "a.setdata(2,5)"
   ]
  },
  {
   "cell_type": "code",
   "execution_count": 5,
   "id": "1ab17cfb-228f-4a39-a03f-dc8585bb6c40",
   "metadata": {},
   "outputs": [
    {
     "data": {
      "text/plain": [
       "2"
      ]
     },
     "execution_count": 5,
     "metadata": {},
     "output_type": "execute_result"
    }
   ],
   "source": [
    "a.first"
   ]
  },
  {
   "cell_type": "code",
   "execution_count": 6,
   "id": "34677ce8-f1a2-4ccf-9e1c-2a7d22b845ac",
   "metadata": {},
   "outputs": [
    {
     "data": {
      "text/plain": [
       "5"
      ]
     },
     "execution_count": 6,
     "metadata": {},
     "output_type": "execute_result"
    }
   ],
   "source": [
    "a.second"
   ]
  },
  {
   "cell_type": "code",
   "execution_count": 7,
   "id": "0024b825-3c80-43ec-bee7-9c025203cc2a",
   "metadata": {},
   "outputs": [
    {
     "ename": "NameError",
     "evalue": "name 'b' is not defined",
     "output_type": "error",
     "traceback": [
      "\u001b[1;31m---------------------------------------------------------------------------\u001b[0m",
      "\u001b[1;31mNameError\u001b[0m                                 Traceback (most recent call last)",
      "Input \u001b[1;32mIn [7]\u001b[0m, in \u001b[0;36m<cell line: 1>\u001b[1;34m()\u001b[0m\n\u001b[1;32m----> 1\u001b[0m \u001b[43mb\u001b[49m\u001b[38;5;241m.\u001b[39msetdata(\u001b[38;5;241m9\u001b[39m,\u001b[38;5;241m9\u001b[39m)\n",
      "\u001b[1;31mNameError\u001b[0m: name 'b' is not defined"
     ]
    }
   ],
   "source": [
    "b.setdata(9,9)"
   ]
  },
  {
   "cell_type": "code",
   "execution_count": null,
   "id": "adc18e9a-6937-40ed-a737-f7f4ac4ffa46",
   "metadata": {},
   "outputs": [],
   "source": [
    "b.first"
   ]
  },
  {
   "cell_type": "code",
   "execution_count": null,
   "id": "3c67cf16-5367-495a-866b-d0bdfcb5610a",
   "metadata": {},
   "outputs": [],
   "source": [
    "a.second"
   ]
  },
  {
   "cell_type": "code",
   "execution_count": null,
   "id": "83e02b7f-562b-4cb3-885d-ba67601355da",
   "metadata": {},
   "outputs": [],
   "source": [
    "a.setdata(4,8)"
   ]
  },
  {
   "cell_type": "code",
   "execution_count": null,
   "id": "13a301aa-7276-4d79-bf2a-8043fc149ea9",
   "metadata": {},
   "outputs": [],
   "source": [
    "a.first"
   ]
  },
  {
   "cell_type": "code",
   "execution_count": null,
   "id": "751f3a9a-1102-46ec-86bd-82aca61437f1",
   "metadata": {},
   "outputs": [],
   "source": [
    "result = add()"
   ]
  },
  {
   "cell_type": "code",
   "execution_count": null,
   "id": "96df6f94-c981-4f95-937e-391ff1f8cfec",
   "metadata": {},
   "outputs": [],
   "source": [
    "result"
   ]
  },
  {
   "cell_type": "code",
   "execution_count": null,
   "id": "e1316922-f087-4f8f-bbeb-cf1686462014",
   "metadata": {},
   "outputs": [],
   "source": [
    "class FourCal:\n",
    "    def setdata(self,first,second):\n",
    "        self.first =  first\n",
    "        self.second = second\n",
    "    def add(self):\n",
    "        result = self.first + self.second\n",
    "        return result\n",
    "    def __init__(self,first,second):\n",
    "        self.first =  first\n",
    "        self.second = second"
   ]
  },
  {
   "cell_type": "code",
   "execution_count": null,
   "id": "0aa191ca-cf94-4732-ab9f-b45cd4f08306",
   "metadata": {},
   "outputs": [],
   "source": [
    "a = FourCal(0,0)"
   ]
  },
  {
   "cell_type": "code",
   "execution_count": null,
   "id": "63c3e9ab-3319-4cb8-926f-ace53ff7a653",
   "metadata": {},
   "outputs": [],
   "source": [
    "a.first"
   ]
  },
  {
   "cell_type": "code",
   "execution_count": null,
   "id": "5d1d1e80-ed07-461d-9b95-9e16a6ac203c",
   "metadata": {},
   "outputs": [],
   "source": [
    "a.second"
   ]
  },
  {
   "cell_type": "code",
   "execution_count": null,
   "id": "7e9c97b0-4f64-4966-9aa4-340d25e428f0",
   "metadata": {},
   "outputs": [],
   "source": [
    "b = FourCal()"
   ]
  },
  {
   "cell_type": "code",
   "execution_count": null,
   "id": "2a0dbbf0-fdc5-4ffc-9c89-12c58ae99c66",
   "metadata": {},
   "outputs": [],
   "source": [
    "b.first"
   ]
  },
  {
   "cell_type": "code",
   "execution_count": null,
   "id": "db0722fb-41fd-49c7-95e6-cc158726897c",
   "metadata": {},
   "outputs": [],
   "source": [
    "c = FourCal(5)"
   ]
  },
  {
   "cell_type": "code",
   "execution_count": null,
   "id": "edb872d3-7e81-4c33-bb23-89812814d236",
   "metadata": {},
   "outputs": [],
   "source": [
    "c.second"
   ]
  },
  {
   "cell_type": "code",
   "execution_count": null,
   "id": "6c527c86-a898-4fe8-bb88-979a0bebed66",
   "metadata": {},
   "outputs": [],
   "source": [
    "d = FourCal(second=7)"
   ]
  },
  {
   "cell_type": "code",
   "execution_count": null,
   "id": "2a59fa56-4103-4aa5-97b7-5614c32ae393",
   "metadata": {},
   "outputs": [],
   "source": [
    "d.first"
   ]
  },
  {
   "cell_type": "code",
   "execution_count": null,
   "id": "b61b551d-edde-4f26-9461-771e52b90614",
   "metadata": {},
   "outputs": [],
   "source": [
    "d.second"
   ]
  },
  {
   "cell_type": "code",
   "execution_count": null,
   "id": "78c1dc58-9ed5-405c-bc2e-28769a9efd47",
   "metadata": {},
   "outputs": [],
   "source": [
    "class PrintForCal:\n",
    "    def data_print(self):\n",
    "        print('data')\n",
    "        \n",
    "class MoreFourCal(FourCal,PrintForCal):\n",
    "    pass"
   ]
  },
  {
   "cell_type": "code",
   "execution_count": null,
   "id": "077e3d47-50be-4065-8f5b-cda814a2ab23",
   "metadata": {},
   "outputs": [],
   "source": [
    "call = MoreFourCal()"
   ]
  },
  {
   "cell_type": "code",
   "execution_count": null,
   "id": "6978fd54-52b2-49ad-903b-7ab79abf62b5",
   "metadata": {},
   "outputs": [],
   "source": [
    "call.first"
   ]
  },
  {
   "cell_type": "code",
   "execution_count": null,
   "id": "c130cdca-87de-4079-acf1-03d8a0774470",
   "metadata": {},
   "outputs": [],
   "source": [
    "call.second"
   ]
  },
  {
   "cell_type": "code",
   "execution_count": null,
   "id": "de97121a-b10e-44d5-bfcb-ad2cf4319095",
   "metadata": {},
   "outputs": [],
   "source": [
    "call.data_print()"
   ]
  },
  {
   "cell_type": "code",
   "execution_count": null,
   "id": "89f7307c-c064-4f20-9037-3973343accc6",
   "metadata": {},
   "outputs": [],
   "source": [
    "class OverCal(FourCal):\n",
    "    def add(self, first=9,second=9):\n",
    "        print('add')\n",
    "        self.first = first\n",
    "        self.second = second\n",
    "        return self.first + self.second"
   ]
  },
  {
   "cell_type": "code",
   "execution_count": null,
   "id": "7f673490-e0f5-4969-8403-12e6d4a7be3f",
   "metadata": {},
   "outputs": [],
   "source": [
    "c = OverCal()"
   ]
  },
  {
   "cell_type": "code",
   "execution_count": null,
   "id": "ef196ca8-1dc3-45d3-8c0e-add4c0a3b771",
   "metadata": {},
   "outputs": [],
   "source": [
    "c.add()"
   ]
  },
  {
   "cell_type": "code",
   "execution_count": null,
   "id": "e06362f8-812f-4d1c-afec-a9c7862f151b",
   "metadata": {},
   "outputs": [],
   "source": [
    "OverCal.lastname"
   ]
  },
  {
   "cell_type": "code",
   "execution_count": null,
   "id": "0f18f0ea-fcd6-46d3-a006-5bb538724b0b",
   "metadata": {},
   "outputs": [],
   "source": [
    "c.lastname"
   ]
  },
  {
   "cell_type": "code",
   "execution_count": 1,
   "id": "c8016658-8e92-439e-ad9e-479319919093",
   "metadata": {},
   "outputs": [
    {
     "data": {
      "text/plain": [
       "2380641757552"
      ]
     },
     "execution_count": 1,
     "metadata": {},
     "output_type": "execute_result"
    }
   ],
   "source": [
    "a = 3\n",
    "id(3)"
   ]
  },
  {
   "cell_type": "code",
   "execution_count": 2,
   "id": "f7a9ac83-d489-49af-afac-41afb1654c80",
   "metadata": {},
   "outputs": [
    {
     "data": {
      "text/plain": [
       "2380641757552"
      ]
     },
     "execution_count": 2,
     "metadata": {},
     "output_type": "execute_result"
    }
   ],
   "source": [
    "id(a)"
   ]
  },
  {
   "cell_type": "code",
   "execution_count": null,
   "id": "0c54622a-f37f-43eb-a5e2-06cb5db58ee0",
   "metadata": {},
   "outputs": [],
   "source": []
  }
 ],
 "metadata": {
  "kernelspec": {
   "display_name": "Python 3 (ipykernel)",
   "language": "python",
   "name": "python3"
  },
  "language_info": {
   "codemirror_mode": {
    "name": "ipython",
    "version": 3
   },
   "file_extension": ".py",
   "mimetype": "text/x-python",
   "name": "python",
   "nbconvert_exporter": "python",
   "pygments_lexer": "ipython3",
   "version": "3.9.12"
  }
 },
 "nbformat": 4,
 "nbformat_minor": 5
}
