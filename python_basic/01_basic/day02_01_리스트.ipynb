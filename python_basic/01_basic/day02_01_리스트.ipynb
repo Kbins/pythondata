{
 "cells": [
  {
   "cell_type": "code",
   "execution_count": 1,
   "id": "0487ddb6-6dbe-4cb9-a3a5-4214a6d22cfb",
   "metadata": {},
   "outputs": [],
   "source": [
    "odd = [1,3,5,7,9]"
   ]
  },
  {
   "cell_type": "code",
   "execution_count": 2,
   "id": "61fa10c7-84f7-4489-990d-f38142885a6e",
   "metadata": {},
   "outputs": [
    {
     "data": {
      "text/plain": [
       "[1, 3, 5, 7, 9]"
      ]
     },
     "execution_count": 2,
     "metadata": {},
     "output_type": "execute_result"
    }
   ],
   "source": [
    "odd"
   ]
  },
  {
   "cell_type": "code",
   "execution_count": 3,
   "id": "a2c861b9-22ac-48af-aaf4-c14d05525a37",
   "metadata": {},
   "outputs": [
    {
     "data": {
      "text/plain": [
       "1"
      ]
     },
     "execution_count": 3,
     "metadata": {},
     "output_type": "execute_result"
    }
   ],
   "source": [
    "odd[0]"
   ]
  },
  {
   "cell_type": "code",
   "execution_count": 4,
   "id": "1a9d2018-cad7-4c30-b448-ef80fafd86a9",
   "metadata": {},
   "outputs": [
    {
     "name": "stdout",
     "output_type": "stream",
     "text": [
      "1\n",
      "3\n",
      "5\n",
      "7\n",
      "9\n"
     ]
    }
   ],
   "source": [
    "for i in odd:\n",
    "    print(i)"
   ]
  },
  {
   "cell_type": "code",
   "execution_count": 5,
   "id": "a51e9ac3-279a-4774-ad4a-c4e9c8f49a4d",
   "metadata": {},
   "outputs": [],
   "source": [
    " a = [1, 2, 3, ['a', 'b', 'c']]"
   ]
  },
  {
   "cell_type": "code",
   "execution_count": 6,
   "id": "0ca0fbf4-747d-462e-83f0-cee777fa4152",
   "metadata": {},
   "outputs": [
    {
     "data": {
      "text/plain": [
       "'b'"
      ]
     },
     "execution_count": 6,
     "metadata": {},
     "output_type": "execute_result"
    }
   ],
   "source": [
    "a[3][1]"
   ]
  },
  {
   "cell_type": "code",
   "execution_count": 7,
   "id": "6a866e55-1800-4cf2-ad87-8ba3f8884b9a",
   "metadata": {},
   "outputs": [
    {
     "data": {
      "text/plain": [
       "[2, 3]"
      ]
     },
     "execution_count": 7,
     "metadata": {},
     "output_type": "execute_result"
    }
   ],
   "source": [
    "a[1:3]"
   ]
  },
  {
   "cell_type": "code",
   "execution_count": 8,
   "id": "d1f7de6d-a80a-45f2-8a22-28b0d46fec08",
   "metadata": {},
   "outputs": [
    {
     "data": {
      "text/plain": [
       "4"
      ]
     },
     "execution_count": 8,
     "metadata": {},
     "output_type": "execute_result"
    }
   ],
   "source": [
    "len(a)"
   ]
  },
  {
   "cell_type": "code",
   "execution_count": 9,
   "id": "073d3a6f-d85c-44a8-8f6c-1a25b494a5d4",
   "metadata": {},
   "outputs": [],
   "source": [
    "a[3]='abc'"
   ]
  },
  {
   "cell_type": "code",
   "execution_count": 10,
   "id": "473ce850-c59a-49cc-9f30-539d176a6e75",
   "metadata": {},
   "outputs": [
    {
     "data": {
      "text/plain": [
       "[1, 2, 3, 'abc']"
      ]
     },
     "execution_count": 10,
     "metadata": {},
     "output_type": "execute_result"
    }
   ],
   "source": [
    "a"
   ]
  },
  {
   "cell_type": "code",
   "execution_count": 11,
   "id": "29fdde98-966c-4994-9129-b644be8a3d31",
   "metadata": {},
   "outputs": [],
   "source": [
    "del a[1]"
   ]
  },
  {
   "cell_type": "code",
   "execution_count": 12,
   "id": "a47698d4-c7f9-4c64-ac63-7b7e3d986d47",
   "metadata": {},
   "outputs": [
    {
     "data": {
      "text/plain": [
       "[1, 3, 'abc']"
      ]
     },
     "execution_count": 12,
     "metadata": {},
     "output_type": "execute_result"
    }
   ],
   "source": [
    "a"
   ]
  },
  {
   "cell_type": "code",
   "execution_count": 13,
   "id": "4763d72d-89bf-40fd-aa8b-dc505ac45784",
   "metadata": {},
   "outputs": [],
   "source": [
    "del a"
   ]
  },
  {
   "cell_type": "code",
   "execution_count": 14,
   "id": "1a4edf06-f889-4f31-85d6-a9039d73546e",
   "metadata": {},
   "outputs": [
    {
     "ename": "NameError",
     "evalue": "name 'a' is not defined",
     "output_type": "error",
     "traceback": [
      "\u001b[1;31m---------------------------------------------------------------------------\u001b[0m",
      "\u001b[1;31mNameError\u001b[0m                                 Traceback (most recent call last)",
      "Input \u001b[1;32mIn [14]\u001b[0m, in \u001b[0;36m<cell line: 1>\u001b[1;34m()\u001b[0m\n\u001b[1;32m----> 1\u001b[0m \u001b[43ma\u001b[49m\n",
      "\u001b[1;31mNameError\u001b[0m: name 'a' is not defined"
     ]
    }
   ],
   "source": [
    "a"
   ]
  },
  {
   "cell_type": "code",
   "execution_count": 15,
   "id": "e2495d66-7cc1-4f74-ac22-5081cfb268ee",
   "metadata": {},
   "outputs": [
    {
     "data": {
      "text/plain": [
       "[1, 2, 3, 4]"
      ]
     },
     "execution_count": 15,
     "metadata": {},
     "output_type": "execute_result"
    }
   ],
   "source": [
    "a = [1, 2, 3]\n",
    "a.append(4)\n",
    "a"
   ]
  },
  {
   "cell_type": "code",
   "execution_count": 16,
   "id": "a135011e-f6d6-489b-be29-93c9711d9ebd",
   "metadata": {},
   "outputs": [],
   "source": [
    "a.append(5)"
   ]
  },
  {
   "cell_type": "code",
   "execution_count": 17,
   "id": "33258519-e4b8-4506-bc14-5422603a98b7",
   "metadata": {},
   "outputs": [
    {
     "data": {
      "text/plain": [
       "[1, 2, 3, 4, 5]"
      ]
     },
     "execution_count": 17,
     "metadata": {},
     "output_type": "execute_result"
    }
   ],
   "source": [
    "a"
   ]
  },
  {
   "cell_type": "code",
   "execution_count": 18,
   "id": "70780a0c-0fa6-41d9-a25d-d6cdfdb45556",
   "metadata": {},
   "outputs": [],
   "source": [
    "a = [1, 4, 3, 2]"
   ]
  },
  {
   "cell_type": "code",
   "execution_count": 19,
   "id": "92694c1f-f8b8-4dbe-9246-35e4955f1222",
   "metadata": {},
   "outputs": [],
   "source": [
    "a.sort()"
   ]
  },
  {
   "cell_type": "code",
   "execution_count": 20,
   "id": "3bba37a3-8111-446c-99f5-b46e555ddf61",
   "metadata": {},
   "outputs": [
    {
     "data": {
      "text/plain": [
       "[1, 2, 3, 4]"
      ]
     },
     "execution_count": 20,
     "metadata": {},
     "output_type": "execute_result"
    }
   ],
   "source": [
    "a"
   ]
  },
  {
   "cell_type": "code",
   "execution_count": 21,
   "id": "ca0c2d7c-d94c-447c-8d99-e5fe876ae905",
   "metadata": {},
   "outputs": [
    {
     "data": {
      "text/plain": [
       "[4, 3, 2, 1]"
      ]
     },
     "execution_count": 21,
     "metadata": {},
     "output_type": "execute_result"
    }
   ],
   "source": [
    "a.sort(reverse=True)\n",
    "a"
   ]
  },
  {
   "cell_type": "code",
   "execution_count": 22,
   "id": "8b6fd73f-9179-416b-a136-b7d920d4925b",
   "metadata": {},
   "outputs": [],
   "source": [
    "a = [1, 4, 3, 2]\n",
    "a.reverse()"
   ]
  },
  {
   "cell_type": "code",
   "execution_count": 23,
   "id": "a7450ef2-65ef-4589-adbd-475a9268a490",
   "metadata": {},
   "outputs": [
    {
     "data": {
      "text/plain": [
       "[2, 3, 4, 1]"
      ]
     },
     "execution_count": 23,
     "metadata": {},
     "output_type": "execute_result"
    }
   ],
   "source": [
    "a"
   ]
  },
  {
   "cell_type": "code",
   "execution_count": 24,
   "id": "5f22dbd0-f3c1-4f43-8136-7cee001ab86d",
   "metadata": {},
   "outputs": [
    {
     "data": {
      "text/plain": [
       "[2, 3, 4, 1]"
      ]
     },
     "execution_count": 24,
     "metadata": {},
     "output_type": "execute_result"
    }
   ],
   "source": [
    "a"
   ]
  },
  {
   "cell_type": "code",
   "execution_count": 25,
   "id": "5a05b1e0-726d-4d16-9de8-a4dc276f11f9",
   "metadata": {},
   "outputs": [
    {
     "data": {
      "text/plain": [
       "3"
      ]
     },
     "execution_count": 25,
     "metadata": {},
     "output_type": "execute_result"
    }
   ],
   "source": [
    "a.index(1)"
   ]
  },
  {
   "cell_type": "code",
   "execution_count": 26,
   "id": "d57f7dd2-7571-4253-a7d7-77423fecaf60",
   "metadata": {},
   "outputs": [
    {
     "ename": "ValueError",
     "evalue": "0 is not in list",
     "output_type": "error",
     "traceback": [
      "\u001b[1;31m---------------------------------------------------------------------------\u001b[0m",
      "\u001b[1;31mValueError\u001b[0m                                Traceback (most recent call last)",
      "Input \u001b[1;32mIn [26]\u001b[0m, in \u001b[0;36m<cell line: 1>\u001b[1;34m()\u001b[0m\n\u001b[1;32m----> 1\u001b[0m \u001b[43ma\u001b[49m\u001b[38;5;241;43m.\u001b[39;49m\u001b[43mindex\u001b[49m\u001b[43m(\u001b[49m\u001b[38;5;241;43m0\u001b[39;49m\u001b[43m)\u001b[49m\n",
      "\u001b[1;31mValueError\u001b[0m: 0 is not in list"
     ]
    }
   ],
   "source": [
    "a.index(0)"
   ]
  },
  {
   "cell_type": "code",
   "execution_count": 27,
   "id": "a77a23b0-fd57-4578-bea7-36d09a42b0fb",
   "metadata": {},
   "outputs": [
    {
     "data": {
      "text/plain": [
       "[2, 3, 4, 1]"
      ]
     },
     "execution_count": 27,
     "metadata": {},
     "output_type": "execute_result"
    }
   ],
   "source": [
    "a"
   ]
  },
  {
   "cell_type": "code",
   "execution_count": 28,
   "id": "a38d6373-17fc-413f-9d7f-cfd833a02dbf",
   "metadata": {},
   "outputs": [],
   "source": [
    "a.insert(0,0)"
   ]
  },
  {
   "cell_type": "code",
   "execution_count": 29,
   "id": "af18177a-b87c-4fd3-98a1-0c797f8011e4",
   "metadata": {},
   "outputs": [
    {
     "data": {
      "text/plain": [
       "[0, 2, 3, 4, 1]"
      ]
     },
     "execution_count": 29,
     "metadata": {},
     "output_type": "execute_result"
    }
   ],
   "source": [
    "a"
   ]
  },
  {
   "cell_type": "code",
   "execution_count": 30,
   "id": "b39f6374-1352-45d0-82dd-d03c976b6dc6",
   "metadata": {},
   "outputs": [
    {
     "data": {
      "text/plain": [
       "[0, 2, 3, 4]"
      ]
     },
     "execution_count": 30,
     "metadata": {},
     "output_type": "execute_result"
    }
   ],
   "source": [
    "#del a[2]\n",
    "a.remove(1)\n",
    "a"
   ]
  },
  {
   "cell_type": "code",
   "execution_count": 31,
   "id": "88b5cd2c-11be-4fe6-a6ed-7da8be5fd461",
   "metadata": {},
   "outputs": [
    {
     "data": {
      "text/plain": [
       "4"
      ]
     },
     "execution_count": 31,
     "metadata": {},
     "output_type": "execute_result"
    }
   ],
   "source": [
    "a.pop()"
   ]
  },
  {
   "cell_type": "code",
   "execution_count": 32,
   "id": "9c8d3011-2d3e-418d-89fe-9c99472e7d5e",
   "metadata": {},
   "outputs": [
    {
     "data": {
      "text/plain": [
       "[0, 2, 3]"
      ]
     },
     "execution_count": 32,
     "metadata": {},
     "output_type": "execute_result"
    }
   ],
   "source": [
    "a"
   ]
  },
  {
   "cell_type": "code",
   "execution_count": 33,
   "id": "f917756e-0ee9-452c-af74-ddc78d322a9d",
   "metadata": {},
   "outputs": [],
   "source": [
    "a = [1,2,3,1]"
   ]
  },
  {
   "cell_type": "code",
   "execution_count": 34,
   "id": "bb0e6417-aa34-4a4b-9499-55ab62b14ab0",
   "metadata": {},
   "outputs": [
    {
     "data": {
      "text/plain": [
       "[1, 2, 3, 1]"
      ]
     },
     "execution_count": 34,
     "metadata": {},
     "output_type": "execute_result"
    }
   ],
   "source": [
    "a"
   ]
  },
  {
   "cell_type": "code",
   "execution_count": 35,
   "id": "e5d3931f-eff5-44a5-bfd3-e79cfdb4d28c",
   "metadata": {},
   "outputs": [
    {
     "data": {
      "text/plain": [
       "2"
      ]
     },
     "execution_count": 35,
     "metadata": {},
     "output_type": "execute_result"
    }
   ],
   "source": [
    "a.count(1)"
   ]
  },
  {
   "cell_type": "code",
   "execution_count": 36,
   "id": "83f00184-a2bc-4a4b-a794-6dcef3b4edcf",
   "metadata": {},
   "outputs": [
    {
     "data": {
      "text/plain": [
       "0"
      ]
     },
     "execution_count": 36,
     "metadata": {},
     "output_type": "execute_result"
    }
   ],
   "source": [
    "a.count(0)"
   ]
  },
  {
   "cell_type": "code",
   "execution_count": 37,
   "id": "cca90170-b30f-4cac-bc97-f937aca9be93",
   "metadata": {},
   "outputs": [],
   "source": [
    "a = [1,2,3]\n",
    "b = [4,5]\n",
    "a.extend(b)"
   ]
  },
  {
   "cell_type": "code",
   "execution_count": 38,
   "id": "2cf3b24c-cf1f-4336-b300-60db91655b7b",
   "metadata": {},
   "outputs": [
    {
     "data": {
      "text/plain": [
       "[1, 2, 3, 4, 5]"
      ]
     },
     "execution_count": 38,
     "metadata": {},
     "output_type": "execute_result"
    }
   ],
   "source": [
    "a"
   ]
  },
  {
   "cell_type": "code",
   "execution_count": 39,
   "id": "0c745028-af99-4acf-8846-6cd3a03f21a8",
   "metadata": {},
   "outputs": [
    {
     "data": {
      "text/plain": [
       "[1, 2, 3, 4, 5, 4, 5]"
      ]
     },
     "execution_count": 39,
     "metadata": {},
     "output_type": "execute_result"
    }
   ],
   "source": [
    "a+b"
   ]
  },
  {
   "cell_type": "code",
   "execution_count": 40,
   "id": "fc82ce56-55a2-4779-a2c7-13cfd1694e19",
   "metadata": {},
   "outputs": [],
   "source": [
    "a.append(b)"
   ]
  },
  {
   "cell_type": "code",
   "execution_count": 41,
   "id": "5e0ca2d4-42ed-48d2-b6df-0b57b7725e8e",
   "metadata": {},
   "outputs": [
    {
     "data": {
      "text/plain": [
       "[1, 2, 3, 4, 5, [4, 5]]"
      ]
     },
     "execution_count": 41,
     "metadata": {},
     "output_type": "execute_result"
    }
   ],
   "source": [
    "a"
   ]
  },
  {
   "cell_type": "raw",
   "id": "dc0c9210-f9a7-40fc-9735-f1f96ec2fdea",
   "metadata": {},
   "source": [
    "타자게임\n",
    "데이터 저장 : word = []\n",
    "word  리스트에서 문제를 추출하여 제출하면 맞추는 게임\n",
    "- 한번 출제된 문제는 맞출때까지 반복\n",
    "- 전체 5문제를 출제 다 맞추면 종료"
   ]
  },
  {
   "cell_type": "code",
   "execution_count": 42,
   "id": "c9ba40cc-fab8-4b33-b634-6cb4c579ce63",
   "metadata": {},
   "outputs": [],
   "source": [
    "import random"
   ]
  },
  {
   "cell_type": "code",
   "execution_count": 101,
   "id": "ae4e3f3b-5820-49c7-a59c-763da4d0048b",
   "metadata": {},
   "outputs": [
    {
     "data": {
      "text/plain": [
       "'dog'"
      ]
     },
     "execution_count": 101,
     "metadata": {},
     "output_type": "execute_result"
    }
   ],
   "source": [
    "word = ['cat','dog','강아지','고양이']\n",
    "random.choice(word)"
   ]
  },
  {
   "cell_type": "code",
   "execution_count": 96,
   "id": "13bdd9fa-2c37-4c25-a9f5-3d461c33a831",
   "metadata": {
    "collapsed": true,
    "jupyter": {
     "outputs_hidden": true
    },
    "tags": []
   },
   "outputs": [
    {
     "name": "stdout",
     "output_type": "stream",
     "text": [
      "1번\n",
      "강아지\n"
     ]
    },
    {
     "name": "stdin",
     "output_type": "stream",
     "text": [
      ">>> rkddkwl\n"
     ]
    },
    {
     "name": "stdout",
     "output_type": "stream",
     "text": [
      "오타! 다시도전!\n",
      "1번\n",
      "강아지\n"
     ]
    },
    {
     "name": "stdin",
     "output_type": "stream",
     "text": [
      ">>> 강아지\n"
     ]
    },
    {
     "name": "stdout",
     "output_type": "stream",
     "text": [
      "통과!\n",
      "2번\n",
      "강아지\n"
     ]
    },
    {
     "name": "stdin",
     "output_type": "stream",
     "text": [
      ">>> 강아지\n"
     ]
    },
    {
     "name": "stdout",
     "output_type": "stream",
     "text": [
      "통과!\n",
      "3번\n",
      "고양이\n"
     ]
    },
    {
     "name": "stdin",
     "output_type": "stream",
     "text": [
      ">>> 고양이\n"
     ]
    },
    {
     "name": "stdout",
     "output_type": "stream",
     "text": [
      "통과!\n",
      "4번\n",
      "dog\n"
     ]
    },
    {
     "name": "stdin",
     "output_type": "stream",
     "text": [
      ">>> dog\n"
     ]
    },
    {
     "name": "stdout",
     "output_type": "stream",
     "text": [
      "통과!\n",
      "5번\n",
      "고양이\n"
     ]
    },
    {
     "name": "stdin",
     "output_type": "stream",
     "text": [
      ">>> 고양이\n"
     ]
    },
    {
     "name": "stdout",
     "output_type": "stream",
     "text": [
      "통과!\n"
     ]
    }
   ],
   "source": [
    "n = 1\n",
    "quiz = random.choice(word)\n",
    "while n <= 5:\n",
    "    print(f'{n}번')\n",
    "    print(quiz)\n",
    "    result = input('>>>')\n",
    "    if quiz == result:\n",
    "        print('통과!')\n",
    "        n += 1\n",
    "        quiz = random.choice(word)\n",
    "    else:\n",
    "        print('오타! 다시도전!')\n",
    "print('5문제 완료!!')"
   ]
  },
  {
   "cell_type": "code",
   "execution_count": 99,
   "id": "d9eace0f-dc2a-4cd4-a390-9133f556c9b7",
   "metadata": {},
   "outputs": [],
   "source": [
    "# 저장\n",
    "import json,pickle"
   ]
  },
  {
   "cell_type": "code",
   "execution_count": 102,
   "id": "f36252f3-4f02-447a-8f37-653ed16d0df2",
   "metadata": {},
   "outputs": [],
   "source": [
    "f = open('word.json','w')\n",
    "json.dump(word,f)\n",
    "f.close()"
   ]
  },
  {
   "cell_type": "code",
   "execution_count": 103,
   "id": "309446d8-4700-4a11-9076-4b409cea598d",
   "metadata": {},
   "outputs": [],
   "source": [
    "f = open('word.json','r')\n",
    "word_1 = json.load(f)\n",
    "f.close()"
   ]
  },
  {
   "cell_type": "code",
   "execution_count": 104,
   "id": "cfe01c7d-5387-4fd5-8b33-0f7c1bfaeaec",
   "metadata": {},
   "outputs": [
    {
     "data": {
      "text/plain": [
       "['cat', 'dog', '강아지', '고양이', '노트', '컵']"
      ]
     },
     "execution_count": 104,
     "metadata": {},
     "output_type": "execute_result"
    }
   ],
   "source": [
    "word_1"
   ]
  },
  {
   "cell_type": "code",
   "execution_count": 105,
   "id": "946bc379-a23e-4133-af00-f882533fcb1f",
   "metadata": {},
   "outputs": [],
   "source": [
    "f = open('word.pickle','wb')\n",
    "pickle.dump(word,f)\n",
    "f.close()"
   ]
  },
  {
   "cell_type": "code",
   "execution_count": 106,
   "id": "01b0ea73-5a43-4eb0-b303-97e779106221",
   "metadata": {},
   "outputs": [],
   "source": [
    "f = open('word.pickle','rb')\n",
    "word_2 = pickle.load(f)\n",
    "f.close()"
   ]
  },
  {
   "cell_type": "code",
   "execution_count": 107,
   "id": "3967a748-7678-4279-a3f0-a265f42b9356",
   "metadata": {},
   "outputs": [
    {
     "data": {
      "text/plain": [
       "['cat', 'dog', '강아지', '고양이']"
      ]
     },
     "execution_count": 107,
     "metadata": {},
     "output_type": "execute_result"
    }
   ],
   "source": [
    "word_2"
   ]
  },
  {
   "cell_type": "code",
   "execution_count": 109,
   "id": "9ca367e2-6292-48b8-a5cd-851d3917faec",
   "metadata": {},
   "outputs": [],
   "source": [
    "import time"
   ]
  },
  {
   "cell_type": "code",
   "execution_count": 111,
   "id": "964096a6-fff4-4c3c-b4e9-91f61ebf8823",
   "metadata": {},
   "outputs": [
    {
     "data": {
      "text/plain": [
       "1656385037.8159454"
      ]
     },
     "execution_count": 111,
     "metadata": {},
     "output_type": "execute_result"
    }
   ],
   "source": [
    "time.time()"
   ]
  },
  {
   "cell_type": "code",
   "execution_count": 1,
   "id": "66534861-824a-464c-af1a-f8b7c6de576c",
   "metadata": {},
   "outputs": [
    {
     "data": {
      "text/plain": [
       "['aaa', 'bbb']"
      ]
     },
     "execution_count": 1,
     "metadata": {},
     "output_type": "execute_result"
    }
   ],
   "source": [
    "rank = {'aaa': 11.477029085159302, 'bbb': 7.897187948226929}\n",
    "sorted(rank)"
   ]
  },
  {
   "cell_type": "code",
   "execution_count": 2,
   "id": "05bf2131-c8c5-4bff-b058-81627ba18dba",
   "metadata": {},
   "outputs": [
    {
     "data": {
      "text/plain": [
       "dict_items([('aaa', 11.477029085159302), ('bbb', 7.897187948226929)])"
      ]
     },
     "execution_count": 2,
     "metadata": {},
     "output_type": "execute_result"
    }
   ],
   "source": [
    "rank.items()"
   ]
  },
  {
   "cell_type": "code",
   "execution_count": 3,
   "id": "23f4c04e-daa8-4bdf-9804-a28e0f89e65d",
   "metadata": {},
   "outputs": [
    {
     "data": {
      "text/plain": [
       "[('bbb', 7.897187948226929), ('aaa', 11.477029085159302)]"
      ]
     },
     "execution_count": 3,
     "metadata": {},
     "output_type": "execute_result"
    }
   ],
   "source": [
    "sorted(rank.items(),key=lambda x : x[1])"
   ]
  },
  {
   "cell_type": "code",
   "execution_count": 9,
   "id": "d303ab11-78aa-40b3-9d3f-22147b030890",
   "metadata": {
    "tags": []
   },
   "outputs": [
    {
     "name": "stdin",
     "output_type": "stream",
     "text": [
      "\n",
      "------------------------------------------------------\n",
      "1.게임   2.문제추가  3.문제저장 4.등수리스트  5.종료\n",
      "------------------------------------------------------\n",
      ">>>  4\n"
     ]
    },
    {
     "name": "stdout",
     "output_type": "stream",
     "text": [
      "등수리스트\n",
      "1등 bbb 시간:8\n",
      "2등 aaa 시간:11\n"
     ]
    },
    {
     "name": "stdin",
     "output_type": "stream",
     "text": [
      "\n",
      "------------------------------------------------------\n",
      "1.게임   2.문제추가  3.문제저장 4.등수리스트  5.종료\n",
      "------------------------------------------------------\n",
      ">>>  5\n"
     ]
    },
    {
     "name": "stdout",
     "output_type": "stream",
     "text": [
      "프로그램 종료!\n"
     ]
    }
   ],
   "source": [
    "import json\n",
    "# word=[]\n",
    "f = open('word.json','r')\n",
    "word = json.load(f)\n",
    "f.close()\n",
    "rank = {'aaa': 11.477029085159302, 'bbb': 7.897187948226929}\n",
    "\n",
    "menu_display = '''\n",
    "------------------------------------------------------\n",
    "1.게임   2.문제추가  3.문제저장 4.등수리스트  5.종료\n",
    "------------------------------------------------------\n",
    ">>> '''\n",
    "\n",
    "while True:\n",
    "    menu = input(menu_display)\n",
    "    if menu == '1':\n",
    "        print('게임시작!')\n",
    "        start = time.time()\n",
    "        n = 1\n",
    "        quiz = random.choice(word)\n",
    "        while n <= 5:\n",
    "            print(f'{n}번')\n",
    "            print(quiz)\n",
    "            result = input('>>>')\n",
    "            if quiz == result:\n",
    "                print('통과!')\n",
    "                n += 1\n",
    "                quiz = random.choice(word)\n",
    "            else:\n",
    "                print('오타! 다시도전!')\n",
    "        print('5문제 완료!!')\n",
    "        end = time.time()\n",
    "        print(f'걸린 시간 : {end-start:.0f}초')\n",
    "        name = input('이름을 입력하세요 >>>')\n",
    "        rank[name] = end-start\n",
    "        print(rank)        \n",
    "    elif menu == '2':\n",
    "        print('문제추가작업')\n",
    "        while True:\n",
    "            data = input('(종료:enter) >>>')\n",
    "            if data == '':\n",
    "                break\n",
    "            word.append(data)\n",
    "            print(word)\n",
    "    elif menu == '3':\n",
    "        print('문제저장작업')\n",
    "    elif menu =='4':\n",
    "        print('등수리스트')\n",
    "        for index,(k,v) in enumerate(sorted(rank.items(),key=lambda x : x[1])):\n",
    "            print(f'{index+1}등 {k} 시간:{v:.0f}')\n",
    "    elif menu == '5':\n",
    "        print('프로그램 종료!')\n",
    "        f = open('word.json','w')\n",
    "        json.dump(word,f)\n",
    "        f.close()\n",
    "        break\n",
    "    else:\n",
    "        print('메뉴를 선택하셨습니다.')"
   ]
  },
  {
   "cell_type": "raw",
   "id": "1b9403ff-aff8-40bc-a236-32043e4b2139",
   "metadata": {},
   "source": [
    "# 커피자판기\n",
    "1. 커피자판기 2. 메뉴추가 3.메뉴삭제 4.메뉴목록 5.종료\n",
    "- 프로그램이 시작될때 필요한 정보를 읽어서 시작합니다.\n",
    "- 커피자판기 무한반복하면서 돈을 입력받고, 메뉴를 선택해서 처리\n",
    "- 메뉴추가 자판기에서 판매하는 메뉴를 추가하는 기능(메뉴명,가격)\n",
    "- 메뉴삭제는 전체 목록을 보여주고 삭제하고자하는 항목을 선택하도록 해서 삭제 처리\n",
    "- 메뉴목록은 메뉴이름순,메뉴가격순으로 정렬해서 보여줌.\n",
    "- 종료는 저장할 정보가 있으면 저장하고 종료합니다."
   ]
  },
  {
   "cell_type": "code",
   "execution_count": 16,
   "id": "24ac768f-9bbd-4ad0-ae71-14245b6d8a25",
   "metadata": {},
   "outputs": [
    {
     "name": "stdin",
     "output_type": "stream",
     "text": [
      "\n",
      "--------------------------------------------------------\n",
      "1.커피자판기   2.메뉴추가  3.메뉴삭제  4.메뉴목록  5.종료\n",
      "--------------------------------------------------------\n",
      ">>>  1\n"
     ]
    },
    {
     "name": "stdout",
     "output_type": "stream",
     "text": [
      "아이스아메리카노:2,000원 라떼:3,500원 프라프치노:4,500원 \n"
     ]
    },
    {
     "name": "stdin",
     "output_type": "stream",
     "text": [
      "메뉴선택(종료:enter) >>> 라떼\n",
      "금액 투입 >>> 3500\n"
     ]
    },
    {
     "name": "stdout",
     "output_type": "stream",
     "text": [
      "라떼 서비스 합니다. 거스름돈은 0\n",
      "아이스아메리카노:2,000원 라떼:3,500원 프라프치노:4,500원 \n"
     ]
    },
    {
     "name": "stdin",
     "output_type": "stream",
     "text": [
      "메뉴선택(종료:enter) >>> 아이스아메리카노\n",
      "금액 투입 >>> 4000\n"
     ]
    },
    {
     "name": "stdout",
     "output_type": "stream",
     "text": [
      "아이스아메리카노 서비스 합니다. 거스름돈은 2000\n",
      "아이스아메리카노:2,000원 라떼:3,500원 프라프치노:4,500원 \n"
     ]
    },
    {
     "name": "stdin",
     "output_type": "stream",
     "text": [
      "메뉴선택(종료:enter) >>> \n",
      "금액 투입 >>> 0\n"
     ]
    },
    {
     "name": "stdout",
     "output_type": "stream",
     "text": [
      "해당 메뉴가 없습니다.\n"
     ]
    },
    {
     "name": "stdin",
     "output_type": "stream",
     "text": [
      "\n",
      "--------------------------------------------------------\n",
      "1.커피자판기   2.메뉴추가  3.메뉴삭제  4.메뉴목록  5.종료\n",
      "--------------------------------------------------------\n",
      ">>>  5\n"
     ]
    }
   ],
   "source": [
    "item = {'아이스아메리카노':2000,\n",
    "        '라떼':3500,\n",
    "        '프라프치노':4500}\n",
    "menu_display = '''\n",
    "--------------------------------------------------------\n",
    "1.커피자판기   2.메뉴추가  3.메뉴삭제  4.메뉴목록  5.종료\n",
    "--------------------------------------------------------\n",
    ">>> '''\n",
    "\n",
    "while True:\n",
    "    menu = input(menu_display)\n",
    "    if menu == '1':\n",
    "        choice = '선택한 메뉴'\n",
    "        while choice:\n",
    "            for k,v in item.items():\n",
    "                print(f'{k}:{v:,}원',end=' ')\n",
    "            print()\n",
    "            choice = input('메뉴선택(종료:enter) >>>')\n",
    "            money = int(input('금액 투입 >>>'))\n",
    "            if choice in item.keys(): \n",
    "                if money >= item[choice]:\n",
    "                    money -= item[choice]\n",
    "                    print(f'{choice} 서비스 합니다. 거스름돈은 {money}')\n",
    "            else:\n",
    "                print('해당 메뉴가 없습니다.')                \n",
    "            \n",
    "    elif menu =='2':\n",
    "        menu_name = input('메뉴명 >>> ')\n",
    "        \n",
    "        menu_price = ''\n",
    "        while not menu_price.isdigit():\n",
    "            menu_price = input('메뉴가격 >>> ')\n",
    "        menu_price = int(menu_price)\n",
    "        \n",
    "        if menu_name in item.keys():\n",
    "            print(f'{menu_name} 메뉴가 있습니다. 수정합니다. ')\n",
    "        else:\n",
    "            print(f'{menu_name} 메뉴를 추가합니다.')\n",
    "        item[menu_name] = menu_price\n",
    "        print(item)\n",
    "    elif menu == '3':\n",
    "        menu_name = input('삭제하려는 메뉴명 >>>')\n",
    "        if menu_name in item.keys():\n",
    "            print(f'{menu_name} 메뉴를 삭제합니다.')\n",
    "            del item[menu_name]\n",
    "        else:\n",
    "            print(f'{menu_name} 메뉴가 없습니다.')\n",
    "        print(item)            \n",
    "    elif menu =='4':\n",
    "        menu_1 = input('1.이름순 2.가격순 >>> ')\n",
    "        if menu_1 == '1':\n",
    "            for k,v in sorted(item.items(),key=lambda x : x[0]):\n",
    "                print(f'{k:25} : {v:10,}원')\n",
    "        elif menu_1 == '2':\n",
    "            for k,v in sorted(item.items(),key=lambda x : x[1]):\n",
    "                print(f'{k:25} : {v:10,}원')\n",
    "    elif menu == '5':\n",
    "        break\n",
    "    else:\n",
    "        print('메뉴를 잘못 선택하셨습니다.')\n",
    "    "
   ]
  },
  {
   "cell_type": "code",
   "execution_count": null,
   "id": "a3f38d8c-1b5b-46f5-bb32-1e2c604a5271",
   "metadata": {},
   "outputs": [],
   "source": []
  }
 ],
 "metadata": {
  "kernelspec": {
   "display_name": "Python 3 (ipykernel)",
   "language": "python",
   "name": "python3"
  },
  "language_info": {
   "codemirror_mode": {
    "name": "ipython",
    "version": 3
   },
   "file_extension": ".py",
   "mimetype": "text/x-python",
   "name": "python",
   "nbconvert_exporter": "python",
   "pygments_lexer": "ipython3",
   "version": "3.9.12"
  }
 },
 "nbformat": 4,
 "nbformat_minor": 5
}
