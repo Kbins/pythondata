{
 "cells": [
  {
   "cell_type": "raw",
   "id": "c287ea3f-e90e-418a-a5fa-342fe13030f9",
   "metadata": {},
   "source": [
    "숫자형"
   ]
  },
  {
   "cell_type": "markdown",
   "id": "48bcfba1-31bc-484b-93ed-ee5e487c6cdf",
   "metadata": {},
   "source": [
    "# 숫자형"
   ]
  },
  {
   "cell_type": "code",
   "execution_count": 1,
   "id": "01996b4b-4a60-4e26-b791-4bd253d0fece",
   "metadata": {},
   "outputs": [],
   "source": [
    "a = 123"
   ]
  },
  {
   "cell_type": "code",
   "execution_count": 2,
   "id": "1c1656b7-4397-4732-adb2-6cb1fd2c6c22",
   "metadata": {},
   "outputs": [
    {
     "name": "stdout",
     "output_type": "stream",
     "text": [
      "123\n"
     ]
    }
   ],
   "source": [
    "print(a)"
   ]
  },
  {
   "cell_type": "code",
   "execution_count": 3,
   "id": "0ad7d676-1293-441e-ae46-489e59ad20b3",
   "metadata": {},
   "outputs": [
    {
     "data": {
      "text/plain": [
       "123"
      ]
     },
     "execution_count": 3,
     "metadata": {},
     "output_type": "execute_result"
    }
   ],
   "source": [
    "a"
   ]
  },
  {
   "cell_type": "code",
   "execution_count": 4,
   "id": "d342c114-d2eb-4f0a-b7e1-75ad2f56e056",
   "metadata": {},
   "outputs": [],
   "source": [
    "b=456"
   ]
  },
  {
   "cell_type": "code",
   "execution_count": 7,
   "id": "38603ecd-f83d-4b7a-9870-a89674025d7e",
   "metadata": {},
   "outputs": [
    {
     "name": "stdout",
     "output_type": "stream",
     "text": [
      "123\n",
      "456\n"
     ]
    }
   ],
   "source": [
    "print(a)\n",
    "print(b)"
   ]
  },
  {
   "cell_type": "code",
   "execution_count": 8,
   "id": "b370477e-1e82-47d8-8145-3dd51d9664b7",
   "metadata": {},
   "outputs": [
    {
     "data": {
      "text/plain": [
       "(123, 456)"
      ]
     },
     "execution_count": 8,
     "metadata": {},
     "output_type": "execute_result"
    }
   ],
   "source": [
    "a,b"
   ]
  },
  {
   "cell_type": "code",
   "execution_count": 9,
   "id": "31f72bfe-9813-4732-90b8-0ca152eaa139",
   "metadata": {},
   "outputs": [
    {
     "data": {
      "text/plain": [
       "int"
      ]
     },
     "execution_count": 9,
     "metadata": {},
     "output_type": "execute_result"
    }
   ],
   "source": [
    "type(a)"
   ]
  },
  {
   "cell_type": "code",
   "execution_count": 10,
   "id": "6df22522-b034-4962-a933-c8c089062e79",
   "metadata": {},
   "outputs": [
    {
     "data": {
      "text/plain": [
       "1.9"
      ]
     },
     "execution_count": 10,
     "metadata": {},
     "output_type": "execute_result"
    }
   ],
   "source": [
    "a=1.9\n",
    "a"
   ]
  },
  {
   "cell_type": "code",
   "execution_count": 11,
   "id": "66ade363-2f9a-40fc-99b9-128d6b83ba1e",
   "metadata": {},
   "outputs": [
    {
     "data": {
      "text/plain": [
       "float"
      ]
     },
     "execution_count": 11,
     "metadata": {},
     "output_type": "execute_result"
    }
   ],
   "source": [
    "type(a)"
   ]
  },
  {
   "cell_type": "code",
   "execution_count": 12,
   "id": "6cbd1e76-69f9-418d-8f89-e2869b1d54cd",
   "metadata": {},
   "outputs": [
    {
     "name": "stdout",
     "output_type": "stream",
     "text": [
      "\n"
     ]
    }
   ],
   "source": [
    "print()"
   ]
  },
  {
   "cell_type": "code",
   "execution_count": 13,
   "id": "5bb5f77b-2407-4423-9367-d379d307098f",
   "metadata": {
    "collapsed": true,
    "jupyter": {
     "outputs_hidden": true
    },
    "tags": []
   },
   "outputs": [
    {
     "data": {
      "text/plain": [
       "\u001b[1;31mDocstring:\u001b[0m\n",
       "print(value, ..., sep=' ', end='\\n', file=sys.stdout, flush=False)\n",
       "\n",
       "Prints the values to a stream, or to sys.stdout by default.\n",
       "Optional keyword arguments:\n",
       "file:  a file-like object (stream); defaults to the current sys.stdout.\n",
       "sep:   string inserted between values, default a space.\n",
       "end:   string appended after the last value, default a newline.\n",
       "flush: whether to forcibly flush the stream.\n",
       "\u001b[1;31mType:\u001b[0m      builtin_function_or_method\n"
      ]
     },
     "metadata": {},
     "output_type": "display_data"
    }
   ],
   "source": [
    "print?"
   ]
  },
  {
   "cell_type": "code",
   "execution_count": 14,
   "id": "595d170f-4f8d-4bc6-a49b-2afa083d07f5",
   "metadata": {
    "collapsed": true,
    "jupyter": {
     "outputs_hidden": true
    },
    "tags": []
   },
   "outputs": [
    {
     "name": "stdout",
     "output_type": "stream",
     "text": [
      "Help on built-in function print in module builtins:\n",
      "\n",
      "print(...)\n",
      "    print(value, ..., sep=' ', end='\\n', file=sys.stdout, flush=False)\n",
      "    \n",
      "    Prints the values to a stream, or to sys.stdout by default.\n",
      "    Optional keyword arguments:\n",
      "    file:  a file-like object (stream); defaults to the current sys.stdout.\n",
      "    sep:   string inserted between values, default a space.\n",
      "    end:   string appended after the last value, default a newline.\n",
      "    flush: whether to forcibly flush the stream.\n",
      "\n"
     ]
    }
   ],
   "source": [
    "help(print)"
   ]
  },
  {
   "cell_type": "code",
   "execution_count": 16,
   "id": "f53167d3-87b9-4f79-b81a-7efbafde5188",
   "metadata": {},
   "outputs": [
    {
     "name": "stdin",
     "output_type": "stream",
     "text": [
      "숫자를 입력하세요 >>> 444\n"
     ]
    }
   ],
   "source": [
    "num1 = input('숫자를 입력하세요 >>>')"
   ]
  },
  {
   "cell_type": "code",
   "execution_count": 17,
   "id": "1e323bb7-3672-4260-8cca-b839fdeac739",
   "metadata": {},
   "outputs": [
    {
     "data": {
      "text/plain": [
       "str"
      ]
     },
     "execution_count": 17,
     "metadata": {},
     "output_type": "execute_result"
    }
   ],
   "source": [
    "type(num1)"
   ]
  },
  {
   "cell_type": "code",
   "execution_count": 18,
   "id": "f64a75e4-9839-4602-806e-fa58005ea568",
   "metadata": {},
   "outputs": [
    {
     "name": "stdout",
     "output_type": "stream",
     "text": [
      "444\n"
     ]
    }
   ],
   "source": [
    "print(num1)"
   ]
  },
  {
   "cell_type": "code",
   "execution_count": 19,
   "id": "5ef6b87f-ab2b-4c46-90b4-e6fbe07726a3",
   "metadata": {},
   "outputs": [],
   "source": [
    "# 박스에 과일을 넣는 작업 중입니다.\n",
    "# 박스당 들어가는 과일의 갯수와 전체 과일의 갯수를 입력받아서 \n",
    "# 몇 박스 몇개가 남는지 출력합니다.\n",
    "# 입력 : 박스당 과일수, 전체 과일수\n",
    "# 출력 : x박스 x개"
   ]
  },
  {
   "cell_type": "code",
   "execution_count": 21,
   "id": "ed4b46c7-976a-405d-b7fc-c2b802e6e1ab",
   "metadata": {},
   "outputs": [
    {
     "name": "stdin",
     "output_type": "stream",
     "text": [
      "전체 과일의 갯수 >>> 200\n",
      "박스당 과일의 갯수 >>> 8\n"
     ]
    },
    {
     "name": "stdout",
     "output_type": "stream",
     "text": [
      "25 박스,  0 개\n"
     ]
    }
   ],
   "source": [
    "total = int(input('전체 과일의 갯수 >>>'))\n",
    "box_count = int(input('박스당 과일의 갯수 >>>'))\n",
    "box = total // box_count\n",
    "count = total % box_count\n",
    "print(box,'박스, ',count,'개')"
   ]
  },
  {
   "cell_type": "markdown",
   "id": "d4c16da5-6731-4a19-b855-6324302b2cc2",
   "metadata": {},
   "source": [
    "## 문자열 자료형"
   ]
  },
  {
   "cell_type": "code",
   "execution_count": 22,
   "id": "c64be258-1784-4b7a-a6b4-c2712a996b33",
   "metadata": {},
   "outputs": [
    {
     "data": {
      "text/plain": [
       "\"hello 'ann'\""
      ]
     },
     "execution_count": 22,
     "metadata": {},
     "output_type": "execute_result"
    }
   ],
   "source": [
    "\"hello 'ann'\""
   ]
  },
  {
   "cell_type": "code",
   "execution_count": 23,
   "id": "9691fced-b4dc-4635-9013-a492c77a7c76",
   "metadata": {},
   "outputs": [
    {
     "data": {
      "text/plain": [
       "'hello \"ann\"'"
      ]
     },
     "execution_count": 23,
     "metadata": {},
     "output_type": "execute_result"
    }
   ],
   "source": [
    "'hello \"ann\"'"
   ]
  },
  {
   "cell_type": "code",
   "execution_count": 24,
   "id": "8403abeb-3da4-4230-ab8c-e2d53a38ed7f",
   "metadata": {},
   "outputs": [
    {
     "ename": "SyntaxError",
     "evalue": "EOL while scanning string literal (2832565742.py, line 1)",
     "output_type": "error",
     "traceback": [
      "\u001b[1;36m  Input \u001b[1;32mIn [24]\u001b[1;36m\u001b[0m\n\u001b[1;33m    'hello\u001b[0m\n\u001b[1;37m           ^\u001b[0m\n\u001b[1;31mSyntaxError\u001b[0m\u001b[1;31m:\u001b[0m EOL while scanning string literal\n"
     ]
    }
   ],
   "source": [
    "'hello \n",
    "!!!!'"
   ]
  },
  {
   "cell_type": "code",
   "execution_count": 25,
   "id": "677f7da6-daeb-4e0c-92f3-9ddddbfd294a",
   "metadata": {},
   "outputs": [
    {
     "data": {
      "text/plain": [
       "' hello\\n!!!\\n!!!\\n'"
      ]
     },
     "execution_count": 25,
     "metadata": {},
     "output_type": "execute_result"
    }
   ],
   "source": [
    "''' hello\n",
    "!!!\n",
    "!!!\n",
    "'''"
   ]
  },
  {
   "cell_type": "code",
   "execution_count": 26,
   "id": "3b36f0e9-5323-4faf-9488-def08364458b",
   "metadata": {},
   "outputs": [
    {
     "ename": "TypeError",
     "evalue": "unsupported operand type(s) for +: 'int' and 'str'",
     "output_type": "error",
     "traceback": [
      "\u001b[1;31m---------------------------------------------------------------------------\u001b[0m",
      "\u001b[1;31mTypeError\u001b[0m                                 Traceback (most recent call last)",
      "Input \u001b[1;32mIn [26]\u001b[0m, in \u001b[0;36m<cell line: 1>\u001b[1;34m()\u001b[0m\n\u001b[1;32m----> 1\u001b[0m \u001b[38;5;241;43m1\u001b[39;49m\u001b[43m \u001b[49m\u001b[38;5;241;43m+\u001b[39;49m\u001b[43m \u001b[49m\u001b[38;5;124;43m'\u001b[39;49m\u001b[38;5;124;43ma\u001b[39;49m\u001b[38;5;124;43m'\u001b[39;49m\n",
      "\u001b[1;31mTypeError\u001b[0m: unsupported operand type(s) for +: 'int' and 'str'"
     ]
    }
   ],
   "source": [
    "1 + 'a'"
   ]
  },
  {
   "cell_type": "code",
   "execution_count": 27,
   "id": "3974c03e-57ea-4582-a651-8eb188f48117",
   "metadata": {},
   "outputs": [
    {
     "data": {
      "text/plain": [
       "'1a'"
      ]
     },
     "execution_count": 27,
     "metadata": {},
     "output_type": "execute_result"
    }
   ],
   "source": [
    "'1'+'a'"
   ]
  },
  {
   "cell_type": "code",
   "execution_count": 28,
   "id": "00b0a68e-0e67-4da0-b476-25658a79c5fe",
   "metadata": {},
   "outputs": [
    {
     "data": {
      "text/plain": [
       "'1111'"
      ]
     },
     "execution_count": 28,
     "metadata": {},
     "output_type": "execute_result"
    }
   ],
   "source": [
    "'1'*4"
   ]
  },
  {
   "cell_type": "code",
   "execution_count": 29,
   "id": "7a9e5317-3ba6-47b4-8352-d9447de60e8b",
   "metadata": {},
   "outputs": [
    {
     "data": {
      "text/plain": [
       "17"
      ]
     },
     "execution_count": 29,
     "metadata": {},
     "output_type": "execute_result"
    }
   ],
   "source": [
    "a = 'life is too short'\n",
    "len(a)"
   ]
  },
  {
   "cell_type": "code",
   "execution_count": 30,
   "id": "922738e7-5a28-4aec-9f3b-822f0ba30f49",
   "metadata": {},
   "outputs": [
    {
     "data": {
      "text/plain": [
       "'Life is too short, You need Python'"
      ]
     },
     "execution_count": 30,
     "metadata": {},
     "output_type": "execute_result"
    }
   ],
   "source": [
    "a = \"Life is too short, You need Python\"\n",
    "a"
   ]
  },
  {
   "cell_type": "code",
   "execution_count": 31,
   "id": "5930d987-60c0-44b4-abca-0e5aef217f43",
   "metadata": {},
   "outputs": [
    {
     "data": {
      "text/plain": [
       "'L'"
      ]
     },
     "execution_count": 31,
     "metadata": {},
     "output_type": "execute_result"
    }
   ],
   "source": [
    "a[0]"
   ]
  },
  {
   "cell_type": "code",
   "execution_count": 32,
   "id": "ca594cd4-2fd4-4987-a1e8-e347118d8b65",
   "metadata": {},
   "outputs": [
    {
     "data": {
      "text/plain": [
       "'n'"
      ]
     },
     "execution_count": 32,
     "metadata": {},
     "output_type": "execute_result"
    }
   ],
   "source": [
    "a[-1]"
   ]
  },
  {
   "cell_type": "code",
   "execution_count": 34,
   "id": "a3d144a8-210d-490e-ad40-52a7fa806d8f",
   "metadata": {},
   "outputs": [
    {
     "data": {
      "text/plain": [
       "'Life'"
      ]
     },
     "execution_count": 34,
     "metadata": {},
     "output_type": "execute_result"
    }
   ],
   "source": [
    "a[0:4]"
   ]
  },
  {
   "cell_type": "code",
   "execution_count": 35,
   "id": "a8fac2f5-316f-4864-8b73-448b806eaed6",
   "metadata": {},
   "outputs": [
    {
     "data": {
      "text/plain": [
       "'Life'"
      ]
     },
     "execution_count": 35,
     "metadata": {},
     "output_type": "execute_result"
    }
   ],
   "source": [
    "a[:4]"
   ]
  },
  {
   "cell_type": "code",
   "execution_count": 36,
   "id": "6cfd79bf-fd85-4bb9-8ce7-d6b57bc96420",
   "metadata": {},
   "outputs": [
    {
     "data": {
      "text/plain": [
       "'Python'"
      ]
     },
     "execution_count": 36,
     "metadata": {},
     "output_type": "execute_result"
    }
   ],
   "source": [
    "a[-6:]"
   ]
  },
  {
   "cell_type": "code",
   "execution_count": 38,
   "id": "4071f127-b6aa-48e1-b79b-2a22b216b38f",
   "metadata": {},
   "outputs": [],
   "source": [
    "# 주민등록 번호를 입력받아서 생년월일과 성별을 출력하세요\n",
    "# 3항 연산자를 이용 ( 조건 ? 참일때 : 거짓일때 )"
   ]
  },
  {
   "cell_type": "code",
   "execution_count": 37,
   "id": "ffc713be-ed37-4c7b-8d44-a2fd29b6c58f",
   "metadata": {},
   "outputs": [
    {
     "ename": "SyntaxError",
     "evalue": "invalid syntax (1018799732.py, line 2)",
     "output_type": "error",
     "traceback": [
      "\u001b[1;36m  Input \u001b[1;32mIn [37]\u001b[1;36m\u001b[0m\n\u001b[1;33m    jumin[7] == 3 ? \"남자\":\"여자\"\u001b[0m\n\u001b[1;37m                  ^\u001b[0m\n\u001b[1;31mSyntaxError\u001b[0m\u001b[1;31m:\u001b[0m invalid syntax\n"
     ]
    }
   ],
   "source": [
    "jumin = '201111-3123123'\n",
    "jumin[7] == 3 ? \"남자\":\"여자\""
   ]
  },
  {
   "cell_type": "code",
   "execution_count": 40,
   "id": "8442826a-a907-45bc-8507-24a8091fcb62",
   "metadata": {},
   "outputs": [
    {
     "name": "stdin",
     "output_type": "stream",
     "text": [
      "주민등록번호 입력 >>> 201111-3123456\n"
     ]
    },
    {
     "name": "stdout",
     "output_type": "stream",
     "text": [
      "생년월일 201111\n",
      "성별 남자\n"
     ]
    }
   ],
   "source": [
    "jumin = input('주민등록번호 입력 >>>')\n",
    "print('생년월일',jumin[:6])\n",
    "print('성별','남자' if jumin[7]=='3' else '여자')"
   ]
  },
  {
   "cell_type": "markdown",
   "id": "e5b25d6c-9e63-4441-800b-549a2a663757",
   "metadata": {},
   "source": [
    "## 문자열 포매팅"
   ]
  },
  {
   "cell_type": "code",
   "execution_count": 41,
   "id": "d6961f22-6c2c-4a6b-896a-78ff669230ee",
   "metadata": {},
   "outputs": [
    {
     "data": {
      "text/plain": [
       "'i eat 3 apples.'"
      ]
     },
     "execution_count": 41,
     "metadata": {},
     "output_type": "execute_result"
    }
   ],
   "source": [
    "\"i eat %d apples.\" % 3"
   ]
  },
  {
   "cell_type": "code",
   "execution_count": 43,
   "id": "e455087b-fcaa-40fa-b6c8-3a013206546c",
   "metadata": {},
   "outputs": [
    {
     "data": {
      "text/plain": [
       "'i eat 3 apples. end'"
      ]
     },
     "execution_count": 43,
     "metadata": {},
     "output_type": "execute_result"
    }
   ],
   "source": [
    "\"i eat %d apples. %s\" % (3,\"end\")"
   ]
  },
  {
   "cell_type": "code",
   "execution_count": 46,
   "id": "bb4268d8-2ed0-4c14-bf65-427d6dd8d74d",
   "metadata": {},
   "outputs": [
    {
     "data": {
      "text/plain": [
       "'i eat 321,321.12 apples. count'"
      ]
     },
     "execution_count": 46,
     "metadata": {},
     "output_type": "execute_result"
    }
   ],
   "source": [
    "'i eat {:^10,.2f} apples. {}'.format(321321.123456,'count')"
   ]
  },
  {
   "cell_type": "code",
   "execution_count": 47,
   "id": "0e575c65-95d1-4004-ab4c-b84b55318a56",
   "metadata": {},
   "outputs": [
    {
     "name": "stdin",
     "output_type": "stream",
     "text": [
      "이름을 입력하세요 >>> 홍길동\n",
      "나이를 입력하세요 >>> 34\n"
     ]
    },
    {
     "name": "stdout",
     "output_type": "stream",
     "text": [
      "이름은 홍길동이고, 나이는 34살입니다.\n"
     ]
    }
   ],
   "source": [
    "name = input('이름을 입력하세요 >>>')\n",
    "age = input('나이를 입력하세요 >>>')\n",
    "print('이름은 {}이고, 나이는 {}살입니다.'.format(name,age))"
   ]
  },
  {
   "cell_type": "code",
   "execution_count": 49,
   "id": "33afbad9-762e-4ffe-965a-20c586609008",
   "metadata": {},
   "outputs": [
    {
     "name": "stdin",
     "output_type": "stream",
     "text": [
      "이름을 입력하세요 >>> hong\n",
      "나이를 입력하세요 >>> 34\n"
     ]
    },
    {
     "name": "stdout",
     "output_type": "stream",
     "text": [
      "이름은 hong이고, 나이는 34.0살입니다.\n"
     ]
    }
   ],
   "source": [
    "name = input('이름을 입력하세요 >>>')\n",
    "age = int(input('나이를 입력하세요 >>>'))\n",
    "print(f'이름은 {name}이고, 나이는 {age:.1f}살입니다.')"
   ]
  },
  {
   "cell_type": "code",
   "execution_count": 51,
   "id": "3d089a44-1190-4eea-94e1-97507b9a58cf",
   "metadata": {},
   "outputs": [
    {
     "data": {
      "text/plain": [
       "0"
      ]
     },
     "execution_count": 51,
     "metadata": {},
     "output_type": "execute_result"
    }
   ],
   "source": [
    "a = \"hobby\"\n",
    "a.count('i')"
   ]
  },
  {
   "cell_type": "code",
   "execution_count": 52,
   "id": "48952984-3d77-4ea0-b51e-70f766bf6e25",
   "metadata": {},
   "outputs": [
    {
     "data": {
      "text/plain": [
       "14"
      ]
     },
     "execution_count": 52,
     "metadata": {},
     "output_type": "execute_result"
    }
   ],
   "source": [
    "a = \"Python is the best choice\"\n",
    "a.find('b') # 인덱스 리턴"
   ]
  },
  {
   "cell_type": "code",
   "execution_count": 53,
   "id": "c03abafa-58d9-4012-aff6-29c219ee0dad",
   "metadata": {},
   "outputs": [
    {
     "data": {
      "text/plain": [
       "-1"
      ]
     },
     "execution_count": 53,
     "metadata": {},
     "output_type": "execute_result"
    }
   ],
   "source": [
    "a.find('k') #글자가 없을 경우 -1리턴"
   ]
  },
  {
   "cell_type": "code",
   "execution_count": 54,
   "id": "a49a2743-4cf6-46a2-aa89-6bd843e7a2ac",
   "metadata": {},
   "outputs": [
    {
     "data": {
      "text/plain": [
       "8"
      ]
     },
     "execution_count": 54,
     "metadata": {},
     "output_type": "execute_result"
    }
   ],
   "source": [
    "a = \"Life is too short\"\n",
    "a.index('t')"
   ]
  },
  {
   "cell_type": "code",
   "execution_count": 56,
   "id": "20ea44dc-b028-4f58-a133-ef054262dc4e",
   "metadata": {},
   "outputs": [
    {
     "ename": "ValueError",
     "evalue": "substring not found",
     "output_type": "error",
     "traceback": [
      "\u001b[1;31m---------------------------------------------------------------------------\u001b[0m",
      "\u001b[1;31mValueError\u001b[0m                                Traceback (most recent call last)",
      "Input \u001b[1;32mIn [56]\u001b[0m, in \u001b[0;36m<cell line: 1>\u001b[1;34m()\u001b[0m\n\u001b[1;32m----> 1\u001b[0m \u001b[43ma\u001b[49m\u001b[38;5;241;43m.\u001b[39;49m\u001b[43mindex\u001b[49m\u001b[43m(\u001b[49m\u001b[38;5;124;43m'\u001b[39;49m\u001b[38;5;124;43mk\u001b[39;49m\u001b[38;5;124;43m'\u001b[39;49m\u001b[43m)\u001b[49m\n",
      "\u001b[1;31mValueError\u001b[0m: substring not found"
     ]
    }
   ],
   "source": [
    "a.index('k')"
   ]
  },
  {
   "cell_type": "code",
   "execution_count": 57,
   "id": "1be8a557-91f7-4ecc-811c-c8f2aa5dad3b",
   "metadata": {},
   "outputs": [
    {
     "data": {
      "text/plain": [
       "'a,b,c,d'"
      ]
     },
     "execution_count": 57,
     "metadata": {},
     "output_type": "execute_result"
    }
   ],
   "source": [
    "','.join('abcd')"
   ]
  },
  {
   "cell_type": "code",
   "execution_count": 58,
   "id": "141c9f42-960e-4bae-9965-c5146beee6d6",
   "metadata": {},
   "outputs": [
    {
     "data": {
      "text/plain": [
       "'abc,edf,78'"
      ]
     },
     "execution_count": 58,
     "metadata": {},
     "output_type": "execute_result"
    }
   ],
   "source": [
    "','.join(['abc','edf','78'])"
   ]
  },
  {
   "cell_type": "code",
   "execution_count": 62,
   "id": "51918bf5-f116-462f-8fb9-c13b16725041",
   "metadata": {},
   "outputs": [
    {
     "data": {
      "text/plain": [
       "['Life', 'is', 'too', 'short']"
      ]
     },
     "execution_count": 62,
     "metadata": {},
     "output_type": "execute_result"
    }
   ],
   "source": [
    "a = \"Life,is,too,short\"\n",
    "a.split(sep=',')"
   ]
  },
  {
   "cell_type": "code",
   "execution_count": 66,
   "id": "bd61300c-c1cc-46ef-91af-d20460bda8e4",
   "metadata": {},
   "outputs": [
    {
     "name": "stdout",
     "output_type": "stream",
     "text": [
      "taxi\n",
      "----\n"
     ]
    }
   ],
   "source": [
    "money = True\n",
    "if money:\n",
    "    print('taxi')\n",
    "    print('----')\n",
    "else:\n",
    "    print('walk')"
   ]
  },
  {
   "cell_type": "code",
   "execution_count": 70,
   "id": "5156805f-3c81-4089-acaa-3b415db2bf54",
   "metadata": {},
   "outputs": [],
   "source": [
    "if 'money' in ['card','money'] : pass\n",
    "else:print('카드를 꺼내라')"
   ]
  },
  {
   "cell_type": "code",
   "execution_count": 71,
   "id": "32b2a7b9-54c4-4636-b076-a190afd73ffa",
   "metadata": {},
   "outputs": [],
   "source": [
    "## 구구단 출력하기\n",
    "# -2단-\n",
    "# 2*1=2\n",
    "# ...\n",
    "\n",
    "# -3단-\n",
    "# ...."
   ]
  },
  {
   "cell_type": "code",
   "execution_count": 73,
   "id": "aaaf4897-9702-4eef-a872-a32e16ef260d",
   "metadata": {
    "collapsed": true,
    "jupyter": {
     "outputs_hidden": true
    },
    "tags": []
   },
   "outputs": [
    {
     "name": "stdout",
     "output_type": "stream",
     "text": [
      "-- 2단 --\n",
      "2 * 1 =  2\n",
      "2 * 2 =  4\n",
      "2 * 3 =  6\n",
      "2 * 4 =  8\n",
      "2 * 5 = 10\n",
      "2 * 6 = 12\n",
      "2 * 7 = 14\n",
      "2 * 8 = 16\n",
      "2 * 9 = 18\n",
      "\n",
      "-- 3단 --\n",
      "3 * 1 =  3\n",
      "3 * 2 =  6\n",
      "3 * 3 =  9\n",
      "3 * 4 = 12\n",
      "3 * 5 = 15\n",
      "3 * 6 = 18\n",
      "3 * 7 = 21\n",
      "3 * 8 = 24\n",
      "3 * 9 = 27\n",
      "\n",
      "-- 4단 --\n",
      "4 * 1 =  4\n",
      "4 * 2 =  8\n",
      "4 * 3 = 12\n",
      "4 * 4 = 16\n",
      "4 * 5 = 20\n",
      "4 * 6 = 24\n",
      "4 * 7 = 28\n",
      "4 * 8 = 32\n",
      "4 * 9 = 36\n",
      "\n",
      "-- 5단 --\n",
      "5 * 1 =  5\n",
      "5 * 2 = 10\n",
      "5 * 3 = 15\n",
      "5 * 4 = 20\n",
      "5 * 5 = 25\n",
      "5 * 6 = 30\n",
      "5 * 7 = 35\n",
      "5 * 8 = 40\n",
      "5 * 9 = 45\n",
      "\n",
      "-- 6단 --\n",
      "6 * 1 =  6\n",
      "6 * 2 = 12\n",
      "6 * 3 = 18\n",
      "6 * 4 = 24\n",
      "6 * 5 = 30\n",
      "6 * 6 = 36\n",
      "6 * 7 = 42\n",
      "6 * 8 = 48\n",
      "6 * 9 = 54\n",
      "\n",
      "-- 7단 --\n",
      "7 * 1 =  7\n",
      "7 * 2 = 14\n",
      "7 * 3 = 21\n",
      "7 * 4 = 28\n",
      "7 * 5 = 35\n",
      "7 * 6 = 42\n",
      "7 * 7 = 49\n",
      "7 * 8 = 56\n",
      "7 * 9 = 63\n",
      "\n",
      "-- 8단 --\n",
      "8 * 1 =  8\n",
      "8 * 2 = 16\n",
      "8 * 3 = 24\n",
      "8 * 4 = 32\n",
      "8 * 5 = 40\n",
      "8 * 6 = 48\n",
      "8 * 7 = 56\n",
      "8 * 8 = 64\n",
      "8 * 9 = 72\n",
      "\n",
      "-- 9단 --\n",
      "9 * 1 =  9\n",
      "9 * 2 = 18\n",
      "9 * 3 = 27\n",
      "9 * 4 = 36\n",
      "9 * 5 = 45\n",
      "9 * 6 = 54\n",
      "9 * 7 = 63\n",
      "9 * 8 = 72\n",
      "9 * 9 = 81\n",
      "\n"
     ]
    }
   ],
   "source": [
    "for i in range(2,10):\n",
    "    print(f'-- {i}단 --')\n",
    "    for j in range(1,10):\n",
    "        print(f'{i} * {j} = {i*j:2}')\n",
    "    print()\n",
    "        "
   ]
  },
  {
   "cell_type": "code",
   "execution_count": 72,
   "id": "5eda506d-4623-4e74-adb2-8ac901cbcf18",
   "metadata": {},
   "outputs": [],
   "source": [
    "# 2단   3단   4단   5단   6단   ......"
   ]
  },
  {
   "cell_type": "code",
   "execution_count": 75,
   "id": "3aca7b14-455c-40cd-ad1c-9899e34c8375",
   "metadata": {},
   "outputs": [
    {
     "name": "stdout",
     "output_type": "stream",
     "text": [
      "2 * 1 =  2   3 * 1 =  3   4 * 1 =  4   5 * 1 =  5   6 * 1 =  6   7 * 1 =  7   8 * 1 =  8   9 * 1 =  9   \n",
      "2 * 2 =  4   3 * 2 =  6   4 * 2 =  8   5 * 2 = 10   6 * 2 = 12   7 * 2 = 14   8 * 2 = 16   9 * 2 = 18   \n",
      "2 * 3 =  6   3 * 3 =  9   4 * 3 = 12   5 * 3 = 15   6 * 3 = 18   7 * 3 = 21   8 * 3 = 24   9 * 3 = 27   \n",
      "2 * 4 =  8   3 * 4 = 12   4 * 4 = 16   5 * 4 = 20   6 * 4 = 24   7 * 4 = 28   8 * 4 = 32   9 * 4 = 36   \n",
      "2 * 5 = 10   3 * 5 = 15   4 * 5 = 20   5 * 5 = 25   6 * 5 = 30   7 * 5 = 35   8 * 5 = 40   9 * 5 = 45   \n",
      "2 * 6 = 12   3 * 6 = 18   4 * 6 = 24   5 * 6 = 30   6 * 6 = 36   7 * 6 = 42   8 * 6 = 48   9 * 6 = 54   \n",
      "2 * 7 = 14   3 * 7 = 21   4 * 7 = 28   5 * 7 = 35   6 * 7 = 42   7 * 7 = 49   8 * 7 = 56   9 * 7 = 63   \n",
      "2 * 8 = 16   3 * 8 = 24   4 * 8 = 32   5 * 8 = 40   6 * 8 = 48   7 * 8 = 56   8 * 8 = 64   9 * 8 = 72   \n",
      "2 * 9 = 18   3 * 9 = 27   4 * 9 = 36   5 * 9 = 45   6 * 9 = 54   7 * 9 = 63   8 * 9 = 72   9 * 9 = 81   \n"
     ]
    }
   ],
   "source": [
    "for i in range(1,10):\n",
    "    for j in range(2,10):\n",
    "        print(f'{j} * {i} = {j*i:2}',end='   ')\n",
    "    print()"
   ]
  },
  {
   "cell_type": "code",
   "execution_count": null,
   "id": "a21917c7-b953-443c-8eef-9c12f9e8031a",
   "metadata": {},
   "outputs": [],
   "source": []
  }
 ],
 "metadata": {
  "kernelspec": {
   "display_name": "Python 3 (ipykernel)",
   "language": "python",
   "name": "python3"
  },
  "language_info": {
   "codemirror_mode": {
    "name": "ipython",
    "version": 3
   },
   "file_extension": ".py",
   "mimetype": "text/x-python",
   "name": "python",
   "nbconvert_exporter": "python",
   "pygments_lexer": "ipython3",
   "version": "3.9.12"
  }
 },
 "nbformat": 4,
 "nbformat_minor": 5
}
