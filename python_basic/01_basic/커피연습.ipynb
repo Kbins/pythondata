{
 "cells": [
  {
   "cell_type": "code",
   "execution_count": 1,
   "id": "cec39256-fed4-4105-99f2-4079ecc8a7b0",
   "metadata": {},
   "outputs": [],
   "source": [
    "# # 커피자판기\n",
    "# 1. 커피자판기 2. 메뉴추가 3.메뉴삭제 4.메뉴목록 5.종료\n",
    "# - 프로그램이 시작될때 필요한 정보를 읽어서 시작합니다.\n",
    "# - 커피자판기 무한반복하면서 돈을 입력받고, 메뉴를 선택해서 처리\n",
    "# - 메뉴추가 자판기에서 판매하는 메뉴를 추가하는 기능(메뉴명,가격)\n",
    "# - 메뉴삭제는 전체 목록을 보여주고 삭제하고자하는 항목을 선택하도록 해서 삭제 처리\n",
    "# - 메뉴목록은 메뉴이름순,메뉴가격순으로 정렬해서 보여줌.\n",
    "# - 종료는 메뉴 정보를 저장하고 종료합니다."
   ]
  },
  {
   "cell_type": "code",
   "execution_count": null,
   "id": "28cd73e4-c16c-4317-a30d-68bd0c069ec1",
   "metadata": {},
   "outputs": [],
   "source": [
    "item = {'아이스아메리카노':2000,\n",
    "        '라떼':3500,\n",
    "        '프라프치노':4500}\n",
    "menu_display = '''\n",
    "--------------------------------------------------------\n",
    "1.커피자판기   2.메뉴추가  3.메뉴삭제  4.메뉴목록  5.종료\n",
    "--------------------------------------------------------\n",
    ">>> '''\n",
    "\n",
    "while True:\n",
    "    menu = input(menu_display)\n",
    "    if menu == '1':\n",
    "        choice = '선택'\n",
    "        while choice:\n",
    "            for k,v in item.items():\n",
    "                print(f'{k}:{v:,}원',end=' ')\n",
    "            print()\n",
    "            choice = input('메뉴 선택 (종료:enter)')\n",
    "            money = int(input('금액 투입!'))\n",
    "            if choice in item.keys():\n",
    "                if money >= item[choice]:\n",
    "                    money -= item[choice]\n",
    "                    print(f'{choice}서비스! 거스름돈{money}')\n",
    "            else:\n",
    "                print('해당 메뉴가 없어요')\n",
    "             \n",
    "    elif menu == '2':\n",
    "        menu_name = input('메뉴을 입력하세요')\n",
    "        \n",
    "        menu_price = ''\n",
    "        while not menu_price.isdigit():\n",
    "                menu_price = input('메뉴 가격 입력')\n",
    "        menu_price = int(menu_price)\n",
    "        \n",
    "        if menu_name in item.keys():\n",
    "            print(f'{menu_name}는 이미 존재')\n",
    "        else:\n",
    "            print(f'{menu_name}메뉴 추가')\n",
    "        item[menu_name] = menu_price\n",
    "        print(item)\n",
    "        \n",
    "    elif menu == '3':\n",
    "        menu_name = input('삭제할 메뉴를 적으세요')\n",
    "        if menu_name in item.keys():\n",
    "            print(f'{menu_name}을 삭제')\n",
    "            del item[menu_name]\n",
    "    elif menu == '4':\n",
    "        menu1 = input('1.이름순 2가격순')\n",
    "        if menu1 == '1':\n",
    "            for k,v in sorted(item.items(),key=lambda x:x[0]):\n",
    "                print(f'{k:25} : {v:10}원')\n",
    "        elif menu1 == '2':\n",
    "            for k,v in sorted(item.items(),key=lambda x:x[1]):\n",
    "                print(f'{k:25} : {v:10}원')\n",
    "    elif menu == '5':\n",
    "        break\n",
    "    else:\n",
    "        print('메뉴를 잘못 선택')"
   ]
  }
 ],
 "metadata": {
  "kernelspec": {
   "display_name": "Python 3 (ipykernel)",
   "language": "python",
   "name": "python3"
  },
  "language_info": {
   "codemirror_mode": {
    "name": "ipython",
    "version": 3
   },
   "file_extension": ".py",
   "mimetype": "text/x-python",
   "name": "python",
   "nbconvert_exporter": "python",
   "pygments_lexer": "ipython3",
   "version": "3.9.12"
  }
 },
 "nbformat": 4,
 "nbformat_minor": 5
}
