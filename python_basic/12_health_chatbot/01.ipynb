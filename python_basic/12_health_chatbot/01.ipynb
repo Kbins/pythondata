{
 "cells": [
  {
   "cell_type": "code",
   "execution_count": 1,
   "id": "2f896886-50f0-46ae-be86-81b2cdec7352",
   "metadata": {
    "tags": []
   },
   "outputs": [
    {
     "name": "stdout",
     "output_type": "stream",
     "text": [
      "Requirement already satisfied: sentence-transformers in c:\\users\\pknu\\anaconda3\\lib\\site-packages (2.2.2)\n",
      "Requirement already satisfied: nltk in c:\\users\\pknu\\anaconda3\\lib\\site-packages (from sentence-transformers) (3.7)\n",
      "Requirement already satisfied: scipy in c:\\users\\pknu\\anaconda3\\lib\\site-packages (from sentence-transformers) (1.7.3)\n",
      "Requirement already satisfied: sentencepiece in c:\\users\\pknu\\anaconda3\\lib\\site-packages (from sentence-transformers) (0.1.96)\n",
      "Requirement already satisfied: huggingface-hub>=0.4.0 in c:\\users\\pknu\\anaconda3\\lib\\site-packages (from sentence-transformers) (0.8.1)\n",
      "Requirement already satisfied: torch>=1.6.0 in c:\\users\\pknu\\anaconda3\\lib\\site-packages (from sentence-transformers) (1.12.0)\n",
      "Requirement already satisfied: numpy in c:\\users\\pknu\\anaconda3\\lib\\site-packages (from sentence-transformers) (1.21.5)\n",
      "Requirement already satisfied: tqdm in c:\\users\\pknu\\anaconda3\\lib\\site-packages (from sentence-transformers) (4.64.0)\n",
      "Requirement already satisfied: transformers<5.0.0,>=4.6.0 in c:\\users\\pknu\\anaconda3\\lib\\site-packages (from sentence-transformers) (4.20.1)\n",
      "Requirement already satisfied: torchvision in c:\\users\\pknu\\anaconda3\\lib\\site-packages (from sentence-transformers) (0.13.0)\n",
      "Requirement already satisfied: scikit-learn in c:\\users\\pknu\\anaconda3\\lib\\site-packages (from sentence-transformers) (1.0.2)\n",
      "Requirement already satisfied: filelock in c:\\users\\pknu\\anaconda3\\lib\\site-packages (from huggingface-hub>=0.4.0->sentence-transformers) (3.6.0)\n",
      "Requirement already satisfied: pyyaml>=5.1 in c:\\users\\pknu\\anaconda3\\lib\\site-packages (from huggingface-hub>=0.4.0->sentence-transformers) (6.0)\n",
      "Requirement already satisfied: packaging>=20.9 in c:\\users\\pknu\\anaconda3\\lib\\site-packages (from huggingface-hub>=0.4.0->sentence-transformers) (21.3)\n",
      "Requirement already satisfied: typing-extensions>=3.7.4.3 in c:\\users\\pknu\\anaconda3\\lib\\site-packages (from huggingface-hub>=0.4.0->sentence-transformers) (4.1.1)\n",
      "Requirement already satisfied: requests in c:\\users\\pknu\\anaconda3\\lib\\site-packages (from huggingface-hub>=0.4.0->sentence-transformers) (2.27.1)\n",
      "Requirement already satisfied: pyparsing!=3.0.5,>=2.0.2 in c:\\users\\pknu\\anaconda3\\lib\\site-packages (from packaging>=20.9->huggingface-hub>=0.4.0->sentence-transformers) (3.0.4)\n",
      "Requirement already satisfied: tokenizers!=0.11.3,<0.13,>=0.11.1 in c:\\users\\pknu\\anaconda3\\lib\\site-packages (from transformers<5.0.0,>=4.6.0->sentence-transformers) (0.12.1)\n",
      "Requirement already satisfied: regex!=2019.12.17 in c:\\users\\pknu\\anaconda3\\lib\\site-packages (from transformers<5.0.0,>=4.6.0->sentence-transformers) (2022.3.15)\n",
      "Requirement already satisfied: colorama in c:\\users\\pknu\\anaconda3\\lib\\site-packages (from tqdm->sentence-transformers) (0.4.4)\n",
      "Requirement already satisfied: joblib in c:\\users\\pknu\\anaconda3\\lib\\site-packages (from nltk->sentence-transformers) (1.1.0)\n",
      "Requirement already satisfied: click in c:\\users\\pknu\\anaconda3\\lib\\site-packages (from nltk->sentence-transformers) (8.0.4)\n",
      "Requirement already satisfied: idna<4,>=2.5 in c:\\users\\pknu\\anaconda3\\lib\\site-packages (from requests->huggingface-hub>=0.4.0->sentence-transformers) (3.3)\n",
      "Requirement already satisfied: certifi>=2017.4.17 in c:\\users\\pknu\\anaconda3\\lib\\site-packages (from requests->huggingface-hub>=0.4.0->sentence-transformers) (2021.10.8)\n",
      "Requirement already satisfied: charset-normalizer~=2.0.0 in c:\\users\\pknu\\anaconda3\\lib\\site-packages (from requests->huggingface-hub>=0.4.0->sentence-transformers) (2.0.4)\n",
      "Requirement already satisfied: urllib3<1.27,>=1.21.1 in c:\\users\\pknu\\anaconda3\\lib\\site-packages (from requests->huggingface-hub>=0.4.0->sentence-transformers) (1.26.9)\n",
      "Requirement already satisfied: threadpoolctl>=2.0.0 in c:\\users\\pknu\\anaconda3\\lib\\site-packages (from scikit-learn->sentence-transformers) (2.2.0)\n",
      "Requirement already satisfied: pillow!=8.3.*,>=5.3.0 in c:\\users\\pknu\\anaconda3\\lib\\site-packages (from torchvision->sentence-transformers) (9.0.1)\n"
     ]
    }
   ],
   "source": [
    "!pip install -U sentence-transformers"
   ]
  },
  {
   "cell_type": "code",
   "execution_count": 2,
   "id": "8c0a1aab-e573-4909-a852-a7236304f44f",
   "metadata": {},
   "outputs": [
    {
     "name": "stdout",
     "output_type": "stream",
     "text": [
      "[[-0.37510458 -0.7733839   0.5927711  ...  0.57923526  0.3268346\n",
      "  -0.65089655]\n",
      " [-0.09361681 -0.18191518 -0.19230832 ... -0.03165777  0.30412534\n",
      "  -0.2679363 ]]\n"
     ]
    }
   ],
   "source": [
    "from sentence_transformers import SentenceTransformer\n",
    "sentences = [\"안녕하세요?\", \"한국어 문장 임베딩을 위한 버트 모델입니다.\"]\n",
    "\n",
    "model = SentenceTransformer('jhgan/ko-sroberta-multitask')\n",
    "embeddings = model.encode(sentences)\n",
    "print(embeddings)"
   ]
  },
  {
   "cell_type": "code",
   "execution_count": 3,
   "id": "5ff3f216-aba9-451c-8741-cb940f71bbbb",
   "metadata": {},
   "outputs": [
    {
     "data": {
      "text/plain": [
       "numpy.ndarray"
      ]
     },
     "execution_count": 3,
     "metadata": {},
     "output_type": "execute_result"
    }
   ],
   "source": [
    "type(embeddings)"
   ]
  },
  {
   "cell_type": "code",
   "execution_count": 4,
   "id": "388c4bdc-b6dc-47c7-8026-f30295944bf4",
   "metadata": {},
   "outputs": [
    {
     "data": {
      "text/plain": [
       "(2, 768)"
      ]
     },
     "execution_count": 4,
     "metadata": {},
     "output_type": "execute_result"
    }
   ],
   "source": [
    "embeddings.shape"
   ]
  },
  {
   "cell_type": "code",
   "execution_count": 5,
   "id": "ff5303d6-725e-46c7-bf01-2da0e628574b",
   "metadata": {},
   "outputs": [],
   "source": [
    "import pandas as pd"
   ]
  },
  {
   "cell_type": "code",
   "execution_count": 6,
   "id": "f52ccca9-b3b9-4ccf-b843-2adccfff3ea9",
   "metadata": {},
   "outputs": [],
   "source": [
    "df = pd.read_csv('12_health_chatbot/wellness_dataset_original.csv')"
   ]
  },
  {
   "cell_type": "code",
   "execution_count": 7,
   "id": "0ca3c05f-4875-49db-b800-69f0c1a961fd",
   "metadata": {
    "tags": []
   },
   "outputs": [
    {
     "name": "stdout",
     "output_type": "stream",
     "text": [
      " H 드라이브의 볼륨: D\n",
      " 볼륨 일련 번호: ACC0-E27F\n",
      "\n",
      " H:\\pythondata\\python_basic 디렉터리\n",
      "\n",
      "2022-07-19  오후 01:36    <DIR>          .\n",
      "2022-07-19  오후 01:36    <DIR>          ..\n",
      "2022-07-19  오후 01:36    <DIR>          .ipynb_checkpoints\n",
      "2022-07-13  오후 02:42    <DIR>          01_basic\n",
      "2022-06-30  오후 03:44    <DIR>          02_pakage\n",
      "2022-07-04  오전 09:02    <DIR>          03_db\n",
      "2022-07-04  오후 01:51    <DIR>          04_crawling\n",
      "2022-07-14  오후 08:10    <DIR>          05_pandas\n",
      "2022-07-15  오후 07:25    <DIR>          06_matplotlib\n",
      "2022-07-15  오후 07:25    <DIR>          07_wordcloud\n",
      "2022-07-19  오전 08:45    <DIR>          08_folium\n",
      "2022-07-18  오전 10:59    <DIR>          09_flask\n",
      "2022-07-19  오후 12:16    <DIR>          10_flask\n",
      "2022-07-19  오전 11:05    <DIR>          11_learnig\n",
      "2022-07-19  오후 02:08    <DIR>          12_health_chatbot\n",
      "2022-07-18  오후 05:08    <DIR>          Bootstrap 직접해보기\n",
      "               0개 파일                   0 바이트\n",
      "              16개 디렉터리  498,148,347,904 바이트 남음\n"
     ]
    }
   ],
   "source": [
    "!dir"
   ]
  },
  {
   "cell_type": "code",
   "execution_count": 8,
   "id": "4c5c5889-8067-4739-b718-48d2c0d33fe1",
   "metadata": {
    "tags": []
   },
   "outputs": [
    {
     "name": "stderr",
     "output_type": "stream",
     "text": [
      "'pwd'은(는) 내부 또는 외부 명령, 실행할 수 있는 프로그램, 또는\n",
      "배치 파일이 아닙니다.\n"
     ]
    }
   ],
   "source": [
    "!pwd"
   ]
  },
  {
   "cell_type": "code",
   "execution_count": 9,
   "id": "6badf280-3fa7-4ed7-9ed4-2403bb28d878",
   "metadata": {},
   "outputs": [
    {
     "data": {
      "text/html": [
       "<div>\n",
       "<style scoped>\n",
       "    .dataframe tbody tr th:only-of-type {\n",
       "        vertical-align: middle;\n",
       "    }\n",
       "\n",
       "    .dataframe tbody tr th {\n",
       "        vertical-align: top;\n",
       "    }\n",
       "\n",
       "    .dataframe thead th {\n",
       "        text-align: right;\n",
       "    }\n",
       "</style>\n",
       "<table border=\"1\" class=\"dataframe\">\n",
       "  <thead>\n",
       "    <tr style=\"text-align: right;\">\n",
       "      <th></th>\n",
       "      <th>구분</th>\n",
       "      <th>유저</th>\n",
       "      <th>챗봇</th>\n",
       "      <th>Unnamed: 3</th>\n",
       "    </tr>\n",
       "  </thead>\n",
       "  <tbody>\n",
       "    <tr>\n",
       "      <th>0</th>\n",
       "      <td>감정/감정조절이상</td>\n",
       "      <td>제 감정이 이상해진 것 같아요. 남편만 보면 화가 치밀어 오르고 감정 조절이 안되요.</td>\n",
       "      <td>감정이 조절이 안 될 때만큼 힘들 때는 없는 거 같아요.</td>\n",
       "      <td>NaN</td>\n",
       "    </tr>\n",
       "  </tbody>\n",
       "</table>\n",
       "</div>"
      ],
      "text/plain": [
       "          구분                                               유저  \\\n",
       "0  감정/감정조절이상  제 감정이 이상해진 것 같아요. 남편만 보면 화가 치밀어 오르고 감정 조절이 안되요.   \n",
       "\n",
       "                                챗봇  Unnamed: 3  \n",
       "0  감정이 조절이 안 될 때만큼 힘들 때는 없는 거 같아요.         NaN  "
      ]
     },
     "execution_count": 9,
     "metadata": {},
     "output_type": "execute_result"
    }
   ],
   "source": [
    "df.head(1)"
   ]
  },
  {
   "cell_type": "code",
   "execution_count": 10,
   "id": "d53bdc95-e318-4b73-b862-a4bd64fe0c30",
   "metadata": {},
   "outputs": [
    {
     "data": {
      "text/html": [
       "<div>\n",
       "<style scoped>\n",
       "    .dataframe tbody tr th:only-of-type {\n",
       "        vertical-align: middle;\n",
       "    }\n",
       "\n",
       "    .dataframe tbody tr th {\n",
       "        vertical-align: top;\n",
       "    }\n",
       "\n",
       "    .dataframe thead th {\n",
       "        text-align: right;\n",
       "    }\n",
       "</style>\n",
       "<table border=\"1\" class=\"dataframe\">\n",
       "  <thead>\n",
       "    <tr style=\"text-align: right;\">\n",
       "      <th></th>\n",
       "      <th>구분</th>\n",
       "      <th>유저</th>\n",
       "      <th>챗봇</th>\n",
       "    </tr>\n",
       "  </thead>\n",
       "  <tbody>\n",
       "    <tr>\n",
       "      <th>0</th>\n",
       "      <td>감정/감정조절이상</td>\n",
       "      <td>제 감정이 이상해진 것 같아요. 남편만 보면 화가 치밀어 오르고 감정 조절이 안되요.</td>\n",
       "      <td>감정이 조절이 안 될 때만큼 힘들 때는 없는 거 같아요.</td>\n",
       "    </tr>\n",
       "  </tbody>\n",
       "</table>\n",
       "</div>"
      ],
      "text/plain": [
       "          구분                                               유저  \\\n",
       "0  감정/감정조절이상  제 감정이 이상해진 것 같아요. 남편만 보면 화가 치밀어 오르고 감정 조절이 안되요.   \n",
       "\n",
       "                                챗봇  \n",
       "0  감정이 조절이 안 될 때만큼 힘들 때는 없는 거 같아요.  "
      ]
     },
     "execution_count": 10,
     "metadata": {},
     "output_type": "execute_result"
    }
   ],
   "source": [
    "df.drop(columns=['Unnamed: 3'],inplace=True)\n",
    "df.head(1)"
   ]
  },
  {
   "cell_type": "code",
   "execution_count": 11,
   "id": "d59f03d2-b603-4cc9-8c4a-b8bdb6ee6ac2",
   "metadata": {},
   "outputs": [
    {
     "data": {
      "text/plain": [
       "구분       0\n",
       "유저       0\n",
       "챗봇    4197\n",
       "dtype: int64"
      ]
     },
     "execution_count": 11,
     "metadata": {},
     "output_type": "execute_result"
    }
   ],
   "source": [
    "df.isna().sum()"
   ]
  },
  {
   "cell_type": "code",
   "execution_count": 12,
   "id": "c0e1d572-5624-4a6b-b7dc-4277d9d44e02",
   "metadata": {},
   "outputs": [],
   "source": [
    "df = df[-df['챗봇'].isna()]"
   ]
  },
  {
   "cell_type": "code",
   "execution_count": 13,
   "id": "65809a2d-7144-41c3-9539-d0e446919c2b",
   "metadata": {},
   "outputs": [
    {
     "data": {
      "text/plain": [
       "(1034, 3)"
      ]
     },
     "execution_count": 13,
     "metadata": {},
     "output_type": "execute_result"
    }
   ],
   "source": [
    "df.shape"
   ]
  },
  {
   "cell_type": "code",
   "execution_count": 15,
   "id": "4403e75c-612b-4c19-9767-8e6b4496b278",
   "metadata": {},
   "outputs": [
    {
     "data": {
      "text/plain": [
       "'제 감정이 이상해진 것 같아요. 남편만 보면 화가 치밀어 오르고 감정 조절이 안되요.'"
      ]
     },
     "execution_count": 15,
     "metadata": {},
     "output_type": "execute_result"
    }
   ],
   "source": [
    "df.loc[0,'유저']"
   ]
  },
  {
   "cell_type": "code",
   "execution_count": 16,
   "id": "c00685cd-2f93-490a-9fc2-0b6c5dabcb21",
   "metadata": {
    "collapsed": true,
    "jupyter": {
     "outputs_hidden": true
    },
    "tags": []
   },
   "outputs": [
    {
     "data": {
      "text/plain": [
       "array([-4.80606616e-01, -2.94869423e-01,  4.37900215e-01, -6.40137851e-01,\n",
       "        3.28670740e-02, -3.42647374e-01, -5.47481179e-02,  1.73056182e-02,\n",
       "       -4.08221096e-01, -5.06034076e-01, -1.68733463e-01, -3.98676932e-01,\n",
       "       -1.24776840e-01, -9.71538201e-02, -1.65286884e-01,  5.72612369e-03,\n",
       "        6.13690987e-02, -1.91312388e-01,  2.53917605e-01, -5.85019708e-01,\n",
       "       -2.84425557e-01, -2.32034907e-01, -3.27080548e-01,  6.72975630e-02,\n",
       "       -1.62805827e-05, -4.72336292e-01, -3.60021859e-01,  2.91879863e-01,\n",
       "       -6.63861156e-01, -3.10574383e-01,  5.79524994e-01, -3.11722606e-01,\n",
       "        1.47696752e-02, -2.12172851e-01,  2.22057894e-01, -1.73828974e-01,\n",
       "       -3.78458500e-01, -4.20398414e-01, -2.38218918e-01,  6.38703927e-02,\n",
       "       -1.15304396e-01, -2.44563922e-01, -5.00228345e-01,  1.68355241e-01,\n",
       "       -6.58360124e-01, -8.91941845e-01, -6.26956999e-01, -3.21965545e-01,\n",
       "       -7.05358803e-01,  3.71447295e-01, -5.45803428e-01,  7.76295438e-02,\n",
       "        1.09864593e-01,  2.60926723e-01,  5.70638776e-01,  4.83376235e-01,\n",
       "       -4.98233259e-01, -1.25609308e-01,  6.48293421e-02,  1.31347179e-02,\n",
       "       -9.61790606e-02, -4.69374985e-01,  1.95989043e-01,  5.54263532e-01,\n",
       "       -5.48073724e-02,  5.83692908e-01,  5.35227418e-01,  1.76424950e-01,\n",
       "       -1.22763276e-01,  1.60847023e-01,  1.41474932e-01,  1.20705247e+00,\n",
       "        6.68891907e-01, -1.77987143e-01, -2.65273869e-01, -7.37364888e-02,\n",
       "       -6.52006984e-01,  7.05029070e-01,  3.38973105e-01,  7.44479597e-01,\n",
       "       -2.32737392e-01,  8.69918019e-02, -1.99688748e-01,  3.89366485e-02,\n",
       "        4.56739157e-01,  4.72499102e-01,  4.76455599e-01, -3.94157469e-01,\n",
       "       -1.58249855e-01,  2.30056524e-01, -7.33413160e-01, -2.81495035e-01,\n",
       "       -3.65628809e-01, -3.06134790e-01,  5.54837763e-01, -4.36482392e-02,\n",
       "        6.42942125e-03,  6.42393649e-01, -4.23780769e-01,  3.66444916e-01,\n",
       "       -2.23843321e-01, -1.02090812e+00,  2.90704578e-01, -1.98106363e-01,\n",
       "        1.18598655e-01, -1.10149610e+00,  7.87619222e-03,  4.42555338e-01,\n",
       "       -1.84308976e-01, -1.11383510e+00, -6.35486096e-02,  3.82617682e-01,\n",
       "        3.19343023e-02,  5.33849001e-03,  1.28215089e-01,  2.67615050e-01,\n",
       "       -4.09684747e-01, -2.34070271e-01,  4.23293889e-01, -1.85263842e-01,\n",
       "        5.28334200e-01, -8.20846930e-02, -1.60460085e-01, -2.11379632e-01,\n",
       "       -3.30951698e-02, -5.65643966e-01, -8.22234079e-02,  6.33469582e-01,\n",
       "       -6.89976364e-02, -4.09637660e-01, -1.70856342e-01, -4.48214747e-02,\n",
       "        2.04584494e-01, -7.15699196e-01,  2.02314124e-01,  1.36369318e-01,\n",
       "       -2.02902183e-01, -6.36676133e-01,  2.00451687e-01,  3.50281924e-01,\n",
       "       -6.38650239e-01, -6.02856278e-02, -1.89429522e-01, -1.09799691e-01,\n",
       "       -1.02065906e-01, -3.87781322e-01, -6.51845708e-02, -1.08272703e-02,\n",
       "       -1.96998373e-01, -8.77868608e-02, -6.75757885e-01, -4.23239708e-01,\n",
       "        8.39255974e-02,  3.25871497e-01,  8.25180471e-01, -3.97949725e-01,\n",
       "        8.68656789e-04,  5.75698018e-01,  8.25041533e-02,  9.16275904e-02,\n",
       "       -5.58025002e-01, -1.46185532e-01, -7.81165779e-01,  8.25589523e-02,\n",
       "       -7.54720718e-02,  1.78786650e-01,  1.14617182e-03,  2.46109098e-01,\n",
       "        2.54704744e-01, -2.15058118e-01,  4.98201281e-01,  1.62568092e-01,\n",
       "        3.10305178e-01,  1.72159284e-01,  6.11411750e-01,  2.40110248e-01,\n",
       "        4.81477946e-01,  5.03619313e-02,  4.37822968e-01, -3.92508030e-01,\n",
       "       -5.68297565e-01,  9.06163216e-01,  4.21260685e-01,  2.00669974e-01,\n",
       "       -3.01369160e-01,  3.08158666e-01,  2.09018826e-01, -3.07969421e-01,\n",
       "       -1.80494666e-01,  6.86861649e-02,  8.82594764e-01,  1.83177948e-01,\n",
       "       -1.13062263e-01, -5.55954933e-01, -9.77978576e-03, -1.27596676e-01,\n",
       "       -4.29738671e-01, -1.13016792e-01, -1.89254507e-01,  2.49697462e-01,\n",
       "       -2.61328608e-01, -3.91260684e-01, -2.63828337e-01,  1.65253565e-01,\n",
       "        5.30026436e-01, -3.99860054e-01, -3.08908403e-01,  3.59966487e-01,\n",
       "        4.66617286e-01, -3.19500752e-02, -5.92678905e-01, -3.42451990e-01,\n",
       "       -1.90145895e-01, -3.22044462e-01, -2.08034009e-01, -4.68787611e-01,\n",
       "        2.60370225e-01, -3.10487896e-01,  3.08493555e-01, -5.58807433e-01,\n",
       "       -3.15932423e-01, -6.11169457e-01, -8.03795457e-03, -3.57464552e-01,\n",
       "       -7.77103975e-02, -1.36108488e-01,  3.62247080e-01, -1.04268181e+00,\n",
       "        2.66694844e-01, -3.39091033e-01,  6.24726061e-03,  5.45239188e-02,\n",
       "       -1.02638483e-01, -2.67193556e-01, -5.36906838e-01, -3.32567841e-01,\n",
       "        1.79672867e-01, -4.72881272e-02,  2.58300960e-01,  6.13249950e-02,\n",
       "        4.89076562e-02, -2.22135022e-01, -5.60372531e-01,  2.79794246e-01,\n",
       "       -2.88628995e-01,  3.76666009e-01, -6.29106939e-01, -5.76253057e-01,\n",
       "        5.28726578e-01, -5.10725558e-01, -1.89374462e-01, -3.58018130e-01,\n",
       "       -5.50130725e-01,  1.71586514e-01,  9.91871729e-02, -1.48076624e-01,\n",
       "        9.65984687e-02,  2.78743654e-01,  1.04141104e+00, -2.29346961e-01,\n",
       "        5.47819912e-01, -1.33991167e-01,  4.53759044e-01, -1.24763198e-01,\n",
       "       -3.36636335e-01,  1.19639024e-01, -2.03773640e-02, -4.97904986e-01,\n",
       "       -3.44481468e-01,  5.91197848e-01,  2.08580688e-01, -4.75012720e-01,\n",
       "        1.56643942e-01, -2.28076428e-01,  1.56071573e-01,  7.77589500e-01,\n",
       "        5.55078872e-02,  4.68445271e-01, -4.18879129e-02, -2.33576342e-01,\n",
       "        6.30587101e-01,  3.43996108e-01, -3.72299612e-01,  4.22592819e-01,\n",
       "       -1.28934944e+00,  7.28118360e-01,  7.39577174e-01, -1.57391593e-01,\n",
       "       -2.73995399e-01,  3.68652530e-02, -5.34251630e-01,  5.79056442e-01,\n",
       "        4.52849299e-01, -1.12652838e+00,  8.49233121e-02,  4.00369950e-02,\n",
       "        5.59743762e-01, -1.44835874e-01, -1.36150226e-01,  2.27955416e-01,\n",
       "       -2.42799491e-01,  4.50198263e-01, -4.44726795e-01,  5.72472289e-02,\n",
       "       -3.26299429e-01,  3.96920554e-02, -3.63902718e-01, -7.14615941e-01,\n",
       "        2.71116160e-02,  3.17301959e-01,  2.74653137e-01, -2.76966423e-01,\n",
       "       -6.03288114e-01, -1.80377252e-02, -1.60021424e-01,  4.97588634e-01,\n",
       "       -4.02046829e-01, -3.95431340e-01, -1.88366890e-01,  2.06625134e-01,\n",
       "        3.04095745e-01, -3.11066240e-01,  3.70663665e-02, -9.00971711e-01,\n",
       "        2.54859656e-01, -2.00540349e-01,  1.62926778e-01, -3.99486005e-01,\n",
       "        4.31149155e-01,  9.35605228e-01,  7.70609200e-01, -1.80281520e-01,\n",
       "        7.98517585e-01, -5.61508358e-01,  3.77493680e-01, -3.04624707e-01,\n",
       "        3.04160684e-01, -7.78201371e-02, -1.80557951e-01,  1.92048699e-01,\n",
       "        7.25668430e-01, -1.46759659e-01,  2.77360052e-01, -3.10689896e-01,\n",
       "        3.84764254e-01, -9.89022478e-02,  1.33972764e-02, -3.74624252e-01,\n",
       "        6.19450271e-01, -1.19058676e-01,  5.74723661e-01,  4.28427011e-01,\n",
       "        1.73577145e-01, -5.50395548e-01,  3.84832442e-01, -1.56954914e-01,\n",
       "       -1.65573712e-02,  2.90996246e-02, -1.59130201e-01,  7.94793785e-01,\n",
       "        4.56630856e-01,  1.08081810e-01,  1.70058578e-01,  3.50347608e-02,\n",
       "       -2.01883003e-01, -1.83399871e-01,  2.56279558e-01,  8.36629927e-01,\n",
       "        5.35586953e-01,  4.41516608e-01,  3.18019167e-02, -2.46379524e-01,\n",
       "       -2.17681736e-01,  2.26683930e-01, -2.78986037e-01,  4.22987938e-02,\n",
       "       -2.80858904e-01,  2.65038729e-01, -3.63109261e-01, -6.51625574e-01,\n",
       "        1.56545803e-01, -1.82192866e-02, -2.57317811e-01,  1.89768329e-01,\n",
       "       -1.36993527e-01,  4.79501598e-02,  4.41078722e-01, -2.83327013e-01,\n",
       "        1.25181928e-01,  4.78675544e-01,  3.22104394e-01, -3.69764954e-01,\n",
       "       -6.76260352e-01,  3.52737457e-01,  1.97329089e-01,  3.01312268e-01,\n",
       "       -1.70432329e-01,  1.91598330e-02, -4.52054739e-01, -2.89518833e-01,\n",
       "        6.21264338e-01,  7.11012363e-01,  7.38061443e-02, -1.13718808e-01,\n",
       "        4.01600033e-01,  3.53704721e-01, -1.70214400e-01, -6.32789493e-01,\n",
       "       -5.92871785e-01,  4.90854800e-01,  3.11830848e-01, -1.06596112e-01,\n",
       "        6.99721038e-01, -6.40676081e-01,  9.11575034e-02,  1.48974761e-01,\n",
       "        1.12392139e-02,  1.35593757e-01,  1.30469635e-01, -3.76635283e-01,\n",
       "        5.62429905e-01, -4.00536329e-01,  2.05565006e-01, -2.96905100e-01,\n",
       "       -5.38131118e-01, -4.20320541e-01, -6.31194487e-02,  1.50621623e-01,\n",
       "       -3.38527530e-01,  5.21204591e-01, -4.65558529e-01, -3.12167257e-01,\n",
       "       -3.87226880e-01, -4.87661928e-01, -1.49837346e-03,  6.48480058e-01,\n",
       "        1.56930938e-01, -3.11310142e-01, -8.74776691e-02, -2.41719276e-01,\n",
       "       -8.19946587e-01, -9.02201116e-01, -8.39586914e-01,  2.95952205e-02,\n",
       "        3.79318863e-01, -3.63524646e-01, -2.12089136e-01,  3.26290786e-01,\n",
       "       -5.83360553e-01, -2.70313531e-01, -1.90380096e-01,  5.40128052e-01,\n",
       "        4.60663795e-01,  2.41606206e-01, -1.55656010e-01,  1.10515499e+00,\n",
       "        3.81636888e-01, -1.74268559e-01,  1.18968174e-01, -2.14279562e-01,\n",
       "        3.82164210e-01, -3.88768911e-01,  5.05674779e-01,  1.41617849e-01,\n",
       "        3.24829549e-01,  1.17207117e-01,  1.90372616e-01, -1.00517757e-01,\n",
       "        7.24771693e-02, -8.40551853e-01, -1.66888162e-01,  1.35379001e-01,\n",
       "       -2.34575957e-01, -6.08672909e-02, -2.85460919e-01,  6.98203385e-01,\n",
       "       -3.75757039e-01, -1.00718021e-01, -6.50324464e-01,  1.71460584e-01,\n",
       "       -4.01935428e-01,  5.49870670e-01,  8.29206854e-02, -1.16668716e-01,\n",
       "        7.88919330e-02,  8.92651454e-02,  4.86942917e-01, -4.59339470e-01,\n",
       "        9.24550816e-02,  7.74140239e-01, -9.86551821e-01, -1.73161432e-01,\n",
       "       -1.85814351e-01, -5.37258089e-01, -2.54958570e-01, -4.34431881e-01,\n",
       "        3.07514574e-02, -8.44854057e-01, -2.82899648e-01, -1.30699515e+00,\n",
       "       -6.73803151e-01, -6.54637456e-01,  4.86585200e-01, -2.13963702e-01,\n",
       "        5.78385830e-01,  2.93961942e-01, -4.04392302e-01, -7.01608539e-01,\n",
       "       -1.73342898e-01,  3.51328641e-01,  1.19920798e-01,  6.68859556e-02,\n",
       "       -1.38902858e-01, -5.46096981e-01,  1.97513834e-01,  8.67951736e-02,\n",
       "       -7.13970482e-01,  1.36450812e-01,  4.15191710e-01, -1.77055359e-01,\n",
       "       -2.05800742e-01,  6.08606219e-01, -1.40279487e-01,  2.65653998e-01,\n",
       "        5.22156954e-02, -1.10528812e-01,  3.22062194e-01, -2.36263186e-01,\n",
       "        2.32510701e-01, -4.01646554e-01,  9.92266536e-02,  2.12363556e-01,\n",
       "        4.54302788e-01,  1.93776801e-01,  1.90576926e-01,  6.74432874e-01,\n",
       "        6.50041848e-02,  1.11985587e-01, -6.33732453e-02,  4.36560661e-01,\n",
       "        7.08307564e-01,  4.61303681e-01, -4.12172824e-01, -3.44057292e-01,\n",
       "       -3.16411793e-01, -3.95598382e-01, -1.39264837e-02, -2.46823549e-01,\n",
       "       -5.97274899e-01, -4.93520200e-01,  2.20008921e-02, -6.79914653e-01,\n",
       "       -1.32434005e-02, -1.62385777e-01, -4.11045998e-01, -4.95454162e-01,\n",
       "       -2.55482018e-01, -1.97103292e-01, -3.67735296e-01, -6.45768583e-01,\n",
       "       -1.24110115e+00,  6.32802665e-01,  1.81258172e-01,  1.86037049e-01,\n",
       "       -2.75285691e-01,  4.46102507e-02, -3.82379055e-01,  6.66201115e-03,\n",
       "       -2.56120890e-01,  6.45589978e-02,  3.85579675e-01, -2.17116356e-01,\n",
       "       -9.55902874e-01, -2.15195999e-01,  4.17431772e-01,  2.25791618e-01,\n",
       "       -4.59713936e-01, -6.38202071e-01, -5.95626831e-01, -8.46444890e-02,\n",
       "       -5.84241271e-01, -5.22198260e-01,  6.69408664e-02,  5.54488182e-01,\n",
       "        2.70057380e-01,  1.14965796e-01,  5.91448009e-01, -9.82940346e-02,\n",
       "       -8.05462301e-01,  1.21461146e-01,  3.13535601e-01, -1.09966703e-01,\n",
       "        4.52007741e-01,  1.56954393e-01, -5.73435903e-01, -4.65393096e-01,\n",
       "       -5.09208217e-02,  1.38996720e-01, -1.79907426e-01,  3.46673802e-02,\n",
       "        3.28499287e-01, -3.08243483e-01, -3.20267826e-01, -7.92234957e-01,\n",
       "       -5.56746185e-01,  2.58380622e-01, -1.15094505e-01, -9.68659073e-02,\n",
       "       -3.73693258e-01,  4.09340441e-01, -2.20841616e-01, -7.74916232e-01,\n",
       "       -3.03384960e-01,  6.75034463e-01, -5.39470911e-01, -1.12011552e-01,\n",
       "       -4.62304533e-01,  4.86268044e-01,  3.34404796e-01,  3.11684817e-01,\n",
       "        1.37019753e-01,  1.20470338e-01, -7.88884580e-01,  2.49228150e-01,\n",
       "        3.69005948e-01, -3.55891660e-02,  9.60912228e-01,  4.11124378e-01,\n",
       "        3.08286935e-01, -8.89442638e-02,  5.68126202e-01, -2.19461992e-01,\n",
       "        6.64631426e-01,  1.33867860e-01, -9.25524384e-02, -4.02042896e-01,\n",
       "       -2.44861290e-01,  4.75438178e-01, -5.59731126e-01,  4.23794538e-01,\n",
       "        7.64953941e-02, -5.34291923e-01,  9.61298794e-02, -1.98237807e-03,\n",
       "        1.52365416e-01,  2.72848643e-02, -2.30465993e-01, -6.57617390e-01,\n",
       "       -8.41355205e-01,  6.93241596e-01, -1.15385926e+00,  3.39940131e-01,\n",
       "        6.39492035e-01, -3.07580698e-02, -9.44075435e-02, -3.81874859e-01,\n",
       "       -1.51737049e-01,  3.89264196e-01,  6.98378682e-01, -3.58799398e-01,\n",
       "        1.73822045e-01, -7.02522844e-02,  2.98745602e-01,  4.25366402e-01,\n",
       "        3.03247482e-01,  4.43032943e-02, -1.19768552e-01,  1.56500787e-01,\n",
       "        5.65419853e-01, -6.15675151e-01, -4.82267886e-01, -6.78219646e-02,\n",
       "       -2.88993508e-01, -4.48902130e-01, -5.26656210e-01,  3.26252282e-01,\n",
       "        5.28493762e-01,  1.38639942e-01, -7.72885203e-01, -5.26201069e-01,\n",
       "        3.72999102e-01,  3.05722088e-01,  6.69044495e-01, -5.61774597e-02,\n",
       "        4.14461166e-01,  2.05879912e-01,  5.97795606e-01,  1.40301138e-01,\n",
       "       -3.20002846e-02,  3.41694146e-01,  4.73952778e-02, -1.09114453e-01,\n",
       "       -4.06928062e-01, -1.22425012e-01, -1.50909647e-01,  2.56388098e-01,\n",
       "        1.39329778e-02, -2.18361035e-01,  4.44866329e-01,  5.06847024e-01,\n",
       "       -2.75423020e-01,  8.68547559e-01, -1.61321908e-01, -8.95715598e-03,\n",
       "        2.11986929e-01,  1.03369914e-01, -1.06486782e-01, -3.07435036e-01,\n",
       "        6.36290491e-01,  4.12887707e-02,  3.60754393e-02, -4.70250137e-02,\n",
       "       -1.08839221e-01, -8.88797175e-03, -1.25094458e-01, -5.34434140e-01,\n",
       "       -4.71274346e-01,  1.96804672e-01,  3.41911986e-02, -5.81325352e-01,\n",
       "        1.44222016e-02,  5.15582204e-01,  1.34000644e-01, -1.61631599e-01,\n",
       "       -1.97617844e-01, -6.94736838e-01, -5.58743954e-01,  9.49026704e-01,\n",
       "       -1.94513768e-01,  4.25469801e-02,  4.92083609e-01, -5.84432125e-01,\n",
       "        6.24192536e-01,  4.92841184e-01,  1.22477196e-01, -4.79153901e-01,\n",
       "        5.99287033e-01,  3.32147360e-01,  1.98169842e-01,  5.98622151e-02,\n",
       "       -6.37894869e-03, -1.07340470e-01, -1.58823863e-01, -1.40382200e-02,\n",
       "       -3.10648024e-01,  4.95430410e-01, -1.67429447e-01, -6.59496859e-02,\n",
       "       -1.76547274e-01, -4.49960858e-01, -2.71651179e-01, -1.50339887e-01,\n",
       "       -1.87571391e-01, -5.60149670e-01,  1.33679420e-01, -4.36347425e-01,\n",
       "        1.28170446e-01, -1.43580481e-01,  2.30380684e-01, -5.46673611e-02,\n",
       "        3.71279985e-01,  1.98934004e-01,  4.64870721e-01,  3.64102095e-01,\n",
       "       -4.83268090e-02,  2.67422944e-01, -7.10749328e-01,  5.07541187e-02],\n",
       "      dtype=float32)"
      ]
     },
     "execution_count": 16,
     "metadata": {},
     "output_type": "execute_result"
    }
   ],
   "source": [
    "model.encode(df.loc[0,'유저'])"
   ]
  },
  {
   "cell_type": "code",
   "execution_count": 17,
   "id": "1b301cd9-7c88-4433-8936-bbc3d977dd7b",
   "metadata": {},
   "outputs": [],
   "source": [
    "df['embedding'] = pd.Series([[]]) * len(df)"
   ]
  },
  {
   "cell_type": "code",
   "execution_count": 18,
   "id": "f5d9670b-9ca1-4568-a7ac-002c3266cf45",
   "metadata": {},
   "outputs": [
    {
     "data": {
      "text/html": [
       "<div>\n",
       "<style scoped>\n",
       "    .dataframe tbody tr th:only-of-type {\n",
       "        vertical-align: middle;\n",
       "    }\n",
       "\n",
       "    .dataframe tbody tr th {\n",
       "        vertical-align: top;\n",
       "    }\n",
       "\n",
       "    .dataframe thead th {\n",
       "        text-align: right;\n",
       "    }\n",
       "</style>\n",
       "<table border=\"1\" class=\"dataframe\">\n",
       "  <thead>\n",
       "    <tr style=\"text-align: right;\">\n",
       "      <th></th>\n",
       "      <th>구분</th>\n",
       "      <th>유저</th>\n",
       "      <th>챗봇</th>\n",
       "      <th>embedding</th>\n",
       "    </tr>\n",
       "  </thead>\n",
       "  <tbody>\n",
       "    <tr>\n",
       "      <th>0</th>\n",
       "      <td>감정/감정조절이상</td>\n",
       "      <td>제 감정이 이상해진 것 같아요. 남편만 보면 화가 치밀어 오르고 감정 조절이 안되요.</td>\n",
       "      <td>감정이 조절이 안 될 때만큼 힘들 때는 없는 거 같아요.</td>\n",
       "      <td>[]</td>\n",
       "    </tr>\n",
       "    <tr>\n",
       "      <th>1</th>\n",
       "      <td>감정/감정조절이상</td>\n",
       "      <td>더 이상 내 감정을 내가 컨트롤 못 하겠어.</td>\n",
       "      <td>저도 그 기분 이해해요. 많이 힘드시죠?</td>\n",
       "      <td>NaN</td>\n",
       "    </tr>\n",
       "    <tr>\n",
       "      <th>2</th>\n",
       "      <td>감정/감정조절이상</td>\n",
       "      <td>하루종일 오르락내리락 롤러코스터 타는 기분이에요.</td>\n",
       "      <td>그럴 때는 밥은 잘 먹었는지, 잠은 잘 잤는지 체크해보는 것도 좋아요.</td>\n",
       "      <td>NaN</td>\n",
       "    </tr>\n",
       "    <tr>\n",
       "      <th>15</th>\n",
       "      <td>감정/감정조절이상/화</td>\n",
       "      <td>평소 다른 일을 할 때도 비슷해요. 생각한대로 안되면 화가 나고…그런 상황이 지속되...</td>\n",
       "      <td>화가 폭발할 것 같을 때는 그 자리를 피하는 것도 좋은 방법이라고 생각해요.</td>\n",
       "      <td>NaN</td>\n",
       "    </tr>\n",
       "    <tr>\n",
       "      <th>16</th>\n",
       "      <td>감정/감정조절이상/화</td>\n",
       "      <td>예전보다 화내는 게 과격해진 거 같아.</td>\n",
       "      <td>정말 힘드시겠어요. 화는 남에게도 스스로에게도 상처를 주잖아요.</td>\n",
       "      <td>NaN</td>\n",
       "    </tr>\n",
       "  </tbody>\n",
       "</table>\n",
       "</div>"
      ],
      "text/plain": [
       "             구분                                                 유저  \\\n",
       "0     감정/감정조절이상    제 감정이 이상해진 것 같아요. 남편만 보면 화가 치밀어 오르고 감정 조절이 안되요.   \n",
       "1     감정/감정조절이상                           더 이상 내 감정을 내가 컨트롤 못 하겠어.   \n",
       "2     감정/감정조절이상                        하루종일 오르락내리락 롤러코스터 타는 기분이에요.   \n",
       "15  감정/감정조절이상/화  평소 다른 일을 할 때도 비슷해요. 생각한대로 안되면 화가 나고…그런 상황이 지속되...   \n",
       "16  감정/감정조절이상/화                              예전보다 화내는 게 과격해진 거 같아.   \n",
       "\n",
       "                                            챗봇 embedding  \n",
       "0              감정이 조절이 안 될 때만큼 힘들 때는 없는 거 같아요.        []  \n",
       "1                       저도 그 기분 이해해요. 많이 힘드시죠?       NaN  \n",
       "2      그럴 때는 밥은 잘 먹었는지, 잠은 잘 잤는지 체크해보는 것도 좋아요.       NaN  \n",
       "15  화가 폭발할 것 같을 때는 그 자리를 피하는 것도 좋은 방법이라고 생각해요.       NaN  \n",
       "16         정말 힘드시겠어요. 화는 남에게도 스스로에게도 상처를 주잖아요.       NaN  "
      ]
     },
     "execution_count": 18,
     "metadata": {},
     "output_type": "execute_result"
    }
   ],
   "source": [
    "df.head()"
   ]
  },
  {
   "cell_type": "code",
   "execution_count": 19,
   "id": "57011ccc-3d73-4dd7-a096-b78faaa71e8d",
   "metadata": {},
   "outputs": [
    {
     "data": {
      "text/plain": [
       "0       [-0.48060662, -0.29486942, 0.43790022, -0.6401...\n",
       "1       [-1.1561574, -0.14506274, 0.2949036, -0.673949...\n",
       "2       [-0.6652004, -0.081268355, 1.0945568, 0.105792...\n",
       "15      [-0.76790583, 0.4652073, 0.5285071, -0.5076045...\n",
       "16      [-0.20277718, -0.37413934, 0.04053212, -0.8624...\n",
       "                              ...                        \n",
       "5196    [-0.18907858, -0.43884447, 0.39459082, -0.2362...\n",
       "5197    [-0.5251449, -0.46516117, -0.26985374, -0.3506...\n",
       "5213    [-0.6814687, -0.11450246, 0.038397163, -0.2865...\n",
       "5214    [-0.18132992, -0.10980904, -0.21448663, -0.443...\n",
       "5215    [-0.53017116, -0.15990543, 0.49804136, -0.0031...\n",
       "Name: 유저, Length: 1034, dtype: object"
      ]
     },
     "execution_count": 19,
     "metadata": {},
     "output_type": "execute_result"
    }
   ],
   "source": [
    "df['유저'].map(lambda x : list(model.encode(x)))"
   ]
  },
  {
   "cell_type": "code",
   "execution_count": 20,
   "id": "a741b553-5917-4d3a-811d-0ca0b37b8191",
   "metadata": {},
   "outputs": [
    {
     "data": {
      "text/html": [
       "<div>\n",
       "<style scoped>\n",
       "    .dataframe tbody tr th:only-of-type {\n",
       "        vertical-align: middle;\n",
       "    }\n",
       "\n",
       "    .dataframe tbody tr th {\n",
       "        vertical-align: top;\n",
       "    }\n",
       "\n",
       "    .dataframe thead th {\n",
       "        text-align: right;\n",
       "    }\n",
       "</style>\n",
       "<table border=\"1\" class=\"dataframe\">\n",
       "  <thead>\n",
       "    <tr style=\"text-align: right;\">\n",
       "      <th></th>\n",
       "      <th>구분</th>\n",
       "      <th>유저</th>\n",
       "      <th>챗봇</th>\n",
       "      <th>embedding</th>\n",
       "    </tr>\n",
       "  </thead>\n",
       "  <tbody>\n",
       "    <tr>\n",
       "      <th>0</th>\n",
       "      <td>감정/감정조절이상</td>\n",
       "      <td>제 감정이 이상해진 것 같아요. 남편만 보면 화가 치밀어 오르고 감정 조절이 안되요.</td>\n",
       "      <td>감정이 조절이 안 될 때만큼 힘들 때는 없는 거 같아요.</td>\n",
       "      <td>[]</td>\n",
       "    </tr>\n",
       "  </tbody>\n",
       "</table>\n",
       "</div>"
      ],
      "text/plain": [
       "          구분                                               유저  \\\n",
       "0  감정/감정조절이상  제 감정이 이상해진 것 같아요. 남편만 보면 화가 치밀어 오르고 감정 조절이 안되요.   \n",
       "\n",
       "                                챗봇 embedding  \n",
       "0  감정이 조절이 안 될 때만큼 힘들 때는 없는 거 같아요.        []  "
      ]
     },
     "execution_count": 20,
     "metadata": {},
     "output_type": "execute_result"
    }
   ],
   "source": [
    "df.head(1)"
   ]
  },
  {
   "cell_type": "code",
   "execution_count": 21,
   "id": "b608cef5-98eb-44de-8c65-4b3d09d0b20a",
   "metadata": {},
   "outputs": [],
   "source": [
    "df['embedding'] = df['유저'].map(lambda x : list(model.encode(x)))"
   ]
  },
  {
   "cell_type": "code",
   "execution_count": 22,
   "id": "b67c78e9-a0dd-4146-a22e-6ccfe088b773",
   "metadata": {},
   "outputs": [
    {
     "data": {
      "text/html": [
       "<div>\n",
       "<style scoped>\n",
       "    .dataframe tbody tr th:only-of-type {\n",
       "        vertical-align: middle;\n",
       "    }\n",
       "\n",
       "    .dataframe tbody tr th {\n",
       "        vertical-align: top;\n",
       "    }\n",
       "\n",
       "    .dataframe thead th {\n",
       "        text-align: right;\n",
       "    }\n",
       "</style>\n",
       "<table border=\"1\" class=\"dataframe\">\n",
       "  <thead>\n",
       "    <tr style=\"text-align: right;\">\n",
       "      <th></th>\n",
       "      <th>구분</th>\n",
       "      <th>유저</th>\n",
       "      <th>챗봇</th>\n",
       "      <th>embedding</th>\n",
       "    </tr>\n",
       "  </thead>\n",
       "  <tbody>\n",
       "    <tr>\n",
       "      <th>0</th>\n",
       "      <td>감정/감정조절이상</td>\n",
       "      <td>제 감정이 이상해진 것 같아요. 남편만 보면 화가 치밀어 오르고 감정 조절이 안되요.</td>\n",
       "      <td>감정이 조절이 안 될 때만큼 힘들 때는 없는 거 같아요.</td>\n",
       "      <td>[-0.48060662, -0.29486942, 0.43790022, -0.6401...</td>\n",
       "    </tr>\n",
       "  </tbody>\n",
       "</table>\n",
       "</div>"
      ],
      "text/plain": [
       "          구분                                               유저  \\\n",
       "0  감정/감정조절이상  제 감정이 이상해진 것 같아요. 남편만 보면 화가 치밀어 오르고 감정 조절이 안되요.   \n",
       "\n",
       "                                챗봇  \\\n",
       "0  감정이 조절이 안 될 때만큼 힘들 때는 없는 거 같아요.   \n",
       "\n",
       "                                           embedding  \n",
       "0  [-0.48060662, -0.29486942, 0.43790022, -0.6401...  "
      ]
     },
     "execution_count": 22,
     "metadata": {},
     "output_type": "execute_result"
    }
   ],
   "source": [
    "df.head(1)"
   ]
  },
  {
   "cell_type": "code",
   "execution_count": 23,
   "id": "14917837-47ce-4f3d-ba18-ac4d745a98e5",
   "metadata": {},
   "outputs": [],
   "source": [
    "text = \"요즘 머리가 아프고 너무 힘들어\""
   ]
  },
  {
   "cell_type": "code",
   "execution_count": 24,
   "id": "edbb51aa-0997-4fcd-9bbc-458104604a54",
   "metadata": {},
   "outputs": [],
   "source": [
    "embedding = model.encode(text)"
   ]
  },
  {
   "cell_type": "code",
   "execution_count": 25,
   "id": "1d9026b2-36a2-4085-aa50-2a94baf40636",
   "metadata": {
    "collapsed": true,
    "jupyter": {
     "outputs_hidden": true
    },
    "tags": []
   },
   "outputs": [
    {
     "data": {
      "text/plain": [
       "array([-9.57249284e-01,  1.67378515e-01,  6.70523047e-01, -3.13531965e-01,\n",
       "       -2.76768863e-01,  2.96867728e-01, -2.97859490e-01,  3.42395931e-01,\n",
       "        1.09030325e-02, -4.67539966e-01, -8.57579783e-02, -3.44945610e-01,\n",
       "        2.84939647e-01,  5.31572640e-01, -5.27124345e-01,  1.84969947e-01,\n",
       "        2.17741013e-01,  3.93872380e-01, -1.57064348e-01, -5.73391795e-01,\n",
       "       -7.49523193e-02,  2.74566710e-01,  9.90446448e-01, -8.77375435e-03,\n",
       "        3.51041734e-01, -6.37328625e-01, -8.42437595e-02, -9.72123295e-02,\n",
       "       -1.61820889e-01,  6.72778785e-01,  4.42388356e-01, -4.60908026e-01,\n",
       "        3.03778592e-02,  2.13978738e-01,  2.88779020e-01,  3.33719045e-01,\n",
       "        3.68671983e-01,  1.72203034e-01, -7.12599874e-01, -3.27730700e-02,\n",
       "       -4.89276648e-01,  1.09437096e+00, -3.22224528e-01, -8.17150772e-02,\n",
       "       -8.50811839e-01, -4.27463293e-01,  9.93010327e-02,  1.73196360e-01,\n",
       "       -5.21374524e-01, -5.87178580e-02, -9.80418384e-01, -2.17926890e-01,\n",
       "       -6.34259805e-02,  1.33991629e-01,  9.84491706e-01,  9.95182395e-01,\n",
       "       -4.45372611e-02, -7.78055131e-01,  3.89202029e-01,  3.73868167e-01,\n",
       "        1.13014892e-01, -1.77319497e-02, -4.18295525e-02,  6.71542764e-01,\n",
       "       -1.99397042e-01, -3.49039376e-01,  2.13872045e-01,  2.24931076e-01,\n",
       "       -6.62457347e-01,  9.32800546e-02,  9.01987627e-02,  1.15070295e+00,\n",
       "       -2.72082448e-01, -6.17466807e-01, -6.99186683e-01, -1.94051057e-01,\n",
       "       -3.15291464e-01,  1.76060632e-01,  8.83868575e-01, -4.35829818e-01,\n",
       "       -5.88348985e-01,  3.83077532e-01, -5.84650747e-02, -3.94881308e-01,\n",
       "       -5.39491951e-01, -4.70402420e-01, -8.83783102e-02, -2.82558143e-01,\n",
       "        2.15668350e-01,  4.71254766e-01,  7.38936216e-02, -7.86265433e-01,\n",
       "       -1.93426520e-01, -7.12435544e-01,  9.39676464e-01,  3.72996718e-01,\n",
       "       -1.56604439e-01, -6.85578138e-02, -2.33019561e-01,  1.41595110e-01,\n",
       "        4.54130709e-01, -4.89758402e-01, -5.09784579e-01, -1.67576388e-01,\n",
       "        7.19364405e-01, -1.68819278e-01,  8.15759450e-02,  1.26306251e-01,\n",
       "       -2.22362518e-01, -1.96274489e-01,  9.45546329e-02, -4.05605406e-01,\n",
       "       -9.70428646e-01,  4.40478802e-01, -1.31948441e-01, -4.81420845e-01,\n",
       "        7.77487159e-02, -9.37682670e-03,  2.35013627e-02, -6.69068322e-02,\n",
       "        5.37613571e-01,  5.50741076e-01, -5.89526892e-01, -5.46016812e-01,\n",
       "       -5.18114269e-01, -7.90568218e-02, -3.16005528e-01,  1.54758215e-01,\n",
       "        3.50611150e-01, -1.45503640e-01, -1.37772962e-01, -1.10664390e-01,\n",
       "        4.51425791e-01, -4.74789083e-01,  3.55558455e-01, -5.03691196e-01,\n",
       "       -8.87936726e-02, -4.73138750e-01, -7.69100487e-01, -1.54043227e-01,\n",
       "        1.61268905e-01, -4.52078760e-01, -4.29819003e-02, -4.30727422e-01,\n",
       "       -7.00756669e-01, -2.30485350e-01, -2.53785551e-01, -8.80844519e-02,\n",
       "        8.23685154e-02, -3.41993034e-01, -2.00364828e-01,  4.65403721e-02,\n",
       "        4.70970795e-02,  2.77374208e-01,  2.65497416e-01, -9.69318867e-01,\n",
       "       -1.57602981e-01,  2.39642143e-01,  9.75974947e-02, -1.06446251e-01,\n",
       "       -4.17078644e-01, -1.96663328e-02, -7.73436189e-01,  4.29437637e-01,\n",
       "       -1.81601092e-01,  2.40398884e-01,  7.81407505e-02,  2.77058929e-01,\n",
       "       -3.56334627e-01, -9.70746696e-01, -2.56704055e-02,  8.09280574e-02,\n",
       "        1.87146038e-01,  1.29808024e-01, -6.56189680e-01,  6.48542494e-02,\n",
       "        3.87291521e-01,  2.05166623e-01, -2.87536800e-01, -9.99725640e-01,\n",
       "        9.47343856e-02,  3.60728443e-01, -1.14865422e-01, -5.14935672e-01,\n",
       "        5.29716372e-01, -4.74041514e-02, -2.30046704e-01, -4.79168236e-01,\n",
       "       -1.43960444e-02,  2.26672918e-01,  1.21167921e-01,  7.42354333e-01,\n",
       "       -1.99496895e-01, -2.94964015e-01,  1.73929110e-01, -2.10165024e-01,\n",
       "        3.01295280e-01, -2.77013451e-01,  2.76484698e-01,  9.64334607e-02,\n",
       "        9.25704688e-02, -4.21206862e-01,  1.98412389e-01,  3.60807329e-01,\n",
       "        2.29247123e-01, -4.29953098e-01,  9.10812095e-02,  6.28541529e-01,\n",
       "        3.59458268e-01,  2.91134179e-01, -8.12447369e-01,  4.25312370e-01,\n",
       "        5.71245551e-01, -1.60205275e-01,  1.40592128e-01, -4.85543489e-01,\n",
       "        1.59817666e-01,  2.23933347e-02, -1.19372699e-02, -1.09674945e-01,\n",
       "       -2.69345995e-02, -2.77770579e-01,  9.47169423e-01, -2.33329147e-01,\n",
       "        7.81345665e-01, -3.97774309e-01,  6.40911579e-01, -1.81611374e-01,\n",
       "        3.18675607e-01, -1.53001815e-01,  4.78736788e-01, -2.97539413e-01,\n",
       "        5.07048786e-01, -8.77655983e-01, -5.73075414e-01, -1.77473694e-01,\n",
       "       -4.43122715e-01,  1.73062190e-01,  9.13051143e-02, -5.29071689e-02,\n",
       "       -7.49345660e-01, -1.76945701e-01,  2.59206742e-01,  1.11714900e-01,\n",
       "       -4.52360928e-01,  5.97107053e-01, -7.13248312e-01, -1.46464241e+00,\n",
       "        4.71648544e-01, -3.06117442e-02, -3.24899822e-01,  4.50655185e-02,\n",
       "       -7.21382350e-03,  4.45123374e-01,  2.35106394e-01, -1.99647903e-01,\n",
       "        1.78793613e-02, -5.22778928e-02,  1.21321940e+00, -1.50169611e-01,\n",
       "        1.14894047e-01, -1.03057608e-01,  5.25079429e-01, -2.88256705e-01,\n",
       "       -1.90407969e-02,  2.96759993e-01,  1.46628171e-02, -4.75105196e-01,\n",
       "        8.77722651e-02, -1.13926969e-01, -1.73800543e-01, -3.44137222e-01,\n",
       "        6.96068883e-01, -1.85903274e-02, -8.54206234e-02,  3.22070062e-01,\n",
       "       -8.25532749e-02,  2.72437990e-01, -1.33797631e-01, -3.41938972e-01,\n",
       "        1.00948083e+00, -1.63859159e-01,  7.87232667e-02, -1.10808030e-01,\n",
       "       -8.73470426e-01,  5.85260034e-01,  8.08362842e-01,  1.30982697e-02,\n",
       "       -9.28836167e-01, -3.62477675e-02, -2.85088956e-01,  3.84055793e-01,\n",
       "       -5.23729622e-03, -3.47478986e-01, -3.95827353e-01, -2.38226175e-01,\n",
       "        1.90225437e-01,  3.58183205e-01,  2.13927627e-01,  5.35947740e-01,\n",
       "       -4.36836779e-01,  5.72276354e-01, -9.97813493e-02,  8.00919890e-01,\n",
       "       -5.28132677e-01,  2.59149253e-01, -4.14226234e-01, -2.66821355e-01,\n",
       "       -1.24732219e-01, -6.16452575e-01,  5.81071317e-01, -9.37244236e-01,\n",
       "       -6.05850577e-01, -8.36006165e-01, -3.26647937e-01, -1.64494231e-01,\n",
       "       -1.71258505e-02, -4.77752797e-02,  1.32485703e-01,  4.19214964e-01,\n",
       "       -2.63261348e-01, -2.14375138e-01, -5.40601090e-02, -5.09245992e-01,\n",
       "        2.97857877e-02, -4.30505514e-01,  3.93861234e-01, -4.88013327e-01,\n",
       "        3.12386990e-01,  5.73427975e-01, -4.17421401e-01, -5.23575664e-01,\n",
       "        1.11152627e-01,  2.76335657e-01, -3.01816583e-01, -8.30157325e-02,\n",
       "        8.21902975e-02,  6.33806705e-01, -6.80583060e-01,  3.22017958e-03,\n",
       "       -1.19975343e-01, -1.86905056e-01, -1.86538413e-01, -1.09514415e-01,\n",
       "       -2.52477434e-02,  9.72598076e-01,  3.97224993e-01, -4.91017282e-01,\n",
       "       -6.54931664e-01,  2.65499741e-01,  4.72435057e-01,  3.10168177e-01,\n",
       "       -1.24778986e-01, -4.03338045e-01,  5.76422036e-01,  2.03286767e-01,\n",
       "        7.81729147e-02, -7.09333718e-01,  3.09070438e-01,  7.56449550e-02,\n",
       "        4.30857420e-01,  5.06073892e-01,  3.02780837e-01,  7.26587605e-03,\n",
       "       -7.91364551e-01, -7.54127741e-01,  7.60741681e-02,  8.05495739e-01,\n",
       "        8.59990939e-02,  3.45267504e-01,  2.28466108e-01,  5.23741245e-02,\n",
       "        3.94021153e-01, -4.59759563e-01,  4.52396721e-01,  2.45517299e-01,\n",
       "       -1.32621720e-01,  3.86717618e-01, -1.41629186e-02, -7.41021991e-01,\n",
       "        2.50735998e-01, -1.86153531e-01, -8.01560730e-02, -4.17563826e-01,\n",
       "       -9.07060876e-02, -5.69800258e-01, -2.81822979e-01, -4.12842274e-01,\n",
       "        1.94562301e-01, -1.72410920e-01,  6.39447808e-01, -2.34666914e-02,\n",
       "       -8.74344707e-01, -7.85918012e-02,  2.22868487e-01,  5.48371196e-01,\n",
       "       -7.66719162e-01, -2.15740830e-01, -5.66791818e-02, -4.00249250e-02,\n",
       "        3.50711167e-01,  1.83118165e-01,  2.66305506e-01,  4.93562639e-01,\n",
       "        2.41988033e-01,  1.96048751e-01, -1.81876436e-01, -3.44145596e-01,\n",
       "       -1.77069530e-01,  3.51584166e-01, -3.41855496e-01, -5.56555018e-02,\n",
       "        4.31795835e-01, -7.99559474e-01,  3.17349285e-01,  6.47137702e-01,\n",
       "       -7.73955464e-01,  2.65822083e-01,  3.40418100e-01,  1.69218138e-01,\n",
       "        2.47117132e-01,  4.54454958e-01, -2.93021709e-01, -1.77011564e-01,\n",
       "        5.02877757e-02, -2.07545400e-01, -1.74922630e-01, -2.71214396e-01,\n",
       "       -1.63900957e-01,  2.62509704e-01, -8.94709468e-01, -6.59281552e-01,\n",
       "       -5.15047550e-01, -3.56703877e-01,  6.42303586e-01, -1.80280477e-01,\n",
       "       -4.22773361e-01, -4.05358464e-01, -2.49247983e-01,  8.50553960e-02,\n",
       "        1.14987589e-01, -3.29497814e-01, -8.58082771e-01,  2.86297351e-01,\n",
       "        5.41253924e-01,  3.77855599e-02,  2.99718052e-01, -1.71427727e-01,\n",
       "       -4.19084966e-01,  1.29147634e-01, -4.23736095e-01,  2.22699970e-01,\n",
       "        6.44809663e-01, -2.87688822e-01,  2.86980033e-01,  9.63637054e-01,\n",
       "       -7.17354100e-03,  5.18670201e-01,  5.23308456e-01, -1.01746082e-01,\n",
       "        6.57512486e-01, -5.72560906e-01, -1.48741692e-01, -2.88047373e-01,\n",
       "        1.48743510e-01,  2.98728764e-01,  1.86719708e-02,  2.52209604e-01,\n",
       "        8.46949697e-01, -1.43906340e-01,  3.33374999e-02, -3.59821022e-01,\n",
       "        1.31545484e-01,  6.41125739e-01,  8.04446340e-02,  4.44564015e-01,\n",
       "       -1.00814283e+00, -4.08557653e-01,  1.96168095e-01, -8.78993049e-02,\n",
       "       -4.11562979e-01, -9.91489515e-02,  7.89853409e-02,  3.26190174e-01,\n",
       "        6.09084684e-03, -4.64567184e-01,  7.05232332e-03, -6.64830222e-05,\n",
       "       -4.02521566e-02,  8.44282627e-01, -5.07773757e-01, -4.61101204e-01,\n",
       "       -5.38071990e-01,  2.30925351e-01,  3.87352914e-01, -4.08130944e-01,\n",
       "       -4.38411146e-01, -1.59494281e-01, -5.27788460e-01, -6.89831614e-01,\n",
       "       -5.36735415e-01,  3.04085076e-01,  8.19802582e-01,  1.95523888e-01,\n",
       "        4.44856167e-01,  2.31735073e-02, -3.23602885e-01, -4.54995304e-01,\n",
       "       -2.63479918e-01, -4.45519626e-01, -2.14817017e-01, -2.11474895e-02,\n",
       "       -2.34753698e-01, -8.85277167e-02,  1.61905751e-01,  2.84143656e-01,\n",
       "       -6.22241378e-01,  1.87194422e-01,  6.67179301e-02,  1.77184179e-01,\n",
       "       -6.99455142e-01, -6.02468625e-02, -2.05002934e-01,  9.78859812e-02,\n",
       "        4.31659222e-02,  1.10024762e+00,  1.26449287e-01, -1.76219940e-01,\n",
       "        1.99486122e-01, -2.99165070e-01, -1.93663955e-01,  5.29054582e-01,\n",
       "        1.80529237e-01,  1.72742635e-01,  1.02734208e+00,  3.97798240e-01,\n",
       "       -1.73770133e-02,  2.31427878e-01, -1.67028643e-02,  1.45450562e-01,\n",
       "        4.10254061e-01,  2.55077779e-01, -5.79605579e-01, -2.51617767e-02,\n",
       "       -2.67489552e-01,  3.58028263e-01,  3.04801375e-01,  4.07989204e-01,\n",
       "       -1.78167611e-01,  5.60368076e-02,  2.67469257e-01, -1.09823145e-01,\n",
       "        3.62255603e-01, -4.89369743e-02, -1.17553160e-01, -5.32425761e-01,\n",
       "       -8.49528670e-01, -3.25356930e-01, -9.89920944e-02, -8.49623233e-02,\n",
       "       -8.04362178e-01,  2.87567973e-01, -9.64891434e-01,  1.60685450e-01,\n",
       "        2.11312726e-01, -1.35946646e-01, -5.95388770e-01, -9.64443460e-02,\n",
       "        2.20361426e-01,  1.00132242e-01,  2.93301761e-01, -2.16358632e-01,\n",
       "        4.36448038e-01, -9.36391830e-01,  1.05933690e+00,  3.24625075e-01,\n",
       "       -2.75095165e-01, -5.21192610e-01, -2.27824420e-01, -2.40996912e-01,\n",
       "       -4.01540935e-01,  7.79636726e-02,  2.95671858e-02,  6.52011395e-01,\n",
       "        2.30430052e-01,  2.35129476e-01, -5.27518503e-02, -9.06021222e-02,\n",
       "        1.36127174e-01, -1.30444691e-01,  2.84631282e-01, -5.69257379e-01,\n",
       "        8.41597438e-01, -3.52752626e-01, -5.52669704e-01, -6.89945877e-01,\n",
       "       -3.49624932e-01, -3.42270046e-01, -1.79279093e-02, -8.71502280e-01,\n",
       "        2.47932464e-01, -2.98096955e-01, -1.05452442e+00, -5.85143685e-01,\n",
       "       -5.95801413e-01, -2.05896139e-01,  1.49724960e-01, -6.31761789e-01,\n",
       "       -4.62044328e-01,  1.35590389e-01, -2.64957875e-01, -1.39227057e+00,\n",
       "       -4.17382628e-01,  1.22396231e+00, -2.41851047e-01,  3.75934362e-01,\n",
       "       -6.59699798e-01, -9.74941403e-02,  2.22004861e-01,  3.51293802e-01,\n",
       "       -3.35635245e-01,  1.12576604e+00, -3.43543231e-01,  3.51483226e-02,\n",
       "        3.27455327e-02,  1.13156751e-01,  8.02917480e-01,  3.24254572e-01,\n",
       "       -3.04360390e-01,  3.23156774e-01,  3.91448766e-01, -1.62272960e-01,\n",
       "       -8.67985114e-02,  2.25508526e-01, -3.91664386e-01, -1.27241939e-01,\n",
       "       -3.60929430e-01, -1.30510014e-02, -1.05390117e-01, -7.46883154e-02,\n",
       "        8.27678978e-01, -5.40495753e-01, -4.69420612e-01,  2.60642409e-01,\n",
       "        8.10377479e-01,  5.51055431e-01, -4.73687738e-01, -6.96708784e-02,\n",
       "       -3.33746940e-01,  4.53690201e-01, -7.22808018e-02,  2.90696114e-01,\n",
       "        8.93045723e-01, -2.37372190e-01, -5.78734696e-01, -6.04897738e-01,\n",
       "       -5.53944945e-01,  5.73931217e-01,  1.07593656e+00,  5.17284751e-01,\n",
       "       -2.81668246e-01, -1.14262536e-01,  4.90914911e-01,  1.60036847e-01,\n",
       "       -7.30939135e-02,  1.17963099e+00,  2.92091399e-01,  5.18591940e-01,\n",
       "        2.29986578e-01, -4.67494488e-01,  4.07204688e-01, -9.47607517e-01,\n",
       "       -4.62004662e-01, -1.20222401e-02, -3.91346097e-01,  9.33442339e-02,\n",
       "        2.62674242e-01,  3.86088043e-02, -5.16277909e-01, -3.04472864e-01,\n",
       "       -2.09050328e-01, -1.74327955e-01,  2.38294691e-01,  7.29136825e-01,\n",
       "        3.66081357e-01, -3.87140691e-01,  3.26697886e-01, -4.23299611e-01,\n",
       "        3.71916406e-02,  6.00125611e-01, -3.46566767e-01, -4.11342010e-02,\n",
       "       -2.86384523e-01, -1.11058429e-01, -6.94260448e-02, -4.08281758e-02,\n",
       "        5.98072484e-02, -1.51331037e-01,  3.37889433e-01,  3.04416008e-02,\n",
       "       -6.80780172e-01, -4.29861248e-01,  4.40157503e-01, -1.43967465e-01,\n",
       "       -2.58799225e-01,  5.75905070e-02, -9.81200188e-02, -4.57458258e-01,\n",
       "       -7.59813011e-01,  2.97284842e-01,  3.77283067e-01,  3.25077116e-01,\n",
       "       -3.32702249e-01,  6.30008280e-01, -4.66126621e-01, -5.97305000e-01,\n",
       "       -5.26520491e-01,  9.86973643e-02,  2.32419521e-01, -3.89253467e-01,\n",
       "        2.79549956e-01, -1.85843080e-01, -4.74200875e-01, -2.32391149e-01,\n",
       "       -5.41468263e-01,  2.65063405e-01, -1.98572323e-01,  8.18719864e-01,\n",
       "        3.15703630e-01, -4.54264641e-01,  2.59662449e-01, -8.44417572e-01,\n",
       "        2.39512846e-01, -6.76343381e-01,  5.50182998e-01, -2.34224290e-01,\n",
       "        5.00262797e-01,  2.25073412e-01,  2.81774968e-01, -1.95923567e-01,\n",
       "       -1.40463516e-01,  7.20328391e-01, -7.20073938e-01, -3.56793225e-01,\n",
       "       -5.06315351e-01,  1.64599016e-01,  1.53279856e-01, -4.62230831e-01,\n",
       "       -7.42780119e-02, -4.31060612e-01, -2.98995554e-01, -3.08095478e-02,\n",
       "        2.39851121e-02, -8.65774006e-02, -3.38421196e-01, -1.16840243e-01,\n",
       "       -3.10255997e-02, -2.41601421e-03,  4.40835953e-01, -1.86518595e-01,\n",
       "        4.39011395e-01, -5.72435185e-02, -5.23188949e-01,  3.01242411e-01,\n",
       "        2.82541700e-02,  3.59959990e-01, -2.46796772e-01, -1.61822345e-02],\n",
       "      dtype=float32)"
      ]
     },
     "execution_count": 25,
     "metadata": {},
     "output_type": "execute_result"
    }
   ],
   "source": [
    "embedding"
   ]
  },
  {
   "cell_type": "code",
   "execution_count": 27,
   "id": "42d5d5aa-99f7-4e71-bc97-b3225de9ac81",
   "metadata": {},
   "outputs": [],
   "source": [
    "from sklearn.metrics.pairwise import cosine_similarity"
   ]
  },
  {
   "cell_type": "code",
   "execution_count": 28,
   "id": "83d88903-0b1e-431e-b6dc-6270efb199ba",
   "metadata": {},
   "outputs": [],
   "source": [
    "df['distance'] = df['embedding'].map(lambda x: cosine_similarity([embedding],[x]).squeeze())"
   ]
  },
  {
   "cell_type": "code",
   "execution_count": 29,
   "id": "ea193693-7486-4ed4-897c-c7427132d410",
   "metadata": {},
   "outputs": [
    {
     "data": {
      "text/html": [
       "<div>\n",
       "<style scoped>\n",
       "    .dataframe tbody tr th:only-of-type {\n",
       "        vertical-align: middle;\n",
       "    }\n",
       "\n",
       "    .dataframe tbody tr th {\n",
       "        vertical-align: top;\n",
       "    }\n",
       "\n",
       "    .dataframe thead th {\n",
       "        text-align: right;\n",
       "    }\n",
       "</style>\n",
       "<table border=\"1\" class=\"dataframe\">\n",
       "  <thead>\n",
       "    <tr style=\"text-align: right;\">\n",
       "      <th></th>\n",
       "      <th>구분</th>\n",
       "      <th>유저</th>\n",
       "      <th>챗봇</th>\n",
       "      <th>embedding</th>\n",
       "      <th>distance</th>\n",
       "    </tr>\n",
       "  </thead>\n",
       "  <tbody>\n",
       "    <tr>\n",
       "      <th>0</th>\n",
       "      <td>감정/감정조절이상</td>\n",
       "      <td>제 감정이 이상해진 것 같아요. 남편만 보면 화가 치밀어 오르고 감정 조절이 안되요.</td>\n",
       "      <td>감정이 조절이 안 될 때만큼 힘들 때는 없는 거 같아요.</td>\n",
       "      <td>[-0.48060662, -0.29486942, 0.43790022, -0.6401...</td>\n",
       "      <td>0.448967</td>\n",
       "    </tr>\n",
       "  </tbody>\n",
       "</table>\n",
       "</div>"
      ],
      "text/plain": [
       "          구분                                               유저  \\\n",
       "0  감정/감정조절이상  제 감정이 이상해진 것 같아요. 남편만 보면 화가 치밀어 오르고 감정 조절이 안되요.   \n",
       "\n",
       "                                챗봇  \\\n",
       "0  감정이 조절이 안 될 때만큼 힘들 때는 없는 거 같아요.   \n",
       "\n",
       "                                           embedding  distance  \n",
       "0  [-0.48060662, -0.29486942, 0.43790022, -0.6401...  0.448967  "
      ]
     },
     "execution_count": 29,
     "metadata": {},
     "output_type": "execute_result"
    }
   ],
   "source": [
    "df.head(1)"
   ]
  },
  {
   "cell_type": "code",
   "execution_count": 30,
   "id": "fc105572-4452-4b72-a905-0da0c7910748",
   "metadata": {},
   "outputs": [],
   "source": [
    "answer = df.loc[df['distance'].idxmax()]"
   ]
  },
  {
   "cell_type": "code",
   "execution_count": 31,
   "id": "1789ab5b-4435-4912-a716-8aa00f55d7db",
   "metadata": {},
   "outputs": [
    {
     "name": "stdout",
     "output_type": "stream",
     "text": [
      "으으, 머리가 아프면 정말 힘들죠. 그 마음 정말 이해해요.\n"
     ]
    }
   ],
   "source": [
    "print(answer['챗봇'])"
   ]
  },
  {
   "cell_type": "code",
   "execution_count": 32,
   "id": "c2ee7123-30be-4df6-96c0-6210a2429c09",
   "metadata": {},
   "outputs": [
    {
     "name": "stdout",
     "output_type": "stream",
     "text": [
      "0.8296288251876831\n"
     ]
    }
   ],
   "source": [
    "print(answer['distance'])"
   ]
  },
  {
   "cell_type": "code",
   "execution_count": 33,
   "id": "c225415b-59db-47b3-86a9-7e8638a2b8b6",
   "metadata": {},
   "outputs": [],
   "source": [
    "df.to_csv('12_health_chatbot/wellness_dataset.csv')"
   ]
  },
  {
   "cell_type": "code",
   "execution_count": null,
   "id": "6bfaedb2-f4ce-4cc7-a240-5d324bf964ef",
   "metadata": {},
   "outputs": [],
   "source": []
  }
 ],
 "metadata": {
  "kernelspec": {
   "display_name": "Python 3.9.12 ('base')",
   "language": "python",
   "name": "python3"
  },
  "language_info": {
   "codemirror_mode": {
    "name": "ipython",
    "version": 3
   },
   "file_extension": ".py",
   "mimetype": "text/x-python",
   "name": "python",
   "nbconvert_exporter": "python",
   "pygments_lexer": "ipython3",
   "version": "3.9.12"
  },
  "vscode": {
   "interpreter": {
    "hash": "19f1acc7c50209afd43329b33d240780ae0016510caa2f82f95cf8f303d6b025"
   }
  }
 },
 "nbformat": 4,
 "nbformat_minor": 5
}
